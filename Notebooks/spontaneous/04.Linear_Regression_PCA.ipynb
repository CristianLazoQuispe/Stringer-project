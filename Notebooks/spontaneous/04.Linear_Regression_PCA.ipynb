{
 "cells": [
  {
   "cell_type": "code",
   "execution_count": 51,
   "metadata": {},
   "outputs": [],
   "source": [
    "import os\n",
    "import sys\n",
    "#sys.path.insert(1, '../Src/')\n",
    "import os\n",
    "import numpy as np\n",
    "import matplotlib.pyplot as plt\n",
    "from scipy.stats import zscore\n",
    "from sklearn.decomposition import PCA\n",
    "from umap import UMAP\n",
    "from matplotlib import rcParams\n",
    "from sklearn.model_selection import train_test_split\n",
    "from sklearn.linear_model import LinearRegression\n",
    "from sklearn.metrics import mean_squared_error\n",
    "\n",
    "\n",
    "rcParams['figure.figsize'] = [20, 4]\n",
    "rcParams['font.size'] = 15\n",
    "rcParams['axes.spines.top'] = False\n",
    "rcParams['axes.spines.right'] = False\n",
    "rcParams['figure.autolayout'] = True\n",
    "\n",
    "PATH_DATA = '../../Data/'\n",
    "\n",
    "np.random.seed(42)\n",
    "\n",
    "%matplotlib inline"
   ]
  },
  {
   "cell_type": "code",
   "execution_count": 2,
   "metadata": {},
   "outputs": [],
   "source": [
    "fname = \"stringer_spontaneous.npy\"\n",
    "fname =os.path.join(PATH_DATA,fname)"
   ]
  },
  {
   "cell_type": "code",
   "execution_count": 3,
   "metadata": {},
   "outputs": [
    {
     "name": "stdout",
     "output_type": "stream",
     "text": [
      "dict_keys(['sresp', 'run', 'beh_svd_time', 'beh_svd_mask', 'stat', 'pupilArea', 'pupilCOM', 'xyz'])\n"
     ]
    }
   ],
   "source": [
    "# @title Data loading\n",
    "dat = np.load(fname, allow_pickle=True).item()\n",
    "print(dat.keys())"
   ]
  },
  {
   "cell_type": "markdown",
   "metadata": {},
   "source": [
    "# neural activity vs run"
   ]
  },
  {
   "cell_type": "code",
   "execution_count": 4,
   "metadata": {},
   "outputs": [
    {
     "data": {
      "text/plain": [
       "(7018, 11983)"
      ]
     },
     "execution_count": 4,
     "metadata": {},
     "output_type": "execute_result"
    }
   ],
   "source": [
    "X = dat['sresp'].T\n",
    "X.shape"
   ]
  },
  {
   "cell_type": "code",
   "execution_count": 5,
   "metadata": {},
   "outputs": [],
   "source": [
    "y = dat['run']"
   ]
  },
  {
   "cell_type": "code",
   "execution_count": 10,
   "metadata": {},
   "outputs": [
    {
     "name": "stdout",
     "output_type": "stream",
     "text": [
      "[ 7.5612717 17.174635   2.8123477 15.12147   40.540108   0.\n",
      "  0.         7.5029507  0.         0.       ]\n"
     ]
    },
    {
     "data": {
      "text/plain": [
       "(11983,)"
      ]
     },
     "execution_count": 10,
     "metadata": {},
     "output_type": "execute_result"
    }
   ],
   "source": [
    "print(X[7017,:][:10])\n",
    "X[7017,:].shape"
   ]
  },
  {
   "cell_type": "markdown",
   "metadata": {},
   "source": [
    "### Normalization"
   ]
  },
  {
   "cell_type": "code",
   "execution_count": 11,
   "metadata": {},
   "outputs": [],
   "source": [
    "X = (X-X.mean())/X.std()"
   ]
  },
  {
   "cell_type": "code",
   "execution_count": 12,
   "metadata": {},
   "outputs": [
    {
     "data": {
      "image/png": "[encoded data removed]",
      "text/plain": [
       "<Figure size 432x288 with 1 Axes>"
      ]
     },
     "metadata": {
      "needs_background": "light"
     },
     "output_type": "display_data"
    }
   ],
   "source": [
    "hist = plt.hist(X.flatten(),bins=20)"
   ]
  },
  {
   "cell_type": "code",
   "execution_count": 14,
   "metadata": {},
   "outputs": [
    {
     "name": "stdout",
     "output_type": "stream",
     "text": [
      "Train :  (4913, 11983)\n",
      "Test  :  (2105, 11983)\n"
     ]
    }
   ],
   "source": [
    "\n",
    "n = int(len(X)*0.3)\n",
    "\n",
    "X_train = X[:-n]\n",
    "y_train = y[:-n]\n",
    "\n",
    "X_test  = X[-n:]\n",
    "y_test  = y[-n:]\n",
    "print('Train : ',X_train.shape)\n",
    "print('Test  : ',X_test.shape)"
   ]
  },
  {
   "cell_type": "code",
   "execution_count": 32,
   "metadata": {},
   "outputs": [
    {
     "data": {
      "text/plain": [
       "array([[  3.6778848 , -12.186129  ,   7.1352487 , ...,  -0.9748519 ,\n",
       "         -0.0794651 ,  -0.8800824 ],\n",
       "       [ 26.857355  ,  -4.792169  ,  -6.4135404 , ...,   0.31198496,\n",
       "          0.14838356,  -1.2103605 ],\n",
       "       [ 21.189173  ,   2.2850065 ,   2.7909744 , ...,   0.8237734 ,\n",
       "         -0.07169124,   0.71014476],\n",
       "       ...,\n",
       "       [-14.231797  , -11.633613  , -20.418125  , ...,  -0.46619448,\n",
       "         -0.4549322 ,  -0.989954  ],\n",
       "       [-10.246766  ,  -9.513834  , -17.668814  , ...,  -1.0359343 ,\n",
       "         -0.09488682,  -0.0926573 ],\n",
       "       [ -6.2721205 , -13.348963  , -13.041861  , ...,  -0.61996585,\n",
       "         -0.6191868 ,  -0.9928451 ]], dtype=float32)"
      ]
     },
     "execution_count": 32,
     "metadata": {},
     "output_type": "execute_result"
    }
   ],
   "source": [
    "my_model = PCA(n_components=3000)\n",
    "my_model.fit_transform(X_train)"
   ]
  },
  {
   "cell_type": "code",
   "execution_count": 33,
   "metadata": {},
   "outputs": [],
   "source": [
    "explained_variance_ratio_ = my_model.explained_variance_ratio_"
   ]
  },
  {
   "cell_type": "code",
   "execution_count": 34,
   "metadata": {},
   "outputs": [
    {
     "data": {
      "text/plain": [
       "array([0.02549719, 0.0232868 , 0.01812441, 0.01412792], dtype=float32)"
      ]
     },
     "execution_count": 34,
     "metadata": {},
     "output_type": "execute_result"
    }
   ],
   "source": [
    "explained_variance_ratio_[:4]"
   ]
  },
  {
   "cell_type": "code",
   "execution_count": 35,
   "metadata": {},
   "outputs": [],
   "source": [
    "accumulate_explained_variance_ratio_ = np.cumsum(explained_variance_ratio_)"
   ]
  },
  {
   "cell_type": "code",
   "execution_count": 36,
   "metadata": {},
   "outputs": [
    {
     "data": {
      "text/plain": [
       "array([0.02549719, 0.04878399, 0.0669084 , 0.08103631], dtype=float32)"
      ]
     },
     "execution_count": 36,
     "metadata": {},
     "output_type": "execute_result"
    }
   ],
   "source": [
    "accumulate_explained_variance_ratio_[:4]"
   ]
  },
  {
   "cell_type": "code",
   "execution_count": 37,
   "metadata": {},
   "outputs": [
    {
     "data": {
      "text/plain": [
       "Text(0, 0.5, 'sum explained_variance_ratio')"
      ]
     },
     "execution_count": 37,
     "metadata": {},
     "output_type": "execute_result"
    },
    {
     "data": {
      "image/png": "[encoded data removed]",
      "text/plain": [
       "<Figure size 720x720 with 1 Axes>"
      ]
     },
     "metadata": {
      "needs_background": "light"
     },
     "output_type": "display_data"
    }
   ],
   "source": [
    "fig = plt.figure(figsize=(10,10))\n",
    "\n",
    "plt.plot(range(1,len(accumulate_explained_variance_ratio_)+1),accumulate_explained_variance_ratio_,'--ro')\n",
    "\n",
    "plt.xlabel(\"# components\")\n",
    "plt.ylabel(\"sum explained_variance_ratio\")"
   ]
  },
  {
   "cell_type": "code",
   "execution_count": 38,
   "metadata": {},
   "outputs": [
    {
     "data": {
      "text/plain": [
       "0.8882612"
      ]
     },
     "execution_count": 38,
     "metadata": {},
     "output_type": "execute_result"
    }
   ],
   "source": [
    "accumulate_explained_variance_ratio_[2000]"
   ]
  },
  {
   "cell_type": "code",
   "execution_count": 40,
   "metadata": {},
   "outputs": [
    {
     "name": "stdout",
     "output_type": "stream",
     "text": [
      "Train :  (4913, 11983)\n",
      "Test  :  (2105, 11983)\n"
     ]
    }
   ],
   "source": [
    "print('Train : ',X_train.shape)\n",
    "print('Test  : ',X_test.shape)"
   ]
  },
  {
   "cell_type": "code",
   "execution_count": 39,
   "metadata": {},
   "outputs": [],
   "source": [
    "X_train_pca = my_model.transform(X_train)\n",
    "X_test_pca  = my_model.transform(X_test)"
   ]
  },
  {
   "cell_type": "code",
   "execution_count": 41,
   "metadata": {},
   "outputs": [
    {
     "name": "stdout",
     "output_type": "stream",
     "text": [
      "Train PCA :  (4913, 3000)\n",
      "Test PCA  :  (2105, 3000)\n"
     ]
    }
   ],
   "source": [
    "print('Train PCA : ',X_train_pca.shape)\n",
    "print('Test PCA  : ',X_test_pca.shape)"
   ]
  },
  {
   "cell_type": "markdown",
   "metadata": {},
   "source": [
    "## Linear Regression with positive and negative coefficients"
   ]
  },
  {
   "cell_type": "code",
   "execution_count": 53,
   "metadata": {},
   "outputs": [
    {
     "data": {
      "text/plain": [
       "LinearRegression()"
      ]
     },
     "execution_count": 53,
     "metadata": {},
     "output_type": "execute_result"
    }
   ],
   "source": [
    "my_model_LR_1 = LinearRegression(positive=False)\n",
    "my_model_LR_1.fit(X_train_pca,y_train)"
   ]
  },
  {
   "cell_type": "code",
   "execution_count": 64,
   "metadata": {},
   "outputs": [
    {
     "name": "stdout",
     "output_type": "stream",
     "text": [
      "metric_train_R2  : 0.9508766963103207\n",
      "metric_train_RMSE: 1.4758989514102065\n",
      "metric_test_R2  : 0.8345142841224221\n",
      "metric_test_RMSE: 4.270106286498938\n"
     ]
    }
   ],
   "source": [
    "y_train_pred      = my_model_LR_1.predict(X_train_pca) # metric_train_RMSE: 2.4037369030804003e-05\n",
    "\n",
    "\n",
    "y_train_pred[y_train_pred<=0] = 0  # metric_train_RMSE: 2.196909835364599e-05\n",
    "\n",
    "\n",
    "metric_train_R2   = my_model_LR_1.score(X_train_pca, y_train)\n",
    "metric_train_RMSE = mean_squared_error(y_train, y_train_pred, squared=False)\n",
    "\n",
    "print(\"metric_train_R2  :\",metric_train_R2)\n",
    "print(\"metric_train_RMSE:\",metric_train_RMSE)\n",
    "\n",
    "fig = plt.figure(figsize=(20,10))\n",
    "\n",
    "\n",
    "plt.subplot(2,1,1)\n",
    "plt.plot(range(len(y_train)),y_train,'-bo',alpha=0.5,label='real values')\n",
    "plt.plot(range(len(y_train_pred)),y_train_pred,'-ro',alpha=0.5,label='predicted values')\n",
    "\n",
    "plt.legend(loc=\"upper left\")\n",
    "plt.title('Training data :  RMSE = '+str(np.round(metric_train_RMSE,2)))\n",
    "#plt.show()\n",
    "\n",
    "\n",
    "y_test_pred      = my_model_LR_1.predict(X_test_pca) # metric_test_RMSE: 5.73526388441703\n",
    "\n",
    "y_test_pred[y_test_pred<=0] = 0 #metric_test_RMSE: 5.5218955408988\n",
    "\n",
    "\n",
    "metric_test_R2   = my_model_LR_1.score(X_test_pca, y_test)\n",
    "metric_test_RMSE = mean_squared_error(y_test, y_test_pred, squared=False)\n",
    "\n",
    "print(\"metric_test_R2  :\",metric_test_R2)\n",
    "print(\"metric_test_RMSE:\",metric_test_RMSE)\n",
    "\n",
    "#fig = plt.figure(figsize=(20,5))\n",
    "plt.subplot(2,1,2)\n",
    "plt.plot(range(len(y_test)),y_test,'-bo',alpha=0.5,label='real values')\n",
    "plt.plot(range(len(y_test_pred)),y_test_pred,'-ro',alpha=0.5,label='predicted values')\n",
    "plt.title('Testing data : RMSE = '+str(np.round(metric_test_RMSE,2)))\n",
    "plt.legend(loc=\"upper left\")\n",
    "\n",
    "plt.suptitle('Linear Regression with positive and negative coefficients')\n",
    "plt.show()\n"
   ]
  },
  {
   "cell_type": "code",
   "execution_count": 62,
   "metadata": {},
   "outputs": [],
   "source": [
    "%matplotlib qt"
   ]
  },
  {
   "cell_type": "markdown",
   "metadata": {},
   "source": [
    "## Linear Regression with positive coefficients"
   ]
  },
  {
   "cell_type": "code",
   "execution_count": 56,
   "metadata": {},
   "outputs": [
    {
     "data": {
      "text/plain": [
       "LinearRegression(positive=True)"
      ]
     },
     "execution_count": 56,
     "metadata": {},
     "output_type": "execute_result"
    }
   ],
   "source": [
    "my_model_LR_2 = LinearRegression(positive=True)# POSITIVE = False\n",
    "my_model_LR_2.fit(X_train_pca,y_train)"
   ]
  },
  {
   "cell_type": "code",
   "execution_count": 63,
   "metadata": {},
   "outputs": [
    {
     "name": "stdout",
     "output_type": "stream",
     "text": [
      "metric_train_R2  : 0.9508766963103207\n",
      "metric_train_RMSE: 3.7338986133720034\n",
      "metric_test_R2  : 0.8345142841224221\n",
      "metric_test_RMSE: 6.117236856935283\n"
     ]
    }
   ],
   "source": [
    "y_train_pred      = my_model_LR_2.predict(X_train_pca) # metric_train_RMSE: 2.4037369030804003e-05\n",
    "\n",
    "\n",
    "y_train_pred[y_train_pred<=0] = 0  # metric_train_RMSE: 2.196909835364599e-05\n",
    "\n",
    "\n",
    "metric_train_R2   = my_model_LR_1.score(X_train_pca, y_train)\n",
    "metric_train_RMSE = mean_squared_error(y_train, y_train_pred, squared=False)\n",
    "\n",
    "print(\"metric_train_R2  :\",metric_train_R2)\n",
    "print(\"metric_train_RMSE:\",metric_train_RMSE)\n",
    "\n",
    "fig = plt.figure(figsize=(20,10))\n",
    "\n",
    "\n",
    "plt.subplot(2,1,1)\n",
    "plt.plot(range(len(y_train)),y_train,'-bo',alpha=0.5,label='real values')\n",
    "plt.plot(range(len(y_train_pred)),y_train_pred,'-ro',alpha=0.5,label='predicted values')\n",
    "\n",
    "plt.legend(loc=\"upper left\")\n",
    "plt.title('Training data :  RMSE = '+str(np.round(metric_train_RMSE,2)))\n",
    "#plt.show()\n",
    "\n",
    "\n",
    "y_test_pred      = my_model_LR_2.predict(X_test_pca) # metric_test_RMSE: 5.73526388441703\n",
    "\n",
    "y_test_pred[y_test_pred<=0] = 0 #metric_test_RMSE: 5.5218955408988\n",
    "\n",
    "\n",
    "metric_test_R2   = my_model_LR_1.score(X_test_pca, y_test)\n",
    "metric_test_RMSE = mean_squared_error(y_test, y_test_pred, squared=False)\n",
    "\n",
    "print(\"metric_test_R2  :\",metric_test_R2)\n",
    "print(\"metric_test_RMSE:\",metric_test_RMSE)\n",
    "\n",
    "#fig = plt.figure(figsize=(20,5))\n",
    "plt.subplot(2,1,2)\n",
    "plt.plot(range(len(y_test)),y_test,'-bo',alpha=0.5,label='real values')\n",
    "plt.plot(range(len(y_test_pred)),y_test_pred,'-ro',alpha=0.5,label='predicted values')\n",
    "plt.title('Testing data : RMSE = '+str(np.round(metric_test_RMSE,2)))\n",
    "plt.legend(loc=\"upper left\")\n",
    "\n",
    "plt.suptitle('Linear Regression with positive coefficients')\n",
    "plt.show()\n"
   ]
  },
  {
   "cell_type": "code",
   "execution_count": null,
   "metadata": {},
   "outputs": [],
   "source": []
  },
  {
   "cell_type": "code",
   "execution_count": null,
   "metadata": {},
   "outputs": [],
   "source": []
  }
 ],
 "metadata": {
  "kernelspec": {
   "display_name": "Python 3.7.13 ('nma_env': venv)",
   "language": "python",
   "name": "python3"
  },
  "language_info": {
   "codemirror_mode": {
    "name": "ipython",
    "version": 3
   },
   "file_extension": ".py",
   "mimetype": "text/x-python",
   "name": "python",
   "nbconvert_exporter": "python",
   "pygments_lexer": "ipython3",
   "version": "3.7.13"
  },
  "orig_nbformat": 4,
  "vscode": {
   "interpreter": {
    "hash": "ab03de97cb27e72b9345597031e3c6c730729f021d7ad0cc14a0cc747ba2231e"
   }
  }
 },
 "nbformat": 4,
 "nbformat_minor": 2
}
