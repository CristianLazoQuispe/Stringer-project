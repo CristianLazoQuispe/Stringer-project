{
 "cells": [
  {
   "cell_type": "code",
   "execution_count": 161,
   "id": "08ee253c-a526-4494-9ddc-072f749047ff",
   "metadata": {},
   "outputs": [],
   "source": [
    "import os\n",
    "import glob\n",
    "import sys\n",
    "import pandas as pd"
   ]
  },
  {
   "cell_type": "code",
   "execution_count": 162,
   "id": "14a689d3-7bce-4c14-a5ac-4f7292680bf7",
   "metadata": {},
   "outputs": [],
   "source": [
    "PATH_RESULTS = '../../Results/'\n",
    "PATH_RESULTS_MODELS = '../../Results/Models/'"
   ]
  },
  {
   "cell_type": "code",
   "execution_count": 163,
   "id": "bedcf4cd-52c6-4831-a951-6d56803a7bcd",
   "metadata": {},
   "outputs": [],
   "source": [
    "filename_models = glob.glob(os.path.join(PATH_RESULTS_MODELS,'*[!md]'))"
   ]
  },
  {
   "cell_type": "code",
   "execution_count": 164,
   "id": "95b02bed-7bd1-43f3-b0f5-edaae0b2d1ee",
   "metadata": {},
   "outputs": [],
   "source": [
    "def get_report(model_report,metric,filename_model):\n",
    "    model_report_rmse = pd.DataFrame([model_report[metric].values.T],columns=model_report['type'].values)\n",
    "    model_report_rmse.reset_index(drop=True, inplace=True)\n",
    "    model_report_rmse = model_report_rmse.add_prefix(metric+'_')\n",
    "\n",
    "    model_report_rmse['model']=filename_model\n",
    "    first_column = model_report_rmse.pop('model')\n",
    "    model_report_rmse.insert(0, 'model', first_column)\n",
    "    return model_report_rmse"
   ]
  },
  {
   "cell_type": "code",
   "execution_count": 165,
   "id": "cddca204-70d2-4cf5-8e14-4ad5867a25bf",
   "metadata": {},
   "outputs": [
    {
     "name": "stdout",
     "output_type": "stream",
     "text": [
      "../../Results/Models/LinearRegression/LinearRegression_results.csv\n",
      "../../Results/Models/ElasticNet/ElasticNet_results.csv\n",
      "../../Results/Models/BayesianRidge/BayesianRidge_results.csv\n",
      "../../Results/Models/DecisionTreeRegressor/DecisionTreeRegressor_results.csv\n",
      "../../Results/Models/XGBRegressor/XGBRegressor_results.csv\n",
      "../../Results/Models/SVR/SVR_results.csv\n",
      "../../Results/Models/LGBMRegressor/LGBMRegressor_results.csv\n",
      "../../Results/Models/Ridge/Ridge_results.csv\n",
      "../../Results/Models/Lasso/Lasso_results.csv\n",
      "../../Results/Models/PoissonRegressor/PoissonRegressor_results.csv\n"
     ]
    }
   ],
   "source": [
    "list_rmse = []\n",
    "list_r2   = []\n",
    "\n",
    "for i in filename_models:\n",
    "    filename_model = i.split('/')[-1]\n",
    "    filename_report = os.path.join(PATH_RESULTS_MODELS,filename_model,filename_model+'_results.csv')\n",
    "    \n",
    "    try:\n",
    "        print(filename_report)\n",
    "        model_report = pd.read_csv(filename_report)\n",
    "        \n",
    "        df_rmse = get_report(model_report,'rmse',filename_model)\n",
    "        df_r2 = get_report(model_report,'r2',filename_model)\n",
    "        list_rmse.append(df_rmse)\n",
    "        list_r2.append(df_r2)\n",
    "    except:\n",
    "        pass\n",
    "    "
   ]
  },
  {
   "cell_type": "code",
   "execution_count": 166,
   "id": "eeeb8076-37bb-483c-90e8-c3cbe9670c33",
   "metadata": {},
   "outputs": [],
   "source": [
    "rmse_report = pd.concat(list_rmse)\n",
    "r2_report = pd.concat(list_r2)"
   ]
  },
  {
   "cell_type": "code",
   "execution_count": 167,
   "id": "45a3fce9-2fcd-403d-8f48-a39044f79dbe",
   "metadata": {},
   "outputs": [],
   "source": [
    "report = rmse_report.merge(r2_report,on='model',how='right')"
   ]
  },
  {
   "cell_type": "code",
   "execution_count": 168,
   "id": "c3a4aa36-8ab7-44cf-9273-b23aa01cdd07",
   "metadata": {},
   "outputs": [],
   "source": [
    "report.to_csv(os.path.join(PATH_RESULTS,'total_report.csv'),index=None)"
   ]
  },
  {
   "cell_type": "code",
   "execution_count": null,
   "id": "0017659f-1786-4315-a693-bb13cbe95aab",
   "metadata": {},
   "outputs": [],
   "source": []
  },
  {
   "cell_type": "code",
   "execution_count": null,
   "id": "d128922a-9b48-4fac-80e7-c24962786c5f",
   "metadata": {},
   "outputs": [],
   "source": []
  },
  {
   "cell_type": "code",
   "execution_count": null,
   "id": "e1a09e20-ccac-4d87-b4a5-9ea6cebea886",
   "metadata": {},
   "outputs": [],
   "source": []
  },
  {
   "cell_type": "code",
   "execution_count": null,
   "id": "5d2d20fa-86f1-43ee-8808-91ad1ff84153",
   "metadata": {},
   "outputs": [],
   "source": []
  },
  {
   "cell_type": "code",
   "execution_count": null,
   "id": "ccae0324-c34d-4f5e-8f12-7c01e0b0f62f",
   "metadata": {},
   "outputs": [],
   "source": []
  },
  {
   "cell_type": "code",
   "execution_count": null,
   "id": "45c7d8f4-f20b-4a95-87d0-ec1205d5ec50",
   "metadata": {},
   "outputs": [],
   "source": []
  },
  {
   "cell_type": "code",
   "execution_count": null,
   "id": "6ee4650b-fce9-4aa1-88df-773e575c9408",
   "metadata": {},
   "outputs": [],
   "source": []
  },
  {
   "cell_type": "code",
   "execution_count": null,
   "id": "071c05c3-f331-4397-9ea1-d15b812ed8df",
   "metadata": {},
   "outputs": [],
   "source": []
  }
 ],
 "metadata": {
  "kernelspec": {
   "display_name": "Python 3",
   "language": "python",
   "name": "python3"
  },
  "language_info": {
   "codemirror_mode": {
    "name": "ipython",
    "version": 3
   },
   "file_extension": ".py",
   "mimetype": "text/x-python",
   "name": "python",
   "nbconvert_exporter": "python",
   "pygments_lexer": "ipython3",
   "version": "3.7.13"
  }
 },
 "nbformat": 4,
 "nbformat_minor": 5
}
