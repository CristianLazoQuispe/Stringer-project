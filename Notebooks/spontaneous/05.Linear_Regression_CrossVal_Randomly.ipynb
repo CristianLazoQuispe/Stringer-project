{
 "cells": [
  {
   "cell_type": "code",
   "execution_count": 1,
   "metadata": {},
   "outputs": [],
   "source": [
    "import os\n",
    "import sys\n",
    "#sys.path.insert(1, '../Src/')\n",
    "import os\n",
    "import numpy as np\n",
    "import matplotlib.pyplot as plt\n",
    "from scipy.stats import zscore\n",
    "from sklearn.decomposition import PCA\n",
    "from umap import UMAP\n",
    "from matplotlib import rcParams\n",
    "from sklearn.model_selection import train_test_split\n",
    "from sklearn.linear_model import LinearRegression\n",
    "from sklearn.metrics import mean_squared_error\n",
    "from sklearn.model_selection import KFold\n",
    "\n",
    "rcParams['figure.figsize'] = [20, 4]\n",
    "rcParams['font.size'] = 15\n",
    "rcParams['axes.spines.top'] = False\n",
    "rcParams['axes.spines.right'] = False\n",
    "rcParams['figure.autolayout'] = True\n",
    "\n",
    "PATH_DATA = '../../Data/'\n",
    "\n",
    "np.random.seed(42)\n",
    "\n",
    "%matplotlib inline"
   ]
  },
  {
   "cell_type": "code",
   "execution_count": 2,
   "metadata": {},
   "outputs": [],
   "source": [
    "fname = \"stringer_spontaneous.npy\"\n",
    "fname =os.path.join(PATH_DATA,fname)"
   ]
  },
  {
   "cell_type": "code",
   "execution_count": 3,
   "metadata": {},
   "outputs": [
    {
     "name": "stdout",
     "output_type": "stream",
     "text": [
      "dict_keys(['sresp', 'run', 'beh_svd_time', 'beh_svd_mask', 'stat', 'pupilArea', 'pupilCOM', 'xyz'])\n"
     ]
    }
   ],
   "source": [
    "# @title Data loading\n",
    "dat = np.load(fname, allow_pickle=True).item()\n",
    "print(dat.keys())"
   ]
  },
  {
   "cell_type": "markdown",
   "metadata": {},
   "source": [
    "# neural activity vs run"
   ]
  },
  {
   "cell_type": "code",
   "execution_count": 4,
   "metadata": {},
   "outputs": [
    {
     "data": {
      "text/plain": [
       "(11983, 7018)"
      ]
     },
     "execution_count": 4,
     "metadata": {},
     "output_type": "execute_result"
    }
   ],
   "source": [
    "dat['sresp'].shape"
   ]
  },
  {
   "cell_type": "code",
   "execution_count": 5,
   "metadata": {},
   "outputs": [
    {
     "data": {
      "text/plain": [
       "(7018, 11983)"
      ]
     },
     "execution_count": 5,
     "metadata": {},
     "output_type": "execute_result"
    }
   ],
   "source": [
    "X = dat['sresp'].T\n",
    "X.shape"
   ]
  },
  {
   "cell_type": "code",
   "execution_count": 6,
   "metadata": {},
   "outputs": [
    {
     "data": {
      "text/plain": [
       "array([ 2.9820833,  5.001608 ,  7.6890087, ..., 91.94794  ,  0.       ,\n",
       "        1.1490179], dtype=float32)"
      ]
     },
     "execution_count": 6,
     "metadata": {},
     "output_type": "execute_result"
    }
   ],
   "source": [
    "X[0]"
   ]
  },
  {
   "cell_type": "code",
   "execution_count": 7,
   "metadata": {},
   "outputs": [],
   "source": [
    "y = dat['run']"
   ]
  },
  {
   "cell_type": "code",
   "execution_count": 8,
   "metadata": {},
   "outputs": [
    {
     "data": {
      "text/plain": [
       "array([0.04362508])"
      ]
     },
     "execution_count": 8,
     "metadata": {},
     "output_type": "execute_result"
    }
   ],
   "source": [
    "y[0]"
   ]
  },
  {
   "cell_type": "markdown",
   "metadata": {},
   "source": [
    "# remove outliers"
   ]
  },
  {
   "cell_type": "code",
   "execution_count": 9,
   "metadata": {},
   "outputs": [
    {
     "name": "stdout",
     "output_type": "stream",
     "text": [
      "percentile 25:  0.0\n",
      "percentile 50:  15.809068202972412\n",
      "percentile 75:  48.536081314086914\n",
      "percentile 90:  96.9262748718262\n",
      "percentile 100:  2417.7021484375\n"
     ]
    }
   ],
   "source": [
    "total_sresp = X.flatten()\n",
    "for percentile in [25,50,75,90,100]:\n",
    "    print('percentile '+str(percentile)+': ',np.percentile(total_sresp, percentile))"
   ]
  },
  {
   "cell_type": "code",
   "execution_count": 10,
   "metadata": {},
   "outputs": [
    {
     "name": "stdout",
     "output_type": "stream",
     "text": [
      "threshold : 143.89718170165997\n"
     ]
    }
   ],
   "source": [
    "threshold = np.percentile(total_sresp, 95)\n",
    "print('threshold :',threshold)"
   ]
  },
  {
   "cell_type": "code",
   "execution_count": 11,
   "metadata": {},
   "outputs": [],
   "source": [
    "threshold = 1000"
   ]
  },
  {
   "cell_type": "code",
   "execution_count": 12,
   "metadata": {},
   "outputs": [
    {
     "data": {
      "text/plain": [
       "(7018, 11983)"
      ]
     },
     "execution_count": 12,
     "metadata": {},
     "output_type": "execute_result"
    }
   ],
   "source": [
    "X.shape"
   ]
  },
  {
   "cell_type": "code",
   "execution_count": 13,
   "metadata": {},
   "outputs": [],
   "source": [
    "columns_id = []\n",
    "outliers_columns_id = []\n",
    "\n",
    "for i in range(X.shape[1]):\n",
    "    values = X[:,i]\n",
    "    if np.sum(values>threshold)==0:\n",
    "        columns_id.append(i)\n",
    "    else:\n",
    "        outliers_columns_id.append(i)"
   ]
  },
  {
   "cell_type": "code",
   "execution_count": 14,
   "metadata": {},
   "outputs": [
    {
     "data": {
      "text/plain": [
       "0"
      ]
     },
     "execution_count": 14,
     "metadata": {},
     "output_type": "execute_result"
    }
   ],
   "source": [
    "np.sum(X[:,100]>threshold)"
   ]
  },
  {
   "cell_type": "code",
   "execution_count": 15,
   "metadata": {},
   "outputs": [
    {
     "data": {
      "text/plain": [
       "8277"
      ]
     },
     "execution_count": 15,
     "metadata": {},
     "output_type": "execute_result"
    }
   ],
   "source": [
    "len(columns_id)"
   ]
  },
  {
   "cell_type": "code",
   "execution_count": 16,
   "metadata": {},
   "outputs": [
    {
     "data": {
      "image/png": "[encoded data removed]",
      "text/plain": [
       "<Figure size 1440x720 with 6 Axes>"
      ]
     },
     "metadata": {
      "needs_background": "light"
     },
     "output_type": "display_data"
    }
   ],
   "source": [
    "fig, axs = plt.subplots(6, 1,figsize=(20,10))\n",
    "cnt = 0\n",
    "for idx,color in zip(outliers_columns_id[-6:],['r','b','g','c','b','y']):\n",
    "    axs[cnt].plot(X[:,idx],'-'+color+'o')\n",
    "    axs[cnt].set_xlabel('time')\n",
    "    axs[cnt].set_ylabel('neural activity')\n",
    "    axs[cnt].set_title('neuron '+str(idx))\n",
    "    axs[cnt].grid(True)\n",
    "    cnt+=1"
   ]
  },
  {
   "cell_type": "code",
   "execution_count": null,
   "metadata": {},
   "outputs": [],
   "source": []
  },
  {
   "cell_type": "code",
   "execution_count": 17,
   "metadata": {},
   "outputs": [
    {
     "name": "stdout",
     "output_type": "stream",
     "text": [
      "X :  (7018, 11983)\n",
      "X :  (7018, 11983)\n"
     ]
    }
   ],
   "source": [
    "print('X : ',X.shape)\n",
    "#X = X[:,columns_id]\n",
    "print('X : ',X.shape)\n"
   ]
  },
  {
   "cell_type": "code",
   "execution_count": null,
   "metadata": {},
   "outputs": [],
   "source": []
  },
  {
   "cell_type": "markdown",
   "metadata": {},
   "source": [
    "### Normalization"
   ]
  },
  {
   "cell_type": "code",
   "execution_count": 18,
   "metadata": {},
   "outputs": [],
   "source": [
    "X = (X-X.mean())/X.std()"
   ]
  },
  {
   "cell_type": "markdown",
   "metadata": {},
   "source": [
    "## temporal split"
   ]
  },
  {
   "cell_type": "code",
   "execution_count": 19,
   "metadata": {},
   "outputs": [
    {
     "name": "stdout",
     "output_type": "stream",
     "text": [
      "Train :  (4913, 11983)\n",
      "Test  :  (2105, 11983)\n"
     ]
    }
   ],
   "source": [
    "n = int(len(X)*0.3)\n",
    "\n",
    "X_train = X[:-n]\n",
    "y_train = y[:-n]\n",
    "\n",
    "X_test  = X[-n:]\n",
    "y_test  = y[-n:]\n",
    "\n",
    "print('Train : ',X_train.shape)\n",
    "print('Test  : ',X_test.shape)"
   ]
  },
  {
   "cell_type": "markdown",
   "metadata": {},
   "source": [
    "## Dimensionality reduction with PCA"
   ]
  },
  {
   "cell_type": "code",
   "execution_count": 20,
   "metadata": {},
   "outputs": [],
   "source": [
    "my_model = PCA(n_components=3000)\n",
    "my_model.fit_transform(X_train)\n",
    "\n",
    "\n",
    "explained_variance_ratio_ = my_model.explained_variance_ratio_"
   ]
  },
  {
   "cell_type": "code",
   "execution_count": 21,
   "metadata": {},
   "outputs": [],
   "source": [
    "accumulate_explained_variance_ratio_ = np.cumsum(explained_variance_ratio_)"
   ]
  },
  {
   "cell_type": "code",
   "execution_count": null,
   "metadata": {},
   "outputs": [],
   "source": []
  },
  {
   "cell_type": "code",
   "execution_count": 22,
   "metadata": {},
   "outputs": [
    {
     "data": {
      "text/plain": [
       "Text(0, 0.5, 'sum explained_variance_ratio')"
      ]
     },
     "execution_count": 22,
     "metadata": {},
     "output_type": "execute_result"
    },
    {
     "data": {
      "image/png": "[encoded data removed]",
      "text/plain": [
       "<Figure size 720x720 with 1 Axes>"
      ]
     },
     "metadata": {
      "needs_background": "light"
     },
     "output_type": "display_data"
    }
   ],
   "source": [
    "fig = plt.figure(figsize=(10,10))\n",
    "\n",
    "plt.plot(range(1,len(accumulate_explained_variance_ratio_)+1),accumulate_explained_variance_ratio_,'--ro')\n",
    "\n",
    "plt.xlabel(\"# components\")\n",
    "plt.ylabel(\"sum explained_variance_ratio\")"
   ]
  },
  {
   "cell_type": "code",
   "execution_count": 23,
   "metadata": {},
   "outputs": [
    {
     "data": {
      "text/plain": [
       "0.88826174"
      ]
     },
     "execution_count": 23,
     "metadata": {},
     "output_type": "execute_result"
    }
   ],
   "source": [
    "accumulate_explained_variance_ratio_[2000]"
   ]
  },
  {
   "cell_type": "code",
   "execution_count": 24,
   "metadata": {},
   "outputs": [
    {
     "name": "stdout",
     "output_type": "stream",
     "text": [
      "Train :  (4913, 11983)\n",
      "Test  :  (2105, 11983)\n"
     ]
    }
   ],
   "source": [
    "print('Train : ',X_train.shape)\n",
    "print('Test  : ',X_test.shape)"
   ]
  },
  {
   "cell_type": "code",
   "execution_count": 25,
   "metadata": {},
   "outputs": [],
   "source": [
    "X_train_pca = my_model.transform(X_train)[:,:2000]\n",
    "X_test_pca  = my_model.transform(X_test)[:,:2000]"
   ]
  },
  {
   "cell_type": "code",
   "execution_count": 26,
   "metadata": {},
   "outputs": [
    {
     "name": "stdout",
     "output_type": "stream",
     "text": [
      "Train PCA :  (4913, 2000)\n",
      "Test PCA  :  (2105, 2000)\n"
     ]
    }
   ],
   "source": [
    "print('Train PCA : ',X_train_pca.shape)\n",
    "print('Test PCA  : ',X_test_pca.shape)"
   ]
  },
  {
   "cell_type": "code",
   "execution_count": 27,
   "metadata": {},
   "outputs": [],
   "source": [
    "model = LinearRegression(positive=False)\n",
    "model_name = \"LinearRegression\"\n",
    "\n"
   ]
  },
  {
   "cell_type": "code",
   "execution_count": null,
   "metadata": {},
   "outputs": [],
   "source": []
  },
  {
   "cell_type": "code",
   "execution_count": null,
   "metadata": {},
   "outputs": [],
   "source": []
  },
  {
   "cell_type": "code",
   "execution_count": null,
   "metadata": {},
   "outputs": [],
   "source": []
  },
  {
   "cell_type": "markdown",
   "metadata": {},
   "source": [
    "### crossval_randomly"
   ]
  },
  {
   "cell_type": "code",
   "execution_count": 28,
   "metadata": {},
   "outputs": [
    {
     "name": "stdout",
     "output_type": "stream",
     "text": [
      "******************************\n",
      "Fold  0\n",
      "********************\n",
      "metric_train_RMSE: 3.77811110745155e-05\n",
      "metric_val_RMSE: 3.9481966721604347\n",
      "metric_test_RMSE_act: 5.229785992570696\n",
      "Fold  1\n",
      "********************\n",
      "metric_train_RMSE: 2.984414322195634e-05\n",
      "metric_val_RMSE: 4.831578761865353\n",
      "metric_test_RMSE_act: 4.808701881420604\n",
      "Fold  2\n",
      "********************\n",
      "metric_train_RMSE: 4.084924941321615e-05\n",
      "metric_val_RMSE: 2.651350098002304\n",
      "metric_test_RMSE_act: 5.111364830224462\n",
      "Fold  3\n",
      "********************\n",
      "metric_train_RMSE: 3.937140776680244e-05\n",
      "metric_val_RMSE: 3.446273219873651\n",
      "metric_test_RMSE_act: 5.101843727221591\n",
      "Fold  4\n",
      "********************\n",
      "metric_train_RMSE: 3.97032557226917e-05\n",
      "metric_val_RMSE: 3.6387740546960288\n",
      "metric_test_RMSE_act: 5.101169787919359\n",
      "Total mean metric train RMSE: 3.750983343983642e-05\n",
      "Total mean metric val   RMSE: 3.7032345613195545\n",
      "Total mean metric test  RMSE: 4.654687173044406\n",
      "******************************\n",
      "Total mean metric train RMSE: 3.750983343983642e-05\n",
      "Total mean metric val   RMSE: 3.7032345613195545\n",
      "Total mean metric test  RMSE: 4.654687173044406\n"
     ]
    }
   ],
   "source": [
    "n= 5\n",
    "metric_train_rmse_arr, metric_val_rmse_arr, metric_test_RMSE_act,testing_predictions = cross_validate(X_train,y_train, n, X_test, y_test)\n",
    "print('Total mean metric train RMSE:',np.mean(metric_train_rmse_arr))\n",
    "print('Total mean metric val   RMSE:',np.mean(metric_val_rmse_arr))\n",
    "print(\"Total mean metric test  RMSE:\", metric_test_RMSE_act)"
   ]
  },
  {
   "cell_type": "markdown",
   "metadata": {},
   "source": [
    "### PCA + crossval_randomly"
   ]
  },
  {
   "cell_type": "code",
   "execution_count": 31,
   "metadata": {},
   "outputs": [
    {
     "name": "stdout",
     "output_type": "stream",
     "text": [
      "******************************\n",
      "Fold  0\n",
      "********************\n",
      "metric_train_RMSE: 1.7038008478604665\n",
      "metric_val_RMSE: 3.711442565535749\n",
      "metric_test_RMSE_act: 4.549097280908901\n",
      "Fold  1\n",
      "********************\n",
      "metric_train_RMSE: 1.4206133344233813\n",
      "metric_val_RMSE: 4.715778492423385\n",
      "metric_test_RMSE_act: 4.415101628663283\n",
      "Fold  2\n",
      "********************\n",
      "metric_train_RMSE: 1.788456017368482\n",
      "metric_val_RMSE: 2.6994883290924943\n",
      "metric_test_RMSE_act: 4.582117250790045\n",
      "Fold  3\n",
      "********************\n",
      "metric_train_RMSE: 1.7112376246007825\n",
      "metric_val_RMSE: 3.4165816003806673\n",
      "metric_test_RMSE_act: 4.609772788388426\n",
      "Fold  4\n",
      "********************\n",
      "metric_train_RMSE: 1.6997410669941049\n",
      "metric_val_RMSE: 3.5262199048059175\n",
      "metric_test_RMSE_act: 4.577014235152863\n",
      "Total mean metric train RMSE: 1.6647697782494433\n",
      "Total mean metric val   RMSE: 3.613902178447643\n",
      "Total mean metric test  RMSE: 4.370121658145049\n",
      "******************************\n",
      "Total mean metric train RMSE: 1.6647697782494433\n",
      "Total mean metric val   RMSE: 3.613902178447643\n",
      "Total mean metric test  RMSE: 4.370121658145049\n"
     ]
    }
   ],
   "source": [
    "n= 5\n",
    "metric_train_rmse_arr, metric_val_rmse_arr, metric_test_RMSE_act,testing_predictions = cross_validate(X_train_pca,y_train, n, X_test_pca, y_test)\n",
    "print('Total mean metric train RMSE:',np.mean(metric_train_rmse_arr))\n",
    "print('Total mean metric val   RMSE:',np.mean(metric_val_rmse_arr))\n",
    "print(\"Total mean metric test  RMSE:\", metric_test_RMSE_act)"
   ]
  },
  {
   "cell_type": "code",
   "execution_count": null,
   "metadata": {},
   "outputs": [],
   "source": []
  },
  {
   "cell_type": "code",
   "execution_count": null,
   "metadata": {},
   "outputs": [],
   "source": []
  }
 ],
 "metadata": {
  "kernelspec": {
   "display_name": "Python 3",
   "language": "python",
   "name": "python3"
  },
  "language_info": {
   "codemirror_mode": {
    "name": "ipython",
    "version": 3
   },
   "file_extension": ".py",
   "mimetype": "text/x-python",
   "name": "python",
   "nbconvert_exporter": "python",
   "pygments_lexer": "ipython3",
   "version": "3.7.13"
  },
  "vscode": {
   "interpreter": {
    "hash": "ab03de97cb27e72b9345597031e3c6c730729f021d7ad0cc14a0cc747ba2231e"
   }
  }
 },
 "nbformat": 4,
 "nbformat_minor": 4
}
