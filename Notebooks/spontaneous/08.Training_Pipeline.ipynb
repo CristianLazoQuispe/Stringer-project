{
 "cells": [
  {
   "cell_type": "code",
   "execution_count": 1,
   "id": "4b14b0dc-f7d8-4bd8-841e-08db70781dce",
   "metadata": {},
   "outputs": [],
   "source": [
    "import os\n",
    "import sys\n",
    "sys.path.insert(1, '../../Src/')\n",
    "import numpy as np\n",
    "from utils import preprocessing\n",
    "from models import training\n",
    "from models import models\n",
    "from utils import make_report\n",
    "\n",
    "PATH_DATA          = '../../Data/'\n",
    "PATH_MODEL         = '../../Results/Models/'\n",
    "PATH_RESULTS = '../../Results/'\n",
    "\n",
    "\n",
    "FNMAME             = \"stringer_spontaneous.npy\"\n",
    "FEATURES           = \"sresp\"\n",
    "\n",
    "\n",
    "THRESHOLDING_FLAG  = False\n",
    "THRESHOLDING_MAX   = 95  # 95%\n",
    "\n",
    "\n",
    "NORMALIZATION_FLAG = True\n",
    "TEST_SIZE          = 0.2\n",
    "\n",
    "PCA_FLAG           = True\n",
    "\n",
    "\n",
    "\n",
    "N_SPLITS = 5\n",
    "\n",
    "\n",
    "np.random.seed(42)\n",
    "\n",
    "%matplotlib inline\n",
    "%load_ext autoreload \n",
    "%autoreload 2"
   ]
  },
  {
   "cell_type": "code",
   "execution_count": 2,
   "id": "46b7515d-1143-4270-8427-ee93b30a14df",
   "metadata": {},
   "outputs": [],
   "source": [
    "targets = [\"run\"]#,\"pupilArea\",\"pupilCOM_x\",\"pupilCOM_y\"]  #  \n",
    "variances = [0.75]#[0.25,0.5,0.75,0.9]"
   ]
  },
  {
   "cell_type": "code",
   "execution_count": 3,
   "id": "eae73396-07bd-44c3-9a63-c1623ef1baeb",
   "metadata": {
    "scrolled": true,
    "tags": []
   },
   "outputs": [
    {
     "name": "stdout",
     "output_type": "stream",
     "text": [
      "******************** run ********************\n",
      "dict_keys(['sresp', 'run', 'beh_svd_time', 'beh_svd_mask', 'stat', 'pupilArea', 'pupilCOM', 'xyz'])\n",
      " X size : (7018, 11983)\n",
      " y size : (7018, 1)\n",
      "X train :  (5264, 11983) y train : (5264, 1)\n",
      "X test  :  (1754, 11983) y test  : (1754, 1)\n",
      "Normalization process ..\n",
      "X train : mean [0]= 6.6743774 std [0]= 6.6743774\n",
      "X test  : mean [0]= 7.5208654 std [0]= 8.151653\n",
      "Normalization completed!\n",
      "X train : mean [0]= 1.9628543e-07 std [0]= 1.9628543e-07\n",
      "X test  : mean [0]= 0.1156612 std [0]= 1.1138103\n",
      "PCA processing ..\n",
      "X_train size : (5264, 11983)\n",
      "X_test size  : (1754, 11983)\n",
      "PCA completed!\n",
      "# principal components : 2162\n",
      "max variance explained : 0.75013375\n",
      "X_train_pca size : (5264, 2162)\n",
      "X_test_pca size  : (1754, 2162)\n",
      "**********  Training  LinearRegression **********\n",
      "*****  Fold  1 *****\n",
      "Train fold : RMSE = 1.95745 R2 = 0.94353\n",
      "Val  fold  : RMSE = 3.67902 R2 = 0.78464\n",
      "Test total : RMSE = 3.6634 R2 = 0.88117\n",
      "Saving model ...\n",
      "Model saved !  in  ../../Results/Models/LinearRegression/LinearRegression_fold_1.pkl\n",
      "*****  Fold  2 *****\n",
      "Train fold : RMSE = 2.00556 R2 = 0.94081\n",
      "Val  fold  : RMSE = 3.4437 R2 = 0.81046\n",
      "Test total : RMSE = 3.65188 R2 = 0.88192\n",
      "Saving model ...\n",
      "Model saved !  in  ../../Results/Models/LinearRegression/LinearRegression_fold_2.pkl\n",
      "*****  Fold  3 *****\n",
      "Train fold : RMSE = 1.77077 R2 = 0.95122\n",
      "Val  fold  : RMSE = 4.20868 R2 = 0.77035\n",
      "Test total : RMSE = 3.755 R2 = 0.87515\n",
      "Saving model ...\n",
      "Model saved !  in  ../../Results/Models/LinearRegression/LinearRegression_fold_3.pkl\n",
      "*****  Fold  4 *****\n",
      "Train fold : RMSE = 1.92139 R2 = 0.94445\n",
      "Val  fold  : RMSE = 3.90145 R2 = 0.77775\n",
      "Test total : RMSE = 3.73409 R2 = 0.87654\n",
      "Saving model ...\n",
      "Model saved !  in  ../../Results/Models/LinearRegression/LinearRegression_fold_4.pkl\n",
      "*****  Fold  5 *****\n",
      "Train fold : RMSE = 1.96507 R2 = 0.94308\n",
      "Val  fold  : RMSE = 3.73396 R2 = 0.77875\n",
      "Test total : RMSE = 3.70384 R2 = 0.87853\n",
      "Saving model ...\n",
      "Model saved !  in  ../../Results/Models/LinearRegression/LinearRegression_fold_5.pkl\n",
      "Train mean cv : RMSE = 1.92405 |  R2 =0.94462\n",
      "Val   mean cv : RMSE = 3.79336 |  R2 =0.78439\n",
      "Test  mean cv : RMSE = 3.63017 |  R2 =0.88332\n",
      "Saving plot in  ../../Results/Models/LinearRegression/LinearRegression_test_prediction.png\n",
      "******************************\n",
      "Saving folds report in  ../../Results/Models/LinearRegression/LinearRegression_results_by_fold.csv\n",
      "Saving summary cv report in  ../../Results/Models/LinearRegression/LinearRegression_results.csv\n",
      "**********  Training  ElasticNet **********\n",
      "*****  Fold  1 *****\n",
      "Train fold : RMSE = 1.97895 R2 = 0.94228\n",
      "Val  fold  : RMSE = 3.50647 R2 = 0.80436\n",
      "Test total : RMSE = 3.65501 R2 = 0.88171\n",
      "Saving model ...\n",
      "Model saved !  in  ../../Results/Models/ElasticNet/ElasticNet_fold_1.pkl\n",
      "*****  Fold  2 *****\n",
      "Train fold : RMSE = 2.02515 R2 = 0.93964\n",
      "Val  fold  : RMSE = 3.30246 R2 = 0.82569\n",
      "Test total : RMSE = 3.65074 R2 = 0.88199\n",
      "Saving model ...\n",
      "Model saved !  in  ../../Results/Models/ElasticNet/ElasticNet_fold_2.pkl\n",
      "*****  Fold  3 *****\n",
      "Train fold : RMSE = 1.79104 R2 = 0.9501\n",
      "Val  fold  : RMSE = 4.07404 R2 = 0.78481\n",
      "Test total : RMSE = 3.74162 R2 = 0.87604\n",
      "Saving model ...\n",
      "Model saved !  in  ../../Results/Models/ElasticNet/ElasticNet_fold_3.pkl\n",
      "*****  Fold  4 *****\n",
      "Train fold : RMSE = 1.9435 R2 = 0.94316\n",
      "Val  fold  : RMSE = 3.72672 R2 = 0.79721\n",
      "Test total : RMSE = 3.71752 R2 = 0.87763\n",
      "Saving model ...\n",
      "Model saved !  in  ../../Results/Models/ElasticNet/ElasticNet_fold_4.pkl\n",
      "*****  Fold  5 *****\n",
      "Train fold : RMSE = 1.98529 R2 = 0.9419\n",
      "Val  fold  : RMSE = 3.55891 R2 = 0.799\n",
      "Test total : RMSE = 3.6927 R2 = 0.87926\n",
      "Saving model ...\n",
      "Model saved !  in  ../../Results/Models/ElasticNet/ElasticNet_fold_5.pkl\n",
      "Train mean cv : RMSE = 1.94479 |  R2 =0.94342\n",
      "Val   mean cv : RMSE = 3.63372 |  R2 =0.80221\n",
      "Test  mean cv : RMSE = 3.63204 |  R2 =0.88319\n",
      "Saving plot in  ../../Results/Models/ElasticNet/ElasticNet_test_prediction.png\n",
      "******************************\n",
      "Saving folds report in  ../../Results/Models/ElasticNet/ElasticNet_results_by_fold.csv\n",
      "Saving summary cv report in  ../../Results/Models/ElasticNet/ElasticNet_results.csv\n",
      "**********  Training  BayesianRidge **********\n",
      "*****  Fold  1 *****\n"
     ]
    },
    {
     "name": "stderr",
     "output_type": "stream",
     "text": [
      "/media/cristian/Extreme SSD/Investigacion/NMA/nma_env/lib/python3.7/site-packages/sklearn/utils/validation.py:993: DataConversionWarning: A column-vector y was passed when a 1d array was expected. Please change the shape of y to (n_samples, ), for example using ravel().\n",
      "  y = column_or_1d(y, warn=True)\n"
     ]
    },
    {
     "name": "stdout",
     "output_type": "stream",
     "text": [
      "Train fold : RMSE = 2.24919 R2 = 0.92544\n",
      "Val  fold  : RMSE = 3.03161 R2 = 0.85376\n",
      "Test total : RMSE = 3.71023 R2 = 0.87811\n",
      "Saving model ...\n",
      "Model saved !  in  ../../Results/Models/BayesianRidge/BayesianRidge_fold_1.pkl\n",
      "*****  Fold  2 *****\n"
     ]
    },
    {
     "name": "stderr",
     "output_type": "stream",
     "text": [
      "/media/cristian/Extreme SSD/Investigacion/NMA/nma_env/lib/python3.7/site-packages/sklearn/utils/validation.py:993: DataConversionWarning: A column-vector y was passed when a 1d array was expected. Please change the shape of y to (n_samples, ), for example using ravel().\n",
      "  y = column_or_1d(y, warn=True)\n"
     ]
    },
    {
     "name": "stdout",
     "output_type": "stream",
     "text": [
      "Train fold : RMSE = 2.2907 R2 = 0.92278\n",
      "Val  fold  : RMSE = 2.88243 R2 = 0.86721\n",
      "Test total : RMSE = 3.72339 R2 = 0.87725\n",
      "Saving model ...\n",
      "Model saved !  in  ../../Results/Models/BayesianRidge/BayesianRidge_fold_2.pkl\n",
      "*****  Fold  3 *****\n"
     ]
    },
    {
     "name": "stderr",
     "output_type": "stream",
     "text": [
      "/media/cristian/Extreme SSD/Investigacion/NMA/nma_env/lib/python3.7/site-packages/sklearn/utils/validation.py:993: DataConversionWarning: A column-vector y was passed when a 1d array was expected. Please change the shape of y to (n_samples, ), for example using ravel().\n",
      "  y = column_or_1d(y, warn=True)\n"
     ]
    },
    {
     "name": "stdout",
     "output_type": "stream",
     "text": [
      "Train fold : RMSE = 2.02991 R2 = 0.9359\n",
      "Val  fold  : RMSE = 3.68291 R2 = 0.82414\n",
      "Test total : RMSE = 3.75787 R2 = 0.87496\n",
      "Saving model ...\n",
      "Model saved !  in  ../../Results/Models/BayesianRidge/BayesianRidge_fold_3.pkl\n",
      "*****  Fold  4 *****\n"
     ]
    },
    {
     "name": "stderr",
     "output_type": "stream",
     "text": [
      "/media/cristian/Extreme SSD/Investigacion/NMA/nma_env/lib/python3.7/site-packages/sklearn/utils/validation.py:993: DataConversionWarning: A column-vector y was passed when a 1d array was expected. Please change the shape of y to (n_samples, ), for example using ravel().\n",
      "  y = column_or_1d(y, warn=True)\n"
     ]
    },
    {
     "name": "stdout",
     "output_type": "stream",
     "text": [
      "Train fold : RMSE = 2.219 R2 = 0.9259\n",
      "Val  fold  : RMSE = 3.15617 R2 = 0.85455\n",
      "Test total : RMSE = 3.72713 R2 = 0.877\n",
      "Saving model ...\n",
      "Model saved !  in  ../../Results/Models/BayesianRidge/BayesianRidge_fold_4.pkl\n",
      "*****  Fold  5 *****\n"
     ]
    },
    {
     "name": "stderr",
     "output_type": "stream",
     "text": [
      "/media/cristian/Extreme SSD/Investigacion/NMA/nma_env/lib/python3.7/site-packages/sklearn/utils/validation.py:993: DataConversionWarning: A column-vector y was passed when a 1d array was expected. Please change the shape of y to (n_samples, ), for example using ravel().\n",
      "  y = column_or_1d(y, warn=True)\n"
     ]
    },
    {
     "name": "stdout",
     "output_type": "stream",
     "text": [
      "Train fold : RMSE = 2.24985 R2 = 0.92539\n",
      "Val  fold  : RMSE = 2.97588 R2 = 0.85946\n",
      "Test total : RMSE = 3.7201 R2 = 0.87746\n",
      "Saving model ...\n",
      "Model saved !  in  ../../Results/Models/BayesianRidge/BayesianRidge_fold_5.pkl\n",
      "Train mean cv : RMSE = 2.20773 |  R2 =0.92708\n",
      "Val   mean cv : RMSE = 3.1458 |  R2 =0.85182\n",
      "Test  mean cv : RMSE = 3.7073 |  R2 =0.8783\n",
      "Saving plot in  ../../Results/Models/BayesianRidge/BayesianRidge_test_prediction.png\n",
      "******************************\n",
      "Saving folds report in  ../../Results/Models/BayesianRidge/BayesianRidge_results_by_fold.csv\n",
      "Saving summary cv report in  ../../Results/Models/BayesianRidge/BayesianRidge_results.csv\n",
      "**********  Training  Ridge **********\n",
      "*****  Fold  1 *****\n",
      "Train fold : RMSE = 1.96065 R2 = 0.94334\n",
      "Val  fold  : RMSE = 3.60412 R2 = 0.79332\n",
      "Test total : RMSE = 3.65601 R2 = 0.88165\n",
      "Saving model ...\n",
      "Model saved !  in  ../../Results/Models/Ridge/Ridge_fold_1.pkl\n",
      "*****  Fold  2 *****\n",
      "Train fold : RMSE = 2.00716 R2 = 0.94071\n",
      "Val  fold  : RMSE = 3.40197 R2 = 0.81503\n",
      "Test total : RMSE = 3.652 R2 = 0.88191\n",
      "Saving model ...\n",
      "Model saved !  in  ../../Results/Models/Ridge/Ridge_fold_2.pkl\n",
      "*****  Fold  3 *****\n",
      "Train fold : RMSE = 1.773 R2 = 0.9511\n",
      "Val  fold  : RMSE = 4.15987 R2 = 0.77565\n",
      "Test total : RMSE = 3.74816 R2 = 0.87561\n",
      "Saving model ...\n",
      "Model saved !  in  ../../Results/Models/Ridge/Ridge_fold_3.pkl\n",
      "*****  Fold  4 *****\n",
      "Train fold : RMSE = 1.92461 R2 = 0.94426\n",
      "Val  fold  : RMSE = 3.83887 R2 = 0.78482\n",
      "Test total : RMSE = 3.72776 R2 = 0.87696\n",
      "Saving model ...\n",
      "Model saved !  in  ../../Results/Models/Ridge/Ridge_fold_4.pkl\n",
      "*****  Fold  5 *****\n",
      "Train fold : RMSE = 1.96725 R2 = 0.94295\n",
      "Val  fold  : RMSE = 3.67063 R2 = 0.78619\n",
      "Test total : RMSE = 3.6998 R2 = 0.8788\n",
      "Saving model ...\n",
      "Model saved !  in  ../../Results/Models/Ridge/Ridge_fold_5.pkl\n",
      "Train mean cv : RMSE = 1.92653 |  R2 =0.94447\n",
      "Val   mean cv : RMSE = 3.73509 |  R2 =0.791\n",
      "Test  mean cv : RMSE = 3.62936 |  R2 =0.88337\n",
      "Saving plot in  ../../Results/Models/Ridge/Ridge_test_prediction.png\n",
      "******************************\n",
      "Saving folds report in  ../../Results/Models/Ridge/Ridge_results_by_fold.csv\n",
      "Saving summary cv report in  ../../Results/Models/Ridge/Ridge_results.csv\n",
      "**********  Training  Lasso **********\n",
      "*****  Fold  1 *****\n",
      "Train fold : RMSE = 1.96154 R2 = 0.94329\n",
      "Val  fold  : RMSE = 3.63888 R2 = 0.78931\n",
      "Test total : RMSE = 3.66198 R2 = 0.88126\n",
      "Saving model ...\n",
      "Model saved !  in  ../../Results/Models/Lasso/Lasso_fold_1.pkl\n",
      "*****  Fold  2 *****\n",
      "Train fold : RMSE = 2.0092 R2 = 0.94059\n",
      "Val  fold  : RMSE = 3.41119 R2 = 0.81403\n",
      "Test total : RMSE = 3.65085 R2 = 0.88198\n",
      "Saving model ...\n",
      "Model saved !  in  ../../Results/Models/Lasso/Lasso_fold_2.pkl\n",
      "*****  Fold  3 *****\n",
      "Train fold : RMSE = 1.77445 R2 = 0.95102\n",
      "Val  fold  : RMSE = 4.17569 R2 = 0.77394\n",
      "Test total : RMSE = 3.75218 R2 = 0.87534\n",
      "Saving model ...\n",
      "Model saved !  in  ../../Results/Models/Lasso/Lasso_fold_3.pkl\n",
      "*****  Fold  4 *****\n",
      "Train fold : RMSE = 1.92544 R2 = 0.94421\n",
      "Val  fold  : RMSE = 3.8595 R2 = 0.78251\n",
      "Test total : RMSE = 3.72978 R2 = 0.87682\n",
      "Saving model ...\n",
      "Model saved !  in  ../../Results/Models/Lasso/Lasso_fold_4.pkl\n",
      "*****  Fold  5 *****\n",
      "Train fold : RMSE = 1.96878 R2 = 0.94286\n",
      "Val  fold  : RMSE = 3.6921 R2 = 0.78368\n",
      "Test total : RMSE = 3.70131 R2 = 0.8787\n",
      "Saving model ...\n",
      "Model saved !  in  ../../Results/Models/Lasso/Lasso_fold_5.pkl\n",
      "Train mean cv : RMSE = 1.92788 |  R2 =0.94439\n",
      "Val   mean cv : RMSE = 3.75547 |  R2 =0.78869\n",
      "Test  mean cv : RMSE = 3.63052 |  R2 =0.88329\n",
      "Saving plot in  ../../Results/Models/Lasso/Lasso_test_prediction.png\n",
      "******************************\n",
      "Saving folds report in  ../../Results/Models/Lasso/Lasso_results_by_fold.csv\n",
      "Saving summary cv report in  ../../Results/Models/Lasso/Lasso_results.csv\n",
      "**********  Training  PoissonRegressor **********\n",
      "*****  Fold  1 *****\n"
     ]
    },
    {
     "name": "stderr",
     "output_type": "stream",
     "text": [
      "/media/cristian/Extreme SSD/Investigacion/NMA/nma_env/lib/python3.7/site-packages/sklearn/utils/validation.py:993: DataConversionWarning: A column-vector y was passed when a 1d array was expected. Please change the shape of y to (n_samples, ), for example using ravel().\n",
      "  y = column_or_1d(y, warn=True)\n",
      "/media/cristian/Extreme SSD/Investigacion/NMA/nma_env/lib/python3.7/site-packages/sklearn/linear_model/_glm/glm.py:323: ConvergenceWarning: lbfgs failed to converge (status=1):\n",
      "STOP: TOTAL NO. of ITERATIONS REACHED LIMIT.\n",
      "\n",
      "Increase the number of iterations (max_iter) or scale the data as shown in:\n",
      "    https://scikit-learn.org/stable/modules/preprocessing.html\n",
      "  self.n_iter_ = _check_optimize_result(\"lbfgs\", opt_res)\n",
      "/media/cristian/Extreme SSD/Investigacion/NMA/nma_env/lib/python3.7/site-packages/sklearn/utils/validation.py:993: DataConversionWarning: A column-vector y was passed when a 1d array was expected. Please change the shape of y to (n_samples, ), for example using ravel().\n",
      "  y = column_or_1d(y, warn=True)\n"
     ]
    },
    {
     "name": "stdout",
     "output_type": "stream",
     "text": [
      "Train fold : RMSE = 0.30074 R2 = 0.99867\n",
      "Val  fold  : RMSE = 41.61394 R2 = -26.55407\n",
      "Test total : RMSE = 18.53504 R2 = -2.04192\n",
      "Saving model ...\n",
      "Model saved !  in  ../../Results/Models/PoissonRegressor/PoissonRegressor_fold_1.pkl\n",
      "*****  Fold  2 *****\n"
     ]
    },
    {
     "name": "stderr",
     "output_type": "stream",
     "text": [
      "/media/cristian/Extreme SSD/Investigacion/NMA/nma_env/lib/python3.7/site-packages/sklearn/linear_model/_glm/glm.py:323: ConvergenceWarning: lbfgs failed to converge (status=1):\n",
      "STOP: TOTAL NO. of ITERATIONS REACHED LIMIT.\n",
      "\n",
      "Increase the number of iterations (max_iter) or scale the data as shown in:\n",
      "    https://scikit-learn.org/stable/modules/preprocessing.html\n",
      "  self.n_iter_ = _check_optimize_result(\"lbfgs\", opt_res)\n",
      "/media/cristian/Extreme SSD/Investigacion/NMA/nma_env/lib/python3.7/site-packages/sklearn/utils/validation.py:993: DataConversionWarning: A column-vector y was passed when a 1d array was expected. Please change the shape of y to (n_samples, ), for example using ravel().\n",
      "  y = column_or_1d(y, warn=True)\n"
     ]
    },
    {
     "name": "stdout",
     "output_type": "stream",
     "text": [
      "Train fold : RMSE = 0.3014 R2 = 0.99866\n",
      "Val  fold  : RMSE = 116.15009 R2 = -214.61469\n",
      "Test total : RMSE = 24.15209 R2 = -4.16499\n",
      "Saving model ...\n",
      "Model saved !  in  ../../Results/Models/PoissonRegressor/PoissonRegressor_fold_2.pkl\n",
      "*****  Fold  3 *****\n"
     ]
    },
    {
     "name": "stderr",
     "output_type": "stream",
     "text": [
      "/media/cristian/Extreme SSD/Investigacion/NMA/nma_env/lib/python3.7/site-packages/sklearn/linear_model/_glm/glm.py:323: ConvergenceWarning: lbfgs failed to converge (status=1):\n",
      "STOP: TOTAL NO. of ITERATIONS REACHED LIMIT.\n",
      "\n",
      "Increase the number of iterations (max_iter) or scale the data as shown in:\n",
      "    https://scikit-learn.org/stable/modules/preprocessing.html\n",
      "  self.n_iter_ = _check_optimize_result(\"lbfgs\", opt_res)\n",
      "/media/cristian/Extreme SSD/Investigacion/NMA/nma_env/lib/python3.7/site-packages/sklearn/utils/validation.py:993: DataConversionWarning: A column-vector y was passed when a 1d array was expected. Please change the shape of y to (n_samples, ), for example using ravel().\n",
      "  y = column_or_1d(y, warn=True)\n"
     ]
    },
    {
     "name": "stdout",
     "output_type": "stream",
     "text": [
      "Train fold : RMSE = 0.2754 R2 = 0.99882\n",
      "Val  fold  : RMSE = 155.3149 R2 = -311.75191\n",
      "Test total : RMSE = 20.17318 R2 = -2.60337\n",
      "Saving model ...\n",
      "Model saved !  in  ../../Results/Models/PoissonRegressor/PoissonRegressor_fold_3.pkl\n",
      "*****  Fold  4 *****\n"
     ]
    },
    {
     "name": "stderr",
     "output_type": "stream",
     "text": [
      "/media/cristian/Extreme SSD/Investigacion/NMA/nma_env/lib/python3.7/site-packages/sklearn/linear_model/_glm/glm.py:323: ConvergenceWarning: lbfgs failed to converge (status=1):\n",
      "STOP: TOTAL NO. of ITERATIONS REACHED LIMIT.\n",
      "\n",
      "Increase the number of iterations (max_iter) or scale the data as shown in:\n",
      "    https://scikit-learn.org/stable/modules/preprocessing.html\n",
      "  self.n_iter_ = _check_optimize_result(\"lbfgs\", opt_res)\n",
      "/media/cristian/Extreme SSD/Investigacion/NMA/nma_env/lib/python3.7/site-packages/sklearn/utils/validation.py:993: DataConversionWarning: A column-vector y was passed when a 1d array was expected. Please change the shape of y to (n_samples, ), for example using ravel().\n",
      "  y = column_or_1d(y, warn=True)\n"
     ]
    },
    {
     "name": "stdout",
     "output_type": "stream",
     "text": [
      "Train fold : RMSE = 0.26666 R2 = 0.99893\n",
      "Val  fold  : RMSE = 159.23475 R2 = -369.22238\n",
      "Test total : RMSE = 18.52548 R2 = -2.03878\n",
      "Saving model ...\n",
      "Model saved !  in  ../../Results/Models/PoissonRegressor/PoissonRegressor_fold_4.pkl\n",
      "*****  Fold  5 *****\n"
     ]
    },
    {
     "name": "stderr",
     "output_type": "stream",
     "text": [
      "/media/cristian/Extreme SSD/Investigacion/NMA/nma_env/lib/python3.7/site-packages/sklearn/linear_model/_glm/glm.py:323: ConvergenceWarning: lbfgs failed to converge (status=1):\n",
      "STOP: TOTAL NO. of ITERATIONS REACHED LIMIT.\n",
      "\n",
      "Increase the number of iterations (max_iter) or scale the data as shown in:\n",
      "    https://scikit-learn.org/stable/modules/preprocessing.html\n",
      "  self.n_iter_ = _check_optimize_result(\"lbfgs\", opt_res)\n"
     ]
    },
    {
     "name": "stdout",
     "output_type": "stream",
     "text": [
      "Train fold : RMSE = 0.30589 R2 = 0.99862\n",
      "Val  fold  : RMSE = 89.10887 R2 = -125.00743\n",
      "Test total : RMSE = 20.29296 R2 = -2.64629\n",
      "Saving model ...\n",
      "Model saved !  in  ../../Results/Models/PoissonRegressor/PoissonRegressor_fold_5.pkl\n",
      "Train mean cv : RMSE = 0.29002 |  R2 =0.99874\n",
      "Val   mean cv : RMSE = 112.28451 |  R2 =-209.4301\n",
      "Test  mean cv : RMSE = 17.69322 |  R2 =-1.77188\n",
      "Saving plot in  ../../Results/Models/PoissonRegressor/PoissonRegressor_test_prediction.png\n",
      "******************************\n",
      "Saving folds report in  ../../Results/Models/PoissonRegressor/PoissonRegressor_results_by_fold.csv\n",
      "Saving summary cv report in  ../../Results/Models/PoissonRegressor/PoissonRegressor_results.csv\n",
      "**********  Training  DecisionTreeRegressor **********\n",
      "*****  Fold  1 *****\n",
      "Train fold : RMSE = 0.15583 R2 = 0.99964\n",
      "Val  fold  : RMSE = 4.01026 R2 = 0.74411\n",
      "Test total : RMSE = 5.45131 R2 = 0.73687\n",
      "Saving model ...\n",
      "Model saved !  in  ../../Results/Models/DecisionTreeRegressor/DecisionTreeRegressor_fold_1.pkl\n",
      "*****  Fold  2 *****\n",
      "Train fold : RMSE = 0.1929 R2 = 0.99945\n",
      "Val  fold  : RMSE = 4.89197 R2 = 0.61752\n",
      "Test total : RMSE = 5.33382 R2 = 0.7481\n",
      "Saving model ...\n",
      "Model saved !  in  ../../Results/Models/DecisionTreeRegressor/DecisionTreeRegressor_fold_2.pkl\n",
      "*****  Fold  3 *****\n",
      "Train fold : RMSE = 0.22059 R2 = 0.99924\n",
      "Val  fold  : RMSE = 5.22715 R2 = 0.64576\n",
      "Test total : RMSE = 5.473 R2 = 0.73478\n",
      "Saving model ...\n",
      "Model saved !  in  ../../Results/Models/DecisionTreeRegressor/DecisionTreeRegressor_fold_3.pkl\n",
      "*****  Fold  4 *****\n",
      "Train fold : RMSE = 0.16246 R2 = 0.9996\n",
      "Val  fold  : RMSE = 5.07376 R2 = 0.62412\n",
      "Test total : RMSE = 5.98548 R2 = 0.68278\n",
      "Saving model ...\n",
      "Model saved !  in  ../../Results/Models/DecisionTreeRegressor/DecisionTreeRegressor_fold_4.pkl\n",
      "*****  Fold  5 *****\n",
      "Train fold : RMSE = 0.15737 R2 = 0.99963\n",
      "Val  fold  : RMSE = 4.56818 R2 = 0.66884\n",
      "Test total : RMSE = 5.80545 R2 = 0.70158\n",
      "Saving model ...\n",
      "Model saved !  in  ../../Results/Models/DecisionTreeRegressor/DecisionTreeRegressor_fold_5.pkl\n",
      "Train mean cv : RMSE = 0.17783 |  R2 =0.99951\n",
      "Val   mean cv : RMSE = 4.75426 |  R2 =0.66007\n",
      "Test  mean cv : RMSE = 4.30774 |  R2 =0.83569\n",
      "Saving plot in  ../../Results/Models/DecisionTreeRegressor/DecisionTreeRegressor_test_prediction.png\n",
      "******************************\n",
      "Saving folds report in  ../../Results/Models/DecisionTreeRegressor/DecisionTreeRegressor_results_by_fold.csv\n",
      "Saving summary cv report in  ../../Results/Models/DecisionTreeRegressor/DecisionTreeRegressor_results.csv\n",
      "**********  Training  XGBRegressor **********\n",
      "*****  Fold  1 *****\n",
      "[19:30:16] WARNING: ../src/objective/regression_obj.cu:203: reg:linear is now deprecated in favor of reg:squarederror.\n",
      "[0]\tvalidation_0-rmse:8.07627\tvalidation_1-rmse:7.97154\n"
     ]
    },
    {
     "name": "stderr",
     "output_type": "stream",
     "text": [
      "/media/cristian/Extreme SSD/Investigacion/NMA/nma_env/lib/python3.7/site-packages/xgboost/sklearn.py:797: UserWarning: `eval_metric` in `fit` method is deprecated for better compatibility with scikit-learn, use `eval_metric` in constructor or`set_params` instead.\n",
      "  UserWarning,\n",
      "/media/cristian/Extreme SSD/Investigacion/NMA/nma_env/lib/python3.7/site-packages/xgboost/sklearn.py:797: UserWarning: `early_stopping_rounds` in `fit` method is deprecated for better compatibility with scikit-learn, use `early_stopping_rounds` in constructor or`set_params` instead.\n",
      "  UserWarning,\n"
     ]
    },
    {
     "name": "stdout",
     "output_type": "stream",
     "text": [
      "[50]\tvalidation_0-rmse:0.29263\tvalidation_1-rmse:3.84686\n",
      "[100]\tvalidation_0-rmse:0.04567\tvalidation_1-rmse:3.79499\n",
      "[127]\tvalidation_0-rmse:0.01391\tvalidation_1-rmse:3.79419\n",
      "Train fold : RMSE = 0.01317 R2 = 1.0\n",
      "Val  fold  : RMSE = 3.7941 R2 = 0.77095\n",
      "Test total : RMSE = 4.3904 R2 = 0.82933\n",
      "Saving model ...\n",
      "Model saved !  in  ../../Results/Models/XGBRegressor/XGBRegressor_fold_1.pkl\n",
      "*****  Fold  2 *****\n",
      "[19:30:29] WARNING: ../src/objective/regression_obj.cu:203: reg:linear is now deprecated in favor of reg:squarederror.\n",
      "[0]\tvalidation_0-rmse:8.05936\tvalidation_1-rmse:8.03682\n"
     ]
    },
    {
     "name": "stderr",
     "output_type": "stream",
     "text": [
      "/media/cristian/Extreme SSD/Investigacion/NMA/nma_env/lib/python3.7/site-packages/xgboost/sklearn.py:797: UserWarning: `eval_metric` in `fit` method is deprecated for better compatibility with scikit-learn, use `eval_metric` in constructor or`set_params` instead.\n",
      "  UserWarning,\n",
      "/media/cristian/Extreme SSD/Investigacion/NMA/nma_env/lib/python3.7/site-packages/xgboost/sklearn.py:797: UserWarning: `early_stopping_rounds` in `fit` method is deprecated for better compatibility with scikit-learn, use `early_stopping_rounds` in constructor or`set_params` instead.\n",
      "  UserWarning,\n"
     ]
    },
    {
     "name": "stdout",
     "output_type": "stream",
     "text": [
      "[50]\tvalidation_0-rmse:0.29770\tvalidation_1-rmse:3.77243\n",
      "[100]\tvalidation_0-rmse:0.04428\tvalidation_1-rmse:3.72814\n",
      "[122]\tvalidation_0-rmse:0.01680\tvalidation_1-rmse:3.72787\n",
      "Train fold : RMSE = 0.02457 R2 = 0.99999\n",
      "Val  fold  : RMSE = 3.72771 R2 = 0.77791\n",
      "Test total : RMSE = 4.15924 R2 = 0.84682\n",
      "Saving model ...\n",
      "Model saved !  in  ../../Results/Models/XGBRegressor/XGBRegressor_fold_2.pkl\n",
      "*****  Fold  3 *****\n",
      "[19:30:42] WARNING: ../src/objective/regression_obj.cu:203: reg:linear is now deprecated in favor of reg:squarederror.\n",
      "[0]\tvalidation_0-rmse:7.86442\tvalidation_1-rmse:8.94437\n"
     ]
    },
    {
     "name": "stderr",
     "output_type": "stream",
     "text": [
      "/media/cristian/Extreme SSD/Investigacion/NMA/nma_env/lib/python3.7/site-packages/xgboost/sklearn.py:797: UserWarning: `eval_metric` in `fit` method is deprecated for better compatibility with scikit-learn, use `eval_metric` in constructor or`set_params` instead.\n",
      "  UserWarning,\n",
      "/media/cristian/Extreme SSD/Investigacion/NMA/nma_env/lib/python3.7/site-packages/xgboost/sklearn.py:797: UserWarning: `early_stopping_rounds` in `fit` method is deprecated for better compatibility with scikit-learn, use `early_stopping_rounds` in constructor or`set_params` instead.\n",
      "  UserWarning,\n"
     ]
    },
    {
     "name": "stdout",
     "output_type": "stream",
     "text": [
      "[50]\tvalidation_0-rmse:0.27196\tvalidation_1-rmse:4.35823\n",
      "[100]\tvalidation_0-rmse:0.03940\tvalidation_1-rmse:4.30404\n",
      "[127]\tvalidation_0-rmse:0.01187\tvalidation_1-rmse:4.30254\n",
      "Train fold : RMSE = 0.01228 R2 = 1.0\n",
      "Val  fold  : RMSE = 4.30242 R2 = 0.76001\n",
      "Test total : RMSE = 4.34957 R2 = 0.83249\n",
      "Saving model ...\n",
      "Model saved !  in  ../../Results/Models/XGBRegressor/XGBRegressor_fold_3.pkl\n",
      "*****  Fold  4 *****\n",
      "[19:30:56] WARNING: ../src/objective/regression_obj.cu:203: reg:linear is now deprecated in favor of reg:squarederror.\n",
      "[0]\tvalidation_0-rmse:7.94808\tvalidation_1-rmse:8.44588\n"
     ]
    },
    {
     "name": "stderr",
     "output_type": "stream",
     "text": [
      "/media/cristian/Extreme SSD/Investigacion/NMA/nma_env/lib/python3.7/site-packages/xgboost/sklearn.py:797: UserWarning: `eval_metric` in `fit` method is deprecated for better compatibility with scikit-learn, use `eval_metric` in constructor or`set_params` instead.\n",
      "  UserWarning,\n",
      "/media/cristian/Extreme SSD/Investigacion/NMA/nma_env/lib/python3.7/site-packages/xgboost/sklearn.py:797: UserWarning: `early_stopping_rounds` in `fit` method is deprecated for better compatibility with scikit-learn, use `early_stopping_rounds` in constructor or`set_params` instead.\n",
      "  UserWarning,\n"
     ]
    },
    {
     "name": "stdout",
     "output_type": "stream",
     "text": [
      "[50]\tvalidation_0-rmse:0.27606\tvalidation_1-rmse:3.70500\n",
      "[100]\tvalidation_0-rmse:0.03846\tvalidation_1-rmse:3.65366\n",
      "[127]\tvalidation_0-rmse:0.01266\tvalidation_1-rmse:3.65281\n",
      "Train fold : RMSE = 0.013 R2 = 1.0\n",
      "Val  fold  : RMSE = 3.65269 R2 = 0.80519\n",
      "Test total : RMSE = 4.27748 R2 = 0.83799\n",
      "Saving model ...\n",
      "Model saved !  in  ../../Results/Models/XGBRegressor/XGBRegressor_fold_4.pkl\n",
      "*****  Fold  5 *****\n",
      "[19:31:10] WARNING: ../src/objective/regression_obj.cu:203: reg:linear is now deprecated in favor of reg:squarederror.\n",
      "[0]\tvalidation_0-rmse:8.04641\tvalidation_1-rmse:7.96754\n"
     ]
    },
    {
     "name": "stderr",
     "output_type": "stream",
     "text": [
      "/media/cristian/Extreme SSD/Investigacion/NMA/nma_env/lib/python3.7/site-packages/xgboost/sklearn.py:797: UserWarning: `eval_metric` in `fit` method is deprecated for better compatibility with scikit-learn, use `eval_metric` in constructor or`set_params` instead.\n",
      "  UserWarning,\n",
      "/media/cristian/Extreme SSD/Investigacion/NMA/nma_env/lib/python3.7/site-packages/xgboost/sklearn.py:797: UserWarning: `early_stopping_rounds` in `fit` method is deprecated for better compatibility with scikit-learn, use `early_stopping_rounds` in constructor or`set_params` instead.\n",
      "  UserWarning,\n"
     ]
    },
    {
     "name": "stdout",
     "output_type": "stream",
     "text": [
      "[50]\tvalidation_0-rmse:0.28945\tvalidation_1-rmse:3.73034\n",
      "[100]\tvalidation_0-rmse:0.04037\tvalidation_1-rmse:3.68013\n",
      "[127]\tvalidation_0-rmse:0.01295\tvalidation_1-rmse:3.67914\n",
      "Train fold : RMSE = 0.01237 R2 = 1.0\n",
      "Val  fold  : RMSE = 3.6791 R2 = 0.7852\n",
      "Test total : RMSE = 4.16946 R2 = 0.84607\n",
      "Saving model ...\n",
      "Model saved !  in  ../../Results/Models/XGBRegressor/XGBRegressor_fold_5.pkl\n",
      "Train mean cv : RMSE = 0.01508 |  R2 =1.0\n",
      "Val   mean cv : RMSE = 3.8312 |  R2 =0.77985\n",
      "Test  mean cv : RMSE = 4.12354 |  R2 =0.84944\n",
      "Saving plot in  ../../Results/Models/XGBRegressor/XGBRegressor_test_prediction.png\n",
      "******************************\n",
      "Saving folds report in  ../../Results/Models/XGBRegressor/XGBRegressor_results_by_fold.csv\n",
      "Saving summary cv report in  ../../Results/Models/XGBRegressor/XGBRegressor_results.csv\n",
      "**********  Training  LGBMRegressor **********\n",
      "*****  Fold  1 *****\n"
     ]
    },
    {
     "name": "stderr",
     "output_type": "stream",
     "text": [
      "/media/cristian/Extreme SSD/Investigacion/NMA/nma_env/lib/python3.7/site-packages/sklearn/utils/validation.py:993: DataConversionWarning: A column-vector y was passed when a 1d array was expected. Please change the shape of y to (n_samples, ), for example using ravel().\n",
      "  y = column_or_1d(y, warn=True)\n",
      "/media/cristian/Extreme SSD/Investigacion/NMA/nma_env/lib/python3.7/site-packages/lightgbm/sklearn.py:726: UserWarning: 'early_stopping_rounds' argument is deprecated and will be removed in a future release of LightGBM. Pass 'early_stopping()' callback via 'callbacks' argument instead.\n",
      "  _log_warning(\"'early_stopping_rounds' argument is deprecated and will be removed in a future release of LightGBM. \"\n",
      "/media/cristian/Extreme SSD/Investigacion/NMA/nma_env/lib/python3.7/site-packages/lightgbm/sklearn.py:736: UserWarning: 'verbose' argument is deprecated and will be removed in a future release of LightGBM. Pass 'log_evaluation()' callback via 'callbacks' argument instead.\n",
      "  _log_warning(\"'verbose' argument is deprecated and will be removed in a future release of LightGBM. \"\n",
      "/media/cristian/Extreme SSD/Investigacion/NMA/nma_env/lib/python3.7/site-packages/lightgbm/basic.py:179: UserWarning: Converting column-vector to 1d array\n",
      "  _log_warning('Converting column-vector to 1d array')\n"
     ]
    },
    {
     "name": "stdout",
     "output_type": "stream",
     "text": [
      "[50]\ttraining's rmse: 3.43487\ttraining's l2: 11.7983\tvalid_1's rmse: 3.36597\tvalid_1's l2: 11.3297\n",
      "[100]\ttraining's rmse: 2.82755\ttraining's l2: 7.99504\tvalid_1's rmse: 3.10765\tvalid_1's l2: 9.65752\n",
      "[150]\ttraining's rmse: 2.41612\ttraining's l2: 5.83762\tvalid_1's rmse: 3.0471\tvalid_1's l2: 9.28483\n",
      "Train fold : RMSE = 2.2219 R2 = 0.92724\n",
      "Val  fold  : RMSE = 2.98443 R2 = 0.85828\n",
      "Test total : RMSE = 3.71476 R2 = 0.87781\n",
      "Saving model ...\n",
      "Model saved !  in  ../../Results/Models/LGBMRegressor/LGBMRegressor_fold_1.pkl\n",
      "*****  Fold  2 *****\n"
     ]
    },
    {
     "name": "stderr",
     "output_type": "stream",
     "text": [
      "/media/cristian/Extreme SSD/Investigacion/NMA/nma_env/lib/python3.7/site-packages/sklearn/utils/validation.py:993: DataConversionWarning: A column-vector y was passed when a 1d array was expected. Please change the shape of y to (n_samples, ), for example using ravel().\n",
      "  y = column_or_1d(y, warn=True)\n",
      "/media/cristian/Extreme SSD/Investigacion/NMA/nma_env/lib/python3.7/site-packages/lightgbm/sklearn.py:726: UserWarning: 'early_stopping_rounds' argument is deprecated and will be removed in a future release of LightGBM. Pass 'early_stopping()' callback via 'callbacks' argument instead.\n",
      "  _log_warning(\"'early_stopping_rounds' argument is deprecated and will be removed in a future release of LightGBM. \"\n",
      "/media/cristian/Extreme SSD/Investigacion/NMA/nma_env/lib/python3.7/site-packages/lightgbm/sklearn.py:736: UserWarning: 'verbose' argument is deprecated and will be removed in a future release of LightGBM. Pass 'log_evaluation()' callback via 'callbacks' argument instead.\n",
      "  _log_warning(\"'verbose' argument is deprecated and will be removed in a future release of LightGBM. \"\n",
      "/media/cristian/Extreme SSD/Investigacion/NMA/nma_env/lib/python3.7/site-packages/lightgbm/basic.py:179: UserWarning: Converting column-vector to 1d array\n",
      "  _log_warning('Converting column-vector to 1d array')\n"
     ]
    },
    {
     "name": "stdout",
     "output_type": "stream",
     "text": [
      "[50]\ttraining's rmse: 3.44595\ttraining's l2: 11.8746\tvalid_1's rmse: 3.53691\tvalid_1's l2: 12.5097\n",
      "[100]\ttraining's rmse: 2.84871\ttraining's l2: 8.11516\tvalid_1's rmse: 3.25589\tvalid_1's l2: 10.6008\n",
      "Train fold : RMSE = 2.58446 R2 = 0.9017\n",
      "Val  fold  : RMSE = 3.1597 R2 = 0.84044\n",
      "Test total : RMSE = 3.81356 R2 = 0.87123\n",
      "Saving model ...\n",
      "Model saved !  in  ../../Results/Models/LGBMRegressor/LGBMRegressor_fold_2.pkl\n",
      "*****  Fold  3 *****\n"
     ]
    },
    {
     "name": "stderr",
     "output_type": "stream",
     "text": [
      "/media/cristian/Extreme SSD/Investigacion/NMA/nma_env/lib/python3.7/site-packages/sklearn/utils/validation.py:993: DataConversionWarning: A column-vector y was passed when a 1d array was expected. Please change the shape of y to (n_samples, ), for example using ravel().\n",
      "  y = column_or_1d(y, warn=True)\n",
      "/media/cristian/Extreme SSD/Investigacion/NMA/nma_env/lib/python3.7/site-packages/lightgbm/sklearn.py:726: UserWarning: 'early_stopping_rounds' argument is deprecated and will be removed in a future release of LightGBM. Pass 'early_stopping()' callback via 'callbacks' argument instead.\n",
      "  _log_warning(\"'early_stopping_rounds' argument is deprecated and will be removed in a future release of LightGBM. \"\n",
      "/media/cristian/Extreme SSD/Investigacion/NMA/nma_env/lib/python3.7/site-packages/lightgbm/sklearn.py:736: UserWarning: 'verbose' argument is deprecated and will be removed in a future release of LightGBM. Pass 'log_evaluation()' callback via 'callbacks' argument instead.\n",
      "  _log_warning(\"'verbose' argument is deprecated and will be removed in a future release of LightGBM. \"\n",
      "/media/cristian/Extreme SSD/Investigacion/NMA/nma_env/lib/python3.7/site-packages/lightgbm/basic.py:179: UserWarning: Converting column-vector to 1d array\n",
      "  _log_warning('Converting column-vector to 1d array')\n"
     ]
    },
    {
     "name": "stdout",
     "output_type": "stream",
     "text": [
      "[50]\ttraining's rmse: 3.31546\ttraining's l2: 10.9922\tvalid_1's rmse: 4.24144\tvalid_1's l2: 17.9898\n",
      "[100]\ttraining's rmse: 2.71377\ttraining's l2: 7.36456\tvalid_1's rmse: 3.88947\tvalid_1's l2: 15.1279\n",
      "[150]\ttraining's rmse: 2.329\ttraining's l2: 5.42423\tvalid_1's rmse: 3.82216\tvalid_1's l2: 14.6089\n",
      "Train fold : RMSE = 2.17905 R2 = 0.92613\n",
      "Val  fold  : RMSE = 3.78472 R2 = 0.81429\n",
      "Test total : RMSE = 3.75446 R2 = 0.87519\n",
      "Saving model ...\n",
      "Model saved !  in  ../../Results/Models/LGBMRegressor/LGBMRegressor_fold_3.pkl\n",
      "*****  Fold  4 *****\n"
     ]
    },
    {
     "name": "stderr",
     "output_type": "stream",
     "text": [
      "/media/cristian/Extreme SSD/Investigacion/NMA/nma_env/lib/python3.7/site-packages/sklearn/utils/validation.py:993: DataConversionWarning: A column-vector y was passed when a 1d array was expected. Please change the shape of y to (n_samples, ), for example using ravel().\n",
      "  y = column_or_1d(y, warn=True)\n",
      "/media/cristian/Extreme SSD/Investigacion/NMA/nma_env/lib/python3.7/site-packages/lightgbm/sklearn.py:726: UserWarning: 'early_stopping_rounds' argument is deprecated and will be removed in a future release of LightGBM. Pass 'early_stopping()' callback via 'callbacks' argument instead.\n",
      "  _log_warning(\"'early_stopping_rounds' argument is deprecated and will be removed in a future release of LightGBM. \"\n",
      "/media/cristian/Extreme SSD/Investigacion/NMA/nma_env/lib/python3.7/site-packages/lightgbm/sklearn.py:736: UserWarning: 'verbose' argument is deprecated and will be removed in a future release of LightGBM. Pass 'log_evaluation()' callback via 'callbacks' argument instead.\n",
      "  _log_warning(\"'verbose' argument is deprecated and will be removed in a future release of LightGBM. \"\n",
      "/media/cristian/Extreme SSD/Investigacion/NMA/nma_env/lib/python3.7/site-packages/lightgbm/basic.py:179: UserWarning: Converting column-vector to 1d array\n",
      "  _log_warning('Converting column-vector to 1d array')\n"
     ]
    },
    {
     "name": "stdout",
     "output_type": "stream",
     "text": [
      "[50]\ttraining's rmse: 3.41599\ttraining's l2: 11.669\tvalid_1's rmse: 3.57514\tvalid_1's l2: 12.7816\n",
      "[100]\ttraining's rmse: 2.83035\ttraining's l2: 8.01089\tvalid_1's rmse: 3.27109\tvalid_1's l2: 10.7001\n",
      "Train fold : RMSE = 2.69562 R2 = 0.89065\n",
      "Val  fold  : RMSE = 3.19657 R2 = 0.85081\n",
      "Test total : RMSE = 3.81771 R2 = 0.87095\n",
      "Saving model ...\n",
      "Model saved !  in  ../../Results/Models/LGBMRegressor/LGBMRegressor_fold_4.pkl\n",
      "*****  Fold  5 *****\n"
     ]
    },
    {
     "name": "stderr",
     "output_type": "stream",
     "text": [
      "/media/cristian/Extreme SSD/Investigacion/NMA/nma_env/lib/python3.7/site-packages/sklearn/utils/validation.py:993: DataConversionWarning: A column-vector y was passed when a 1d array was expected. Please change the shape of y to (n_samples, ), for example using ravel().\n",
      "  y = column_or_1d(y, warn=True)\n",
      "/media/cristian/Extreme SSD/Investigacion/NMA/nma_env/lib/python3.7/site-packages/lightgbm/sklearn.py:726: UserWarning: 'early_stopping_rounds' argument is deprecated and will be removed in a future release of LightGBM. Pass 'early_stopping()' callback via 'callbacks' argument instead.\n",
      "  _log_warning(\"'early_stopping_rounds' argument is deprecated and will be removed in a future release of LightGBM. \"\n",
      "/media/cristian/Extreme SSD/Investigacion/NMA/nma_env/lib/python3.7/site-packages/lightgbm/sklearn.py:736: UserWarning: 'verbose' argument is deprecated and will be removed in a future release of LightGBM. Pass 'log_evaluation()' callback via 'callbacks' argument instead.\n",
      "  _log_warning(\"'verbose' argument is deprecated and will be removed in a future release of LightGBM. \"\n",
      "/media/cristian/Extreme SSD/Investigacion/NMA/nma_env/lib/python3.7/site-packages/lightgbm/basic.py:179: UserWarning: Converting column-vector to 1d array\n",
      "  _log_warning('Converting column-vector to 1d array')\n"
     ]
    },
    {
     "name": "stdout",
     "output_type": "stream",
     "text": [
      "[50]\ttraining's rmse: 3.44955\ttraining's l2: 11.8994\tvalid_1's rmse: 3.4448\tvalid_1's l2: 11.8667\n",
      "[100]\ttraining's rmse: 2.81013\ttraining's l2: 7.89685\tvalid_1's rmse: 3.22514\tvalid_1's l2: 10.4015\n",
      "Train fold : RMSE = 2.55535 R2 = 0.90375\n",
      "Val  fold  : RMSE = 3.14495 R2 = 0.84304\n",
      "Test total : RMSE = 3.75967 R2 = 0.87484\n",
      "Saving model ...\n",
      "Model saved !  in  ../../Results/Models/LGBMRegressor/LGBMRegressor_fold_5.pkl\n",
      "Train mean cv : RMSE = 2.44728 |  R2 =0.90989\n",
      "Val   mean cv : RMSE = 3.25407 |  R2 =0.84137\n",
      "Test  mean cv : RMSE = 3.72233 |  R2 =0.87732\n",
      "Saving plot in  ../../Results/Models/LGBMRegressor/LGBMRegressor_test_prediction.png\n",
      "******************************\n",
      "Saving folds report in  ../../Results/Models/LGBMRegressor/LGBMRegressor_results_by_fold.csv\n",
      "Saving summary cv report in  ../../Results/Models/LGBMRegressor/LGBMRegressor_results.csv\n",
      "report starting..\n",
      "../../Results/Models/LinearRegression/LinearRegression_results.csv\n",
      "../../Results/Models/ElasticNet/ElasticNet_results.csv\n",
      "../../Results/Models/BayesianRidge/BayesianRidge_results.csv\n",
      "../../Results/Models/DecisionTreeRegressor/DecisionTreeRegressor_results.csv\n",
      "../../Results/Models/XGBRegressor/XGBRegressor_results.csv\n",
      "../../Results/Models/SVR/SVR_results.csv\n",
      "../../Results/Models/LGBMRegressor/LGBMRegressor_results.csv\n",
      "../../Results/Models/Ridge/Ridge_results.csv\n",
      "../../Results/Models/Lasso/Lasso_results.csv\n",
      "../../Results/Models/PoissonRegressor/PoissonRegressor_results.csv\n",
      "TARGET =  run MAX_VARIANCE_EXPLAINED =  0.75  report completed!\n"
     ]
    }
   ],
   "source": [
    "######################\n",
    "for TARGET in targets:\n",
    "    print('*'*20, TARGET,'*'*20)\n",
    "    # make processing\n",
    "    X,y = preprocessing.get_dataset(PATH_DATA,FNMAME,FEATURES,TARGET)\n",
    "\n",
    "    X_train,X_test,y_train,y_test = preprocessing.simple_temporal_splitting(X,y,test_size=TEST_SIZE)\n",
    "    \n",
    "    y_train = y_train.astype(np.float32)\n",
    "    \n",
    "    mean_train = np.mean(y_train[1-np.isnan(y_train)] )\n",
    "    \n",
    "    if np.sum(np.isnan(y_train))>0:\n",
    "        print(' nulls in y_train target :',np.sum(np.isnan(y_train)))\n",
    "        y_train[np.isnan(y_train)] = mean_train\n",
    "\n",
    "    if np.sum(np.isnan(y_test))>0:\n",
    "        print(' nulls in y_test target :',np.sum(np.isnan(y_test)))\n",
    "        y_test[np.isnan(y_test)]   = mean_train\n",
    "\n",
    "\n",
    "    if THRESHOLDING_FLAG:\n",
    "        X_train,X_test = preprocessing.thresholding(X_train,X_test,thresholing_max=THRESHOLDING_MAX)\n",
    "\n",
    "    if NORMALIZATION_FLAG:\n",
    "        X_train,X_test = preprocessing.normalization(X_train,X_test)\n",
    "    \n",
    "\n",
    "    for MAX_VARIANCE_EXPLAINED in variances:\n",
    "        if PCA_FLAG:\n",
    "            X_train_pca,X_test_pca = preprocessing.auto_PCA(X_train,X_test,MAX_VARIANCE_EXPLAINED)\n",
    "        \n",
    "        \n",
    "        N_DIMENSION = X_train_pca.shape[1]\n",
    "        \n",
    "        training.training_model_cv(X_train_pca,y_train,\n",
    "                                          X_test_pca,  y_test,\n",
    "                                          n_splits = N_SPLITS,\n",
    "                                          total_models=models.total_models,\n",
    "                                          path_model=PATH_MODEL)\n",
    "        print('report starting..')        \n",
    "        make_report.make_report(TARGET,PATH_RESULTS,PATH_MODEL,SUFFIX='dim_'+str(N_DIMENSION)+'_var_'+str(MAX_VARIANCE_EXPLAINED))\n",
    "        print('TARGET = ',TARGET,'MAX_VARIANCE_EXPLAINED = ',MAX_VARIANCE_EXPLAINED,' report completed!')"
   ]
  },
  {
   "cell_type": "code",
   "execution_count": null,
   "id": "2cc6b3d9-d8a6-4667-ba8a-22a2892fa116",
   "metadata": {},
   "outputs": [],
   "source": []
  },
  {
   "cell_type": "code",
   "execution_count": null,
   "id": "4f7f5d70-4b91-46cb-9289-86f01d49feb4",
   "metadata": {},
   "outputs": [],
   "source": []
  },
  {
   "cell_type": "code",
   "execution_count": null,
   "id": "27b17c13-fe50-4315-ab3f-e6fdc46abb62",
   "metadata": {},
   "outputs": [],
   "source": []
  },
  {
   "cell_type": "code",
   "execution_count": null,
   "id": "41509c6d-805d-4b97-9805-9ca694694ad8",
   "metadata": {},
   "outputs": [],
   "source": []
  }
 ],
 "metadata": {
  "kernelspec": {
   "display_name": "Python 3",
   "language": "python",
   "name": "python3"
  },
  "language_info": {
   "codemirror_mode": {
    "name": "ipython",
    "version": 3
   },
   "file_extension": ".py",
   "mimetype": "text/x-python",
   "name": "python",
   "nbconvert_exporter": "python",
   "pygments_lexer": "ipython3",
   "version": "3.7.13"
  }
 },
 "nbformat": 4,
 "nbformat_minor": 5
}
