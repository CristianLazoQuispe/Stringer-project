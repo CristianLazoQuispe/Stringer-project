{
 "cells": [
  {
   "cell_type": "code",
   "execution_count": 1,
   "id": "4b14b0dc-f7d8-4bd8-841e-08db70781dce",
   "metadata": {},
   "outputs": [],
   "source": [
    "import os\n",
    "import sys\n",
    "sys.path.insert(1, '../../Src/')\n",
    "import numpy as np\n",
    "from utils import preprocessing\n",
    "from models import training\n",
    "from models import models\n",
    "from utils import make_report\n",
    "\n",
    "PATH_DATA          = '../../Data/'\n",
    "PATH_MODEL         = '../../Results/Models/'\n",
    "PATH_RESULTS = '../../Results/'\n",
    "\n",
    "\n",
    "FNMAME             = \"stringer_spontaneous.npy\"\n",
    "FEATURES           = \"sresp\"\n",
    "\n",
    "\n",
    "THRESHOLDING_FLAG  = False\n",
    "THRESHOLDING_MAX   = 95  # 95%\n",
    "\n",
    "\n",
    "NORMALIZATION_FLAG = True\n",
    "TEST_SIZE          = 0.2\n",
    "\n",
    "PCA_FLAG           = True\n",
    "\n",
    "\n",
    "\n",
    "N_SPLITS = 5\n",
    "\n",
    "\n",
    "np.random.seed(42)\n",
    "\n",
    "%matplotlib inline\n",
    "%load_ext autoreload \n",
    "%autoreload 2"
   ]
  },
  {
   "cell_type": "code",
   "execution_count": 2,
   "id": "46b7515d-1143-4270-8427-ee93b30a14df",
   "metadata": {},
   "outputs": [],
   "source": [
    "targets = [\"run\"]#,\"pupilArea\",\"pupilCOM_x\",\"pupilCOM_y\"]  #  \n",
    "variances = [0.75]#[0.25,0.5,0.75,0.9]"
   ]
  },
  {
   "cell_type": "code",
   "execution_count": 3,
   "id": "eae73396-07bd-44c3-9a63-c1623ef1baeb",
   "metadata": {
    "scrolled": true,
    "tags": []
   },
   "outputs": [
    {
     "name": "stdout",
     "output_type": "stream",
     "text": [
      "******************** run ********************\n",
      "dict_keys(['sresp', 'run', 'beh_svd_time', 'beh_svd_mask', 'stat', 'pupilArea', 'pupilCOM', 'xyz'])\n",
      " X size : (7018, 11983)\n",
      " y size : (7018, 1)\n",
      "X train :  (5264, 11983) y train : (5264, 1)\n",
      "X test  :  (1754, 11983) y test  : (1754, 1)\n",
      "Normalization process ..\n",
      "X train : mean [0]= 6.6743774 std [0]= 6.6743774\n",
      "X test  : mean [0]= 7.5208654 std [0]= 8.151653\n",
      "Normalization completed!\n",
      "X train : mean [0]= 1.9628543e-07 std [0]= 1.9628543e-07\n",
      "X test  : mean [0]= 0.1156612 std [0]= 1.1138103\n",
      "PCA processing ..\n",
      "X_train size : (5264, 11983)\n",
      "X_test size  : (1754, 11983)\n",
      "# principal components : 5264\n",
      "PCA completed!\n",
      "max variance explained : 1.0\n",
      "X_train_pca size : (5264, 5264)\n",
      "X_test_pca size  : (1754, 5264)\n",
      "**********  Training  LinearRegression **********\n",
      "*****  Fold  1 *****\n",
      "Train fold : RMSE = 2e-05 R2 = 1.0\n",
      "Val  fold  : RMSE = 3.43699 R2 = 0.81204\n",
      "Test total : RMSE = 4.00594 R2 = 0.85791\n",
      "Saving model ...\n",
      "Model saved !  in  ../../Results/Models/LinearRegression/LinearRegression_fold_1.pkl\n",
      "*****  Fold  2 *****\n"
     ]
    },
    {
     "ename": "KeyboardInterrupt",
     "evalue": "",
     "output_type": "error",
     "traceback": [
      "\u001b[0;31m---------------------------------------------------------------------------\u001b[0m",
      "\u001b[0;31mKeyboardInterrupt\u001b[0m                         Traceback (most recent call last)",
      "\u001b[0;32m/tmp/ipykernel_20545/132191613.py\u001b[0m in \u001b[0;36m<module>\u001b[0;34m\u001b[0m\n\u001b[1;32m     39\u001b[0m                                           \u001b[0mn_splits\u001b[0m \u001b[0;34m=\u001b[0m \u001b[0mN_SPLITS\u001b[0m\u001b[0;34m,\u001b[0m\u001b[0;34m\u001b[0m\u001b[0;34m\u001b[0m\u001b[0m\n\u001b[1;32m     40\u001b[0m                                           \u001b[0mtotal_models\u001b[0m\u001b[0;34m=\u001b[0m\u001b[0mmodels\u001b[0m\u001b[0;34m.\u001b[0m\u001b[0mtotal_models\u001b[0m\u001b[0;34m,\u001b[0m\u001b[0;34m\u001b[0m\u001b[0;34m\u001b[0m\u001b[0m\n\u001b[0;32m---> 41\u001b[0;31m                                           path_model=PATH_MODEL)\n\u001b[0m\u001b[1;32m     42\u001b[0m         \u001b[0mprint\u001b[0m\u001b[0;34m(\u001b[0m\u001b[0;34m'report starting..'\u001b[0m\u001b[0;34m)\u001b[0m\u001b[0;34m\u001b[0m\u001b[0;34m\u001b[0m\u001b[0m\n\u001b[1;32m     43\u001b[0m         \u001b[0mmake_report\u001b[0m\u001b[0;34m.\u001b[0m\u001b[0mmake_report\u001b[0m\u001b[0;34m(\u001b[0m\u001b[0mTARGET\u001b[0m\u001b[0;34m,\u001b[0m\u001b[0mPATH_RESULTS\u001b[0m\u001b[0;34m,\u001b[0m\u001b[0mPATH_MODEL\u001b[0m\u001b[0;34m,\u001b[0m\u001b[0mSUFFIX\u001b[0m\u001b[0;34m=\u001b[0m\u001b[0;34m'dim_'\u001b[0m\u001b[0;34m+\u001b[0m\u001b[0mstr\u001b[0m\u001b[0;34m(\u001b[0m\u001b[0mN_DIMENSION\u001b[0m\u001b[0;34m)\u001b[0m\u001b[0;34m+\u001b[0m\u001b[0;34m'_var_'\u001b[0m\u001b[0;34m+\u001b[0m\u001b[0mstr\u001b[0m\u001b[0;34m(\u001b[0m\u001b[0mMAX_VARIANCE_EXPLAINED\u001b[0m\u001b[0;34m)\u001b[0m\u001b[0;34m)\u001b[0m\u001b[0;34m\u001b[0m\u001b[0;34m\u001b[0m\u001b[0m\n",
      "\u001b[0;32m/media/cristian/Extreme SSD/Investigacion/NMA/Stringer-project/Src/models/training.py\u001b[0m in \u001b[0;36mtraining_model_cv\u001b[0;34m(X_train, y_train, X_test, y_test, n_splits, total_models, path_model)\u001b[0m\n\u001b[1;32m    176\u001b[0m                                                  \u001b[0mn_splits\u001b[0m\u001b[0;34m=\u001b[0m\u001b[0mn_splits\u001b[0m\u001b[0;34m,\u001b[0m\u001b[0;34m\u001b[0m\u001b[0;34m\u001b[0m\u001b[0m\n\u001b[1;32m    177\u001b[0m                                                  \u001b[0mmodel\u001b[0m \u001b[0;34m=\u001b[0m \u001b[0mmodel\u001b[0m\u001b[0;34m,\u001b[0m\u001b[0mmodel_name\u001b[0m\u001b[0;34m=\u001b[0m\u001b[0mmodel_name\u001b[0m\u001b[0;34m,\u001b[0m\u001b[0;34m\u001b[0m\u001b[0;34m\u001b[0m\u001b[0m\n\u001b[0;32m--> 178\u001b[0;31m                                                  path_model=path_model)\n\u001b[0m",
      "\u001b[0;32m/media/cristian/Extreme SSD/Investigacion/NMA/Stringer-project/Src/models/training.py\u001b[0m in \u001b[0;36mcross_validate\u001b[0;34m(x_train, y_train, X_test, y_test, n_splits, model, model_name, path_model, n_precision)\u001b[0m\n\u001b[1;32m     54\u001b[0m         \u001b[0;32melse\u001b[0m\u001b[0;34m:\u001b[0m\u001b[0;34m\u001b[0m\u001b[0;34m\u001b[0m\u001b[0m\n\u001b[1;32m     55\u001b[0m \u001b[0;34m\u001b[0m\u001b[0m\n\u001b[0;32m---> 56\u001b[0;31m             \u001b[0mmodel\u001b[0m\u001b[0;34m.\u001b[0m\u001b[0mfit\u001b[0m\u001b[0;34m(\u001b[0m\u001b[0mx_cv_train\u001b[0m\u001b[0;34m,\u001b[0m\u001b[0my_cv_train\u001b[0m\u001b[0;34m)\u001b[0m\u001b[0;34m\u001b[0m\u001b[0;34m\u001b[0m\u001b[0m\n\u001b[0m\u001b[1;32m     57\u001b[0m \u001b[0;34m\u001b[0m\u001b[0m\n\u001b[1;32m     58\u001b[0m         \u001b[0my_cv_train_pred\u001b[0m \u001b[0;34m=\u001b[0m \u001b[0mmodel\u001b[0m\u001b[0;34m.\u001b[0m\u001b[0mpredict\u001b[0m\u001b[0;34m(\u001b[0m\u001b[0mx_cv_train\u001b[0m\u001b[0;34m)\u001b[0m\u001b[0;34m\u001b[0m\u001b[0;34m\u001b[0m\u001b[0m\n",
      "\u001b[0;32m/media/cristian/Extreme SSD/Investigacion/NMA/nma_env/lib/python3.7/site-packages/sklearn/linear_model/_base.py\u001b[0m in \u001b[0;36mfit\u001b[0;34m(self, X, y, sample_weight)\u001b[0m\n\u001b[1;32m    716\u001b[0m                 \u001b[0mself\u001b[0m\u001b[0;34m.\u001b[0m\u001b[0m_residues\u001b[0m \u001b[0;34m=\u001b[0m \u001b[0mnp\u001b[0m\u001b[0;34m.\u001b[0m\u001b[0mvstack\u001b[0m\u001b[0;34m(\u001b[0m\u001b[0;34m[\u001b[0m\u001b[0mout\u001b[0m\u001b[0;34m[\u001b[0m\u001b[0;36m3\u001b[0m\u001b[0;34m]\u001b[0m \u001b[0;32mfor\u001b[0m \u001b[0mout\u001b[0m \u001b[0;32min\u001b[0m \u001b[0mouts\u001b[0m\u001b[0;34m]\u001b[0m\u001b[0;34m)\u001b[0m\u001b[0;34m\u001b[0m\u001b[0;34m\u001b[0m\u001b[0m\n\u001b[1;32m    717\u001b[0m         \u001b[0;32melse\u001b[0m\u001b[0;34m:\u001b[0m\u001b[0;34m\u001b[0m\u001b[0;34m\u001b[0m\u001b[0m\n\u001b[0;32m--> 718\u001b[0;31m             \u001b[0mself\u001b[0m\u001b[0;34m.\u001b[0m\u001b[0mcoef_\u001b[0m\u001b[0;34m,\u001b[0m \u001b[0mself\u001b[0m\u001b[0;34m.\u001b[0m\u001b[0m_residues\u001b[0m\u001b[0;34m,\u001b[0m \u001b[0mself\u001b[0m\u001b[0;34m.\u001b[0m\u001b[0mrank_\u001b[0m\u001b[0;34m,\u001b[0m \u001b[0mself\u001b[0m\u001b[0;34m.\u001b[0m\u001b[0msingular_\u001b[0m \u001b[0;34m=\u001b[0m \u001b[0mlinalg\u001b[0m\u001b[0;34m.\u001b[0m\u001b[0mlstsq\u001b[0m\u001b[0;34m(\u001b[0m\u001b[0mX\u001b[0m\u001b[0;34m,\u001b[0m \u001b[0my\u001b[0m\u001b[0;34m)\u001b[0m\u001b[0;34m\u001b[0m\u001b[0;34m\u001b[0m\u001b[0m\n\u001b[0m\u001b[1;32m    719\u001b[0m             \u001b[0mself\u001b[0m\u001b[0;34m.\u001b[0m\u001b[0mcoef_\u001b[0m \u001b[0;34m=\u001b[0m \u001b[0mself\u001b[0m\u001b[0;34m.\u001b[0m\u001b[0mcoef_\u001b[0m\u001b[0;34m.\u001b[0m\u001b[0mT\u001b[0m\u001b[0;34m\u001b[0m\u001b[0;34m\u001b[0m\u001b[0m\n\u001b[1;32m    720\u001b[0m \u001b[0;34m\u001b[0m\u001b[0m\n",
      "\u001b[0;32m/media/cristian/Extreme SSD/Investigacion/NMA/nma_env/lib/python3.7/site-packages/scipy/linalg/basic.py\u001b[0m in \u001b[0;36mlstsq\u001b[0;34m(a, b, cond, overwrite_a, overwrite_b, check_finite, lapack_driver)\u001b[0m\n\u001b[1;32m   1203\u001b[0m                 \u001b[0mlwork\u001b[0m\u001b[0;34m,\u001b[0m \u001b[0miwork\u001b[0m \u001b[0;34m=\u001b[0m \u001b[0m_compute_lwork\u001b[0m\u001b[0;34m(\u001b[0m\u001b[0mlapack_lwork\u001b[0m\u001b[0;34m,\u001b[0m \u001b[0mm\u001b[0m\u001b[0;34m,\u001b[0m \u001b[0mn\u001b[0m\u001b[0;34m,\u001b[0m \u001b[0mnrhs\u001b[0m\u001b[0;34m,\u001b[0m \u001b[0mcond\u001b[0m\u001b[0;34m)\u001b[0m\u001b[0;34m\u001b[0m\u001b[0;34m\u001b[0m\u001b[0m\n\u001b[1;32m   1204\u001b[0m                 x, s, rank, info = lapack_func(a1, b1, lwork,\n\u001b[0;32m-> 1205\u001b[0;31m                                                iwork, cond, False, False)\n\u001b[0m\u001b[1;32m   1206\u001b[0m             \u001b[0;32melse\u001b[0m\u001b[0;34m:\u001b[0m  \u001b[0;31m# complex data\u001b[0m\u001b[0;34m\u001b[0m\u001b[0;34m\u001b[0m\u001b[0m\n\u001b[1;32m   1207\u001b[0m                 lwork, rwork, iwork = _compute_lwork(lapack_lwork, m, n,\n",
      "\u001b[0;31mKeyboardInterrupt\u001b[0m: "
     ]
    }
   ],
   "source": [
    "######################\n",
    "for TARGET in targets:\n",
    "    print('*'*20, TARGET,'*'*20)\n",
    "    # make processing\n",
    "    X,y = preprocessing.get_dataset(PATH_DATA,FNMAME,FEATURES,TARGET)\n",
    "\n",
    "    X_train,X_test,y_train,y_test = preprocessing.simple_temporal_splitting(X,y,test_size=TEST_SIZE)\n",
    "    \n",
    "    y_train = y_train.astype(np.float32)\n",
    "    \n",
    "    mean_train = np.mean(y_train[1-np.isnan(y_train)] )\n",
    "    \n",
    "    if np.sum(np.isnan(y_train))>0:\n",
    "        print(' nulls in y_train target :',np.sum(np.isnan(y_train)))\n",
    "        y_train[np.isnan(y_train)] = mean_train\n",
    "\n",
    "    if np.sum(np.isnan(y_test))>0:\n",
    "        print(' nulls in y_test target :',np.sum(np.isnan(y_test)))\n",
    "        y_test[np.isnan(y_test)]   = mean_train\n",
    "\n",
    "\n",
    "    if THRESHOLDING_FLAG:\n",
    "        X_train,X_test = preprocessing.thresholding(X_train,X_test,thresholing_max=THRESHOLDING_MAX)\n",
    "\n",
    "    if NORMALIZATION_FLAG:\n",
    "        X_train,X_test = preprocessing.normalization(X_train,X_test)\n",
    "    \n",
    "\n",
    "    for MAX_VARIANCE_EXPLAINED in variances:\n",
    "        \n",
    "        if PCA_FLAG:\n",
    "            #MAX_VARIANCE_EXPLAINED\n",
    "            X_train_pca,X_test_pca = preprocessing.auto_PCA(X_train,X_test,max_variance_explanation=None,max_components=20)\n",
    "        \n",
    "        \n",
    "        N_DIMENSION = X_train_pca.shape[1]\n",
    "        \n",
    "        training.training_model_cv(X_train_pca,y_train,\n",
    "                                          X_test_pca,  y_test,\n",
    "                                          n_splits = N_SPLITS,\n",
    "                                          total_models=models.total_models,\n",
    "                                          path_model=PATH_MODEL)\n",
    "        print('report starting..')        \n",
    "        make_report.make_report(TARGET,PATH_RESULTS,PATH_MODEL,SUFFIX='dim_'+str(N_DIMENSION)+'_var_'+str(MAX_VARIANCE_EXPLAINED))\n",
    "        print('TARGET = ',TARGET,'MAX_VARIANCE_EXPLAINED = ',MAX_VARIANCE_EXPLAINED,' report completed!')"
   ]
  },
  {
   "cell_type": "code",
   "execution_count": null,
   "id": "2cc6b3d9-d8a6-4667-ba8a-22a2892fa116",
   "metadata": {},
   "outputs": [],
   "source": []
  },
  {
   "cell_type": "code",
   "execution_count": null,
   "id": "4f7f5d70-4b91-46cb-9289-86f01d49feb4",
   "metadata": {},
   "outputs": [],
   "source": []
  },
  {
   "cell_type": "code",
   "execution_count": null,
   "id": "27b17c13-fe50-4315-ab3f-e6fdc46abb62",
   "metadata": {},
   "outputs": [],
   "source": []
  },
  {
   "cell_type": "code",
   "execution_count": null,
   "id": "41509c6d-805d-4b97-9805-9ca694694ad8",
   "metadata": {},
   "outputs": [],
   "source": []
  }
 ],
 "metadata": {
  "kernelspec": {
   "display_name": "Python 3.7.13 ('nma_env': venv)",
   "language": "python",
   "name": "python3"
  },
  "language_info": {
   "codemirror_mode": {
    "name": "ipython",
    "version": 3
   },
   "file_extension": ".py",
   "mimetype": "text/x-python",
   "name": "python",
   "nbconvert_exporter": "python",
   "pygments_lexer": "ipython3",
   "version": "3.7.13"
  },
  "vscode": {
   "interpreter": {
    "hash": "ab03de97cb27e72b9345597031e3c6c730729f021d7ad0cc14a0cc747ba2231e"
   }
  }
 },
 "nbformat": 4,
 "nbformat_minor": 5
}
