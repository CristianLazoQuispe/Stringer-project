{
 "cells": [
  {
   "cell_type": "code",
   "execution_count": 1,
   "metadata": {},
   "outputs": [],
   "source": [
    "import os\n",
    "import sys\n",
    "sys.path.insert(1, '../../Src/')\n",
    "import numpy as np\n",
    "from utils import preprocessing\n",
    "from models import training\n",
    "\n",
    "PATH_DATA          = '../../Data/'\n",
    "PATH_MODEL         = '../../Results/Models/'\n",
    "\n",
    "FNMAME             = \"stringer_spontaneous.npy\"\n",
    "TARGET             = \"run\"\n",
    "FEATURES           = \"sresp\"\n",
    "\n",
    "\n",
    "THRESHOLDING_FLAG  = False\n",
    "THRESHOLDING_MAX   = 95  # 95%\n",
    "\n",
    "\n",
    "NORMALIZATION_FLAG = True\n",
    "TEST_SIZE          = 0.2\n",
    "\n",
    "PCA_FLAG           = True\n",
    "MAX_VARIANCE_EXPLAINED = 0.9\n",
    "\n",
    "N_SPLITS = 5\n",
    "\n",
    "\n",
    "np.random.seed(42)\n",
    "\n",
    "%matplotlib inline\n",
    "%load_ext autoreload \n",
    "%autoreload 2"
   ]
  },
  {
   "cell_type": "code",
   "execution_count": 2,
   "metadata": {},
   "outputs": [
    {
     "name": "stdout",
     "output_type": "stream",
     "text": [
      "dict_keys(['sresp', 'run', 'beh_svd_time', 'beh_svd_mask', 'stat', 'pupilArea', 'pupilCOM', 'xyz'])\n",
      " X size : (7018, 11983)\n",
      " y size : (7018, 1)\n"
     ]
    }
   ],
   "source": [
    "X,y = preprocessing.get_dataset(PATH_DATA,FNMAME,FEATURES,TARGET)"
   ]
  },
  {
   "cell_type": "code",
   "execution_count": 3,
   "metadata": {},
   "outputs": [
    {
     "name": "stdout",
     "output_type": "stream",
     "text": [
      "X train :  (5264, 11983) y train : (5264, 1)\n",
      "X test  :  (1754, 11983) y test  : (1754, 1)\n"
     ]
    }
   ],
   "source": [
    "X_train,X_test,y_train,y_test = preprocessing.simple_temporal_splitting(X,y,test_size=TEST_SIZE)"
   ]
  },
  {
   "cell_type": "code",
   "execution_count": 4,
   "metadata": {},
   "outputs": [],
   "source": [
    "if THRESHOLDING_FLAG:\n",
    "    X_train,X_test = preprocessing.thresholding(X_train,X_test,thresholing_max=THRESHOLDING_MAX)"
   ]
  },
  {
   "cell_type": "code",
   "execution_count": 5,
   "metadata": {},
   "outputs": [
    {
     "name": "stdout",
     "output_type": "stream",
     "text": [
      "Normalization process ..\n",
      "X train : mean [0]= 6.6743774 std [0]= 6.6743774\n",
      "X test  : mean [0]= 7.5208654 std [0]= 8.151653\n",
      "Normalization completed!\n",
      "X train : mean [0]= 1.9628543e-07 std [0]= 1.9628543e-07\n",
      "X test  : mean [0]= 0.1156612 std [0]= 1.1138103\n"
     ]
    }
   ],
   "source": [
    "if NORMALIZATION_FLAG:\n",
    "    X_train,X_test = preprocessing.normalization(X_train,X_test)"
   ]
  },
  {
   "cell_type": "code",
   "execution_count": 6,
   "metadata": {},
   "outputs": [
    {
     "name": "stdout",
     "output_type": "stream",
     "text": [
      "PCA processing ..\n",
      "X_train size : (5264, 11983)\n",
      "X_test size  : (1754, 11983)\n",
      "PCA completed!\n",
      "# principal components : 3341\n",
      "max variance explained : 0.90008676\n",
      "X_train_pca size : (5264, 3341)\n",
      "X_test_pca size  : (1754, 3341)\n"
     ]
    }
   ],
   "source": [
    "if PCA_FLAG:\n",
    "    X_train_pca,X_test_pca = preprocessing.auto_PCA(X_train,X_test,MAX_VARIANCE_EXPLAINED)"
   ]
  },
  {
   "cell_type": "code",
   "execution_count": 7,
   "metadata": {},
   "outputs": [
    {
     "name": "stdout",
     "output_type": "stream",
     "text": [
      "**********  Training  LinearRegression **********\n",
      "*****  Fold  1 *****\n",
      "Train fold : RMSE = 1.24041 R2 = 0.97732\n",
      "Val  fold  : RMSE = 5.79386 R2 = 0.46587\n",
      "Test total : RMSE = 3.96875 R2 = 0.86053\n",
      "Saving model ...\n",
      "Model saved !  in  ../../Results/Models/LinearRegression/LinearRegression_fold_1.pkl\n",
      "*****  Fold  2 *****\n",
      "Train fold : RMSE = 1.27969 R2 = 0.9759\n",
      "Val  fold  : RMSE = 5.87019 R2 = 0.44926\n",
      "Test total : RMSE = 4.02223 R2 = 0.85675\n",
      "Saving model ...\n",
      "Model saved !  in  ../../Results/Models/LinearRegression/LinearRegression_fold_2.pkl\n",
      "*****  Fold  3 *****\n",
      "Train fold : RMSE = 1.11388 R2 = 0.9807\n",
      "Val  fold  : RMSE = 5.8633 R2 = 0.55428\n",
      "Test total : RMSE = 3.9128 R2 = 0.86444\n",
      "Saving model ...\n",
      "Model saved !  in  ../../Results/Models/LinearRegression/LinearRegression_fold_3.pkl\n",
      "*****  Fold  4 *****\n",
      "Train fold : RMSE = 1.22157 R2 = 0.97754\n",
      "Val  fold  : RMSE = 6.10721 R2 = 0.45541\n",
      "Test total : RMSE = 4.11789 R2 = 0.84986\n",
      "Saving model ...\n",
      "Model saved !  in  ../../Results/Models/LinearRegression/LinearRegression_fold_4.pkl\n",
      "*****  Fold  5 *****\n",
      "Train fold : RMSE = 1.24642 R2 = 0.9771\n",
      "Val  fold  : RMSE = 5.64727 R2 = 0.49391\n",
      "Test total : RMSE = 4.06728 R2 = 0.85352\n",
      "Saving model ...\n",
      "Model saved !  in  ../../Results/Models/LinearRegression/LinearRegression_fold_5.pkl\n",
      "Train mean cv : RMSE = 1.22039 |  R2 =0.97771\n",
      "Val   mean cv : RMSE = 5.85637 |  R2 =0.48375\n",
      "Test  mean cv : RMSE = 3.72771 |  R2 =0.87696\n",
      "Saving plot in  ../../Results/Models/LinearRegression/LinearRegression_test_prediction.png\n",
      "******************************\n",
      "Saving folds report in  ../../Results/Models/LinearRegression/LinearRegression_results_by_fold.csv\n",
      "Saving summary cv report in  ../../Results/Models/LinearRegression/LinearRegression_results.csv\n"
     ]
    }
   ],
   "source": [
    "from sklearn.linear_model import LinearRegression\n",
    "\n",
    "model = LinearRegression(positive=False)\n",
    "model_name = \"LinearRegression\"\n",
    "\n",
    "y_test_pred_cv = training.cross_validate(X_train_pca, y_train, X_test_pca, y_test,\n",
    "                                         n_splits=N_SPLITS,\n",
    "                                         model = model,model_name=model_name,\n",
    "                                         path_model=PATH_MODEL)"
   ]
  },
  {
   "cell_type": "code",
   "execution_count": 8,
   "metadata": {},
   "outputs": [
    {
     "name": "stdout",
     "output_type": "stream",
     "text": [
      "**********  Training  ElasticNet **********\n",
      "*****  Fold  1 *****\n",
      "Train fold : RMSE = 1.31865 R2 = 0.97437\n",
      "Val  fold  : RMSE = 4.45743 R2 = 0.68386\n",
      "Test total : RMSE = 3.77938 R2 = 0.87353\n",
      "Saving model ...\n",
      "Model saved !  in  ../../Results/Models/ElasticNet/ElasticNet_fold_1.pkl\n",
      "*****  Fold  2 *****\n",
      "Train fold : RMSE = 1.35272 R2 = 0.97307\n",
      "Val  fold  : RMSE = 4.44918 R2 = 0.68363\n",
      "Test total : RMSE = 3.80607 R2 = 0.87173\n",
      "Saving model ...\n",
      "Model saved !  in  ../../Results/Models/ElasticNet/ElasticNet_fold_2.pkl\n",
      "*****  Fold  3 *****\n",
      "Train fold : RMSE = 1.18337 R2 = 0.97821\n",
      "Val  fold  : RMSE = 4.72205 R2 = 0.71091\n",
      "Test total : RMSE = 3.76787 R2 = 0.87429\n",
      "Saving model ...\n",
      "Model saved !  in  ../../Results/Models/ElasticNet/ElasticNet_fold_3.pkl\n",
      "*****  Fold  4 *****\n",
      "Train fold : RMSE = 1.29912 R2 = 0.9746\n",
      "Val  fold  : RMSE = 4.64964 R2 = 0.68434\n",
      "Test total : RMSE = 3.86519 R2 = 0.86772\n",
      "Saving model ...\n",
      "Model saved !  in  ../../Results/Models/ElasticNet/ElasticNet_fold_4.pkl\n",
      "*****  Fold  5 *****\n",
      "Train fold : RMSE = 1.31656 R2 = 0.97445\n",
      "Val  fold  : RMSE = 4.4714 R2 = 0.68272\n",
      "Test total : RMSE = 3.87506 R2 = 0.86704\n",
      "Saving model ...\n",
      "Model saved !  in  ../../Results/Models/ElasticNet/ElasticNet_fold_5.pkl\n",
      "Train mean cv : RMSE = 1.29408 |  R2 =0.97494\n",
      "Val   mean cv : RMSE = 4.54994 |  R2 =0.68909\n",
      "Test  mean cv : RMSE = 3.66431 |  R2 =0.88111\n",
      "Saving plot in  ../../Results/Models/ElasticNet/ElasticNet_test_prediction.png\n",
      "******************************\n",
      "Saving folds report in  ../../Results/Models/ElasticNet/ElasticNet_results_by_fold.csv\n",
      "Saving summary cv report in  ../../Results/Models/ElasticNet/ElasticNet_results.csv\n"
     ]
    }
   ],
   "source": [
    "from sklearn.linear_model import ElasticNet\n",
    "model = ElasticNet(alpha=0.1,l1_ratio=0.01,random_state=0)\n",
    "model_name = \"ElasticNet\"\n",
    "\n",
    "y_test_pred_cv = training.cross_validate(X_train_pca, y_train, X_test_pca, y_test,\n",
    "                                         n_splits=N_SPLITS,\n",
    "                                         model = model,model_name=model_name,\n",
    "                                         path_model=PATH_MODEL)"
   ]
  },
  {
   "cell_type": "code",
   "execution_count": 9,
   "metadata": {},
   "outputs": [
    {
     "name": "stdout",
     "output_type": "stream",
     "text": [
      "**********  Training  BayesianRidge **********\n",
      "*****  Fold  1 *****\n"
     ]
    },
    {
     "name": "stderr",
     "output_type": "stream",
     "text": [
      "/media/cristian/Extreme SSD/Investigacion/NMA/nma_env/lib/python3.7/site-packages/sklearn/utils/validation.py:993: DataConversionWarning: A column-vector y was passed when a 1d array was expected. Please change the shape of y to (n_samples, ), for example using ravel().\n",
      "  y = column_or_1d(y, warn=True)\n"
     ]
    },
    {
     "name": "stdout",
     "output_type": "stream",
     "text": [
      "Train fold : RMSE = 1.89482 R2 = 0.94709\n",
      "Val  fold  : RMSE = 3.10113 R2 = 0.84698\n",
      "Test total : RMSE = 3.70203 R2 = 0.87865\n",
      "Saving model ...\n",
      "Model saved !  in  ../../Results/Models/BayesianRidge/BayesianRidge_fold_1.pkl\n",
      "*****  Fold  2 *****\n"
     ]
    },
    {
     "name": "stderr",
     "output_type": "stream",
     "text": [
      "/media/cristian/Extreme SSD/Investigacion/NMA/nma_env/lib/python3.7/site-packages/sklearn/utils/validation.py:993: DataConversionWarning: A column-vector y was passed when a 1d array was expected. Please change the shape of y to (n_samples, ), for example using ravel().\n",
      "  y = column_or_1d(y, warn=True)\n"
     ]
    },
    {
     "name": "stdout",
     "output_type": "stream",
     "text": [
      "Train fold : RMSE = 1.93697 R2 = 0.94478\n",
      "Val  fold  : RMSE = 2.9624 R2 = 0.85974\n",
      "Test total : RMSE = 3.7028 R2 = 0.8786\n",
      "Saving model ...\n",
      "Model saved !  in  ../../Results/Models/BayesianRidge/BayesianRidge_fold_2.pkl\n",
      "*****  Fold  3 *****\n"
     ]
    },
    {
     "name": "stderr",
     "output_type": "stream",
     "text": [
      "/media/cristian/Extreme SSD/Investigacion/NMA/nma_env/lib/python3.7/site-packages/sklearn/utils/validation.py:993: DataConversionWarning: A column-vector y was passed when a 1d array was expected. Please change the shape of y to (n_samples, ), for example using ravel().\n",
      "  y = column_or_1d(y, warn=True)\n"
     ]
    },
    {
     "name": "stdout",
     "output_type": "stream",
     "text": [
      "Train fold : RMSE = 1.67993 R2 = 0.9561\n",
      "Val  fold  : RMSE = 3.69734 R2 = 0.82276\n",
      "Test total : RMSE = 3.7236 R2 = 0.87723\n",
      "Saving model ...\n",
      "Model saved !  in  ../../Results/Models/BayesianRidge/BayesianRidge_fold_3.pkl\n",
      "*****  Fold  4 *****\n"
     ]
    },
    {
     "name": "stderr",
     "output_type": "stream",
     "text": [
      "/media/cristian/Extreme SSD/Investigacion/NMA/nma_env/lib/python3.7/site-packages/sklearn/utils/validation.py:993: DataConversionWarning: A column-vector y was passed when a 1d array was expected. Please change the shape of y to (n_samples, ), for example using ravel().\n",
      "  y = column_or_1d(y, warn=True)\n"
     ]
    },
    {
     "name": "stdout",
     "output_type": "stream",
     "text": [
      "Train fold : RMSE = 1.87012 R2 = 0.94737\n",
      "Val  fold  : RMSE = 3.17862 R2 = 0.85248\n",
      "Test total : RMSE = 3.70818 R2 = 0.87825\n",
      "Saving model ...\n",
      "Model saved !  in  ../../Results/Models/BayesianRidge/BayesianRidge_fold_4.pkl\n",
      "*****  Fold  5 *****\n"
     ]
    },
    {
     "name": "stderr",
     "output_type": "stream",
     "text": [
      "/media/cristian/Extreme SSD/Investigacion/NMA/nma_env/lib/python3.7/site-packages/sklearn/utils/validation.py:993: DataConversionWarning: A column-vector y was passed when a 1d array was expected. Please change the shape of y to (n_samples, ), for example using ravel().\n",
      "  y = column_or_1d(y, warn=True)\n"
     ]
    },
    {
     "name": "stdout",
     "output_type": "stream",
     "text": [
      "Train fold : RMSE = 1.89279 R2 = 0.94719\n",
      "Val  fold  : RMSE = 3.01136 R2 = 0.85609\n",
      "Test total : RMSE = 3.71912 R2 = 0.87753\n",
      "Saving model ...\n",
      "Model saved !  in  ../../Results/Models/BayesianRidge/BayesianRidge_fold_5.pkl\n",
      "Train mean cv : RMSE = 1.85493 |  R2 =0.94851\n",
      "Val   mean cv : RMSE = 3.19017 |  R2 =0.84761\n",
      "Test  mean cv : RMSE = 3.68221 |  R2 =0.87995\n",
      "Saving plot in  ../../Results/Models/BayesianRidge/BayesianRidge_test_prediction.png\n",
      "******************************\n",
      "Saving folds report in  ../../Results/Models/BayesianRidge/BayesianRidge_results_by_fold.csv\n",
      "Saving summary cv report in  ../../Results/Models/BayesianRidge/BayesianRidge_results.csv\n"
     ]
    }
   ],
   "source": [
    "from sklearn.linear_model import BayesianRidge\n",
    "model = BayesianRidge()\n",
    "model_name = \"BayesianRidge\"\n",
    "\n",
    "y_test_pred_cv = training.cross_validate(X_train_pca, y_train, X_test_pca, y_test,\n",
    "                                         n_splits=N_SPLITS,\n",
    "                                         model = model,model_name=model_name,\n",
    "                                         path_model=PATH_MODEL)"
   ]
  },
  {
   "cell_type": "code",
   "execution_count": 10,
   "metadata": {},
   "outputs": [
    {
     "name": "stdout",
     "output_type": "stream",
     "text": [
      "**********  Training  Ridge **********\n",
      "*****  Fold  1 *****\n",
      "Train fold : RMSE = 1.25628 R2 = 0.97674\n",
      "Val  fold  : RMSE = 5.12979 R2 = 0.5813\n",
      "Test total : RMSE = 3.87187 R2 = 0.86726\n",
      "Saving model ...\n",
      "Model saved !  in  ../../Results/Models/Ridge/Ridge_fold_1.pkl\n",
      "*****  Fold  2 *****\n",
      "Train fold : RMSE = 1.28794 R2 = 0.97559\n",
      "Val  fold  : RMSE = 5.382 R2 = 0.53706\n",
      "Test total : RMSE = 3.9458 R2 = 0.86214\n",
      "Saving model ...\n",
      "Model saved !  in  ../../Results/Models/Ridge/Ridge_fold_2.pkl\n",
      "*****  Fold  3 *****\n",
      "Train fold : RMSE = 1.1294 R2 = 0.98016\n",
      "Val  fold  : RMSE = 5.24569 R2 = 0.64324\n",
      "Test total : RMSE = 3.83263 R2 = 0.86994\n",
      "Saving model ...\n",
      "Model saved !  in  ../../Results/Models/Ridge/Ridge_fold_3.pkl\n",
      "*****  Fold  4 *****\n",
      "Train fold : RMSE = 1.23885 R2 = 0.9769\n",
      "Val  fold  : RMSE = 5.37442 R2 = 0.57826\n",
      "Test total : RMSE = 3.98737 R2 = 0.85922\n",
      "Saving model ...\n",
      "Model saved !  in  ../../Results/Models/Ridge/Ridge_fold_4.pkl\n",
      "*****  Fold  5 *****\n",
      "Train fold : RMSE = 1.25947 R2 = 0.97662\n",
      "Val  fold  : RMSE = 5.09619 R2 = 0.58786\n",
      "Test total : RMSE = 3.98274 R2 = 0.85955\n",
      "Saving model ...\n",
      "Model saved !  in  ../../Results/Models/Ridge/Ridge_fold_5.pkl\n",
      "Train mean cv : RMSE = 1.23439 |  R2 =0.9772\n",
      "Val   mean cv : RMSE = 5.24562 |  R2 =0.58554\n",
      "Test  mean cv : RMSE = 3.69785 |  R2 =0.87892\n",
      "Saving plot in  ../../Results/Models/Ridge/Ridge_test_prediction.png\n",
      "******************************\n",
      "Saving folds report in  ../../Results/Models/Ridge/Ridge_results_by_fold.csv\n",
      "Saving summary cv report in  ../../Results/Models/Ridge/Ridge_results.csv\n"
     ]
    }
   ],
   "source": [
    "from sklearn.linear_model import Ridge\n",
    "\n",
    "model =  Ridge(alpha=0.001,solver='sag')\n",
    "model_name = \"Ridge\"\n",
    "\n",
    "y_test_pred_cv = training.cross_validate(X_train_pca, y_train, X_test_pca, y_test,\n",
    "                                         n_splits=N_SPLITS,\n",
    "                                         model = model,model_name=model_name,\n",
    "                                         path_model=PATH_MODEL)"
   ]
  },
  {
   "cell_type": "code",
   "execution_count": 11,
   "metadata": {},
   "outputs": [
    {
     "name": "stdout",
     "output_type": "stream",
     "text": [
      "**********  Training  Lasso **********\n",
      "*****  Fold  1 *****\n",
      "Train fold : RMSE = 1.25111 R2 = 0.97693\n",
      "Val  fold  : RMSE = 5.43578 R2 = 0.52986\n",
      "Test total : RMSE = 3.91444 R2 = 0.86432\n",
      "Saving model ...\n",
      "Model saved !  in  ../../Results/Models/Lasso/Lasso_fold_1.pkl\n",
      "*****  Fold  2 *****\n",
      "Train fold : RMSE = 1.28966 R2 = 0.97552\n",
      "Val  fold  : RMSE = 5.5099 R2 = 0.51479\n",
      "Test total : RMSE = 3.9631 R2 = 0.86093\n",
      "Saving model ...\n",
      "Model saved !  in  ../../Results/Models/Lasso/Lasso_fold_2.pkl\n",
      "*****  Fold  3 *****\n",
      "Train fold : RMSE = 1.12338 R2 = 0.98037\n",
      "Val  fold  : RMSE = 5.53557 R2 = 0.60272\n",
      "Test total : RMSE = 3.86846 R2 = 0.86749\n",
      "Saving model ...\n",
      "Model saved !  in  ../../Results/Models/Lasso/Lasso_fold_3.pkl\n",
      "*****  Fold  4 *****\n",
      "Train fold : RMSE = 1.23181 R2 = 0.97717\n",
      "Val  fold  : RMSE = 5.727 R2 = 0.5211\n",
      "Test total : RMSE = 4.04858 R2 = 0.85487\n",
      "Saving model ...\n",
      "Model saved !  in  ../../Results/Models/Lasso/Lasso_fold_4.pkl\n",
      "*****  Fold  5 *****\n",
      "Train fold : RMSE = 1.25491 R2 = 0.97679\n",
      "Val  fold  : RMSE = 5.3489 R2 = 0.54597\n",
      "Test total : RMSE = 4.01989 R2 = 0.85692\n",
      "Saving model ...\n",
      "Model saved !  in  ../../Results/Models/Lasso/Lasso_fold_5.pkl\n",
      "Train mean cv : RMSE = 1.23017 |  R2 =0.97736\n",
      "Val   mean cv : RMSE = 5.51143 |  R2 =0.54289\n",
      "Test  mean cv : RMSE = 3.70979 |  R2 =0.87814\n",
      "Saving plot in  ../../Results/Models/Lasso/Lasso_test_prediction.png\n",
      "******************************\n",
      "Saving folds report in  ../../Results/Models/Lasso/Lasso_results_by_fold.csv\n",
      "Saving summary cv report in  ../../Results/Models/Lasso/Lasso_results.csv\n"
     ]
    }
   ],
   "source": [
    "from sklearn.linear_model import Lasso\n",
    "\n",
    "model =  Lasso(alpha=0.001)\n",
    "model_name = \"Lasso\"\n",
    "\n",
    "y_test_pred_cv = training.cross_validate(X_train_pca, y_train, X_test_pca, y_test,\n",
    "                                         n_splits=N_SPLITS,\n",
    "                                         model = model,model_name=model_name,\n",
    "                                         path_model=PATH_MODEL)"
   ]
  },
  {
   "cell_type": "code",
   "execution_count": 12,
   "metadata": {},
   "outputs": [
    {
     "name": "stdout",
     "output_type": "stream",
     "text": [
      "**********  Training  PoissonRegressor **********\n",
      "*****  Fold  1 *****\n"
     ]
    },
    {
     "name": "stderr",
     "output_type": "stream",
     "text": [
      "/media/cristian/Extreme SSD/Investigacion/NMA/nma_env/lib/python3.7/site-packages/sklearn/utils/validation.py:993: DataConversionWarning: A column-vector y was passed when a 1d array was expected. Please change the shape of y to (n_samples, ), for example using ravel().\n",
      "  y = column_or_1d(y, warn=True)\n",
      "/media/cristian/Extreme SSD/Investigacion/NMA/nma_env/lib/python3.7/site-packages/sklearn/linear_model/_glm/glm.py:323: ConvergenceWarning: lbfgs failed to converge (status=1):\n",
      "STOP: TOTAL NO. of ITERATIONS REACHED LIMIT.\n",
      "\n",
      "Increase the number of iterations (max_iter) or scale the data as shown in:\n",
      "    https://scikit-learn.org/stable/modules/preprocessing.html\n",
      "  self.n_iter_ = _check_optimize_result(\"lbfgs\", opt_res)\n",
      "/media/cristian/Extreme SSD/Investigacion/NMA/nma_env/lib/python3.7/site-packages/sklearn/utils/validation.py:993: DataConversionWarning: A column-vector y was passed when a 1d array was expected. Please change the shape of y to (n_samples, ), for example using ravel().\n",
      "  y = column_or_1d(y, warn=True)\n"
     ]
    },
    {
     "name": "stdout",
     "output_type": "stream",
     "text": [
      "Train fold : RMSE = 0.29111 R2 = 0.99875\n",
      "Val  fold  : RMSE = 226.88791 R2 = -818.08824\n",
      "Test total : RMSE = 20.78333 R2 = -2.82464\n",
      "Saving model ...\n",
      "Model saved !  in  ../../Results/Models/PoissonRegressor/PoissonRegressor_fold_1.pkl\n",
      "*****  Fold  2 *****\n"
     ]
    },
    {
     "name": "stderr",
     "output_type": "stream",
     "text": [
      "/media/cristian/Extreme SSD/Investigacion/NMA/nma_env/lib/python3.7/site-packages/sklearn/linear_model/_glm/glm.py:323: ConvergenceWarning: lbfgs failed to converge (status=1):\n",
      "STOP: TOTAL NO. of ITERATIONS REACHED LIMIT.\n",
      "\n",
      "Increase the number of iterations (max_iter) or scale the data as shown in:\n",
      "    https://scikit-learn.org/stable/modules/preprocessing.html\n",
      "  self.n_iter_ = _check_optimize_result(\"lbfgs\", opt_res)\n",
      "/media/cristian/Extreme SSD/Investigacion/NMA/nma_env/lib/python3.7/site-packages/sklearn/utils/validation.py:993: DataConversionWarning: A column-vector y was passed when a 1d array was expected. Please change the shape of y to (n_samples, ), for example using ravel().\n",
      "  y = column_or_1d(y, warn=True)\n"
     ]
    },
    {
     "name": "stdout",
     "output_type": "stream",
     "text": [
      "Train fold : RMSE = 0.22565 R2 = 0.99925\n",
      "Val  fold  : RMSE = 150.21559 R2 = -359.63617\n",
      "Test total : RMSE = 28.81758 R2 = -6.35319\n",
      "Saving model ...\n",
      "Model saved !  in  ../../Results/Models/PoissonRegressor/PoissonRegressor_fold_2.pkl\n",
      "*****  Fold  3 *****\n"
     ]
    },
    {
     "name": "stderr",
     "output_type": "stream",
     "text": [
      "/media/cristian/Extreme SSD/Investigacion/NMA/nma_env/lib/python3.7/site-packages/sklearn/linear_model/_glm/glm.py:323: ConvergenceWarning: lbfgs failed to converge (status=1):\n",
      "STOP: TOTAL NO. of ITERATIONS REACHED LIMIT.\n",
      "\n",
      "Increase the number of iterations (max_iter) or scale the data as shown in:\n",
      "    https://scikit-learn.org/stable/modules/preprocessing.html\n",
      "  self.n_iter_ = _check_optimize_result(\"lbfgs\", opt_res)\n",
      "/media/cristian/Extreme SSD/Investigacion/NMA/nma_env/lib/python3.7/site-packages/sklearn/utils/validation.py:993: DataConversionWarning: A column-vector y was passed when a 1d array was expected. Please change the shape of y to (n_samples, ), for example using ravel().\n",
      "  y = column_or_1d(y, warn=True)\n"
     ]
    },
    {
     "name": "stdout",
     "output_type": "stream",
     "text": [
      "Train fold : RMSE = 0.21755 R2 = 0.99926\n",
      "Val  fold  : RMSE = 345.36668 R2 = -1545.44544\n",
      "Test total : RMSE = 25.71948 R2 = -4.85713\n",
      "Saving model ...\n",
      "Model saved !  in  ../../Results/Models/PoissonRegressor/PoissonRegressor_fold_3.pkl\n",
      "*****  Fold  4 *****\n"
     ]
    },
    {
     "name": "stderr",
     "output_type": "stream",
     "text": [
      "/media/cristian/Extreme SSD/Investigacion/NMA/nma_env/lib/python3.7/site-packages/sklearn/linear_model/_glm/glm.py:323: ConvergenceWarning: lbfgs failed to converge (status=1):\n",
      "STOP: TOTAL NO. of ITERATIONS REACHED LIMIT.\n",
      "\n",
      "Increase the number of iterations (max_iter) or scale the data as shown in:\n",
      "    https://scikit-learn.org/stable/modules/preprocessing.html\n",
      "  self.n_iter_ = _check_optimize_result(\"lbfgs\", opt_res)\n",
      "/media/cristian/Extreme SSD/Investigacion/NMA/nma_env/lib/python3.7/site-packages/sklearn/utils/validation.py:993: DataConversionWarning: A column-vector y was passed when a 1d array was expected. Please change the shape of y to (n_samples, ), for example using ravel().\n",
      "  y = column_or_1d(y, warn=True)\n"
     ]
    },
    {
     "name": "stdout",
     "output_type": "stream",
     "text": [
      "Train fold : RMSE = 0.29298 R2 = 0.99871\n",
      "Val  fold  : RMSE = 540.87256 R2 = -4270.46514\n",
      "Test total : RMSE = 25.95153 R2 = -4.9633\n",
      "Saving model ...\n",
      "Model saved !  in  ../../Results/Models/PoissonRegressor/PoissonRegressor_fold_4.pkl\n",
      "*****  Fold  5 *****\n"
     ]
    },
    {
     "name": "stderr",
     "output_type": "stream",
     "text": [
      "/media/cristian/Extreme SSD/Investigacion/NMA/nma_env/lib/python3.7/site-packages/sklearn/linear_model/_glm/glm.py:323: ConvergenceWarning: lbfgs failed to converge (status=1):\n",
      "STOP: TOTAL NO. of ITERATIONS REACHED LIMIT.\n",
      "\n",
      "Increase the number of iterations (max_iter) or scale the data as shown in:\n",
      "    https://scikit-learn.org/stable/modules/preprocessing.html\n",
      "  self.n_iter_ = _check_optimize_result(\"lbfgs\", opt_res)\n"
     ]
    },
    {
     "name": "stdout",
     "output_type": "stream",
     "text": [
      "Train fold : RMSE = 0.27014 R2 = 0.99892\n",
      "Val  fold  : RMSE = 259.7356 R2 = -1069.57537\n",
      "Test total : RMSE = 38.61457 R2 = -12.20271\n",
      "Saving model ...\n",
      "Model saved !  in  ../../Results/Models/PoissonRegressor/PoissonRegressor_fold_5.pkl\n",
      "Train mean cv : RMSE = 0.25949 |  R2 =0.99898\n",
      "Val   mean cv : RMSE = 304.61567 |  R2 =-1612.64207\n",
      "Test  mean cv : RMSE = 21.85015 |  R2 =-3.22736\n",
      "Saving plot in  ../../Results/Models/PoissonRegressor/PoissonRegressor_test_prediction.png\n",
      "******************************\n",
      "Saving folds report in  ../../Results/Models/PoissonRegressor/PoissonRegressor_results_by_fold.csv\n",
      "Saving summary cv report in  ../../Results/Models/PoissonRegressor/PoissonRegressor_results.csv\n"
     ]
    }
   ],
   "source": [
    "from sklearn.linear_model import PoissonRegressor\n",
    "\n",
    "model =  PoissonRegressor(alpha=0.1)\n",
    "model_name = \"PoissonRegressor\"\n",
    "\n",
    "y_test_pred_cv = training.cross_validate(X_train_pca, y_train, X_test_pca, y_test,\n",
    "                                         n_splits=N_SPLITS,\n",
    "                                         model = model,model_name=model_name,\n",
    "                                         path_model=PATH_MODEL)"
   ]
  },
  {
   "cell_type": "raw",
   "metadata": {},
   "source": [
    "from sklearn.ensemble import GradientBoostingRegressor\n",
    "\n",
    "\n",
    "gbr_params = {'n_estimators': 100,\n",
    "          'max_depth': 10,\n",
    "          'min_samples_split': 5,\n",
    "          'learning_rate': 0.1,\n",
    "          'loss': 'squared_error'}\n",
    "\n",
    "model = GradientBoostingRegressor(**gbr_params)\n",
    "model_name = \"GradientBoostingRegressor\"\n",
    "\n",
    "y_test_pred_cv = training.cross_validate(X_train_pca, y_train, X_test_pca, y_test,\n",
    "                                         n_splits=N_SPLITS,\n",
    "                                         model = model,model_name=model_name,\n",
    "                                         path_model=PATH_MODEL)"
   ]
  },
  {
   "cell_type": "raw",
   "metadata": {},
   "source": [
    "from sklearn.svm import SVR\n",
    "\n",
    "model = SVR(kernel=\"rbf\", C=1, gamma=0.1, epsilon=0.1)\n",
    "model_name = \"SVR\"\n",
    "\n",
    "y_test_pred_cv = training.cross_validate(X_train_pca, y_train, X_test_pca, y_test,\n",
    "                                         n_splits=N_SPLITS,\n",
    "                                         model = model,model_name=model_name,\n",
    "                                         path_model=PATH_MODEL)"
   ]
  },
  {
   "cell_type": "code",
   "execution_count": 13,
   "metadata": {},
   "outputs": [
    {
     "name": "stdout",
     "output_type": "stream",
     "text": [
      "**********  Training  DecisionTreeRegressor **********\n",
      "*****  Fold  1 *****\n",
      "Train fold : RMSE = 0.19273 R2 = 0.99945\n",
      "Val  fold  : RMSE = 4.30846 R2 = 0.70464\n",
      "Test total : RMSE = 5.40587 R2 = 0.74124\n",
      "Saving model ...\n",
      "Model saved !  in  ../../Results/Models/DecisionTreeRegressor/DecisionTreeRegressor_fold_1.pkl\n",
      "*****  Fold  2 *****\n",
      "Train fold : RMSE = 0.20184 R2 = 0.9994\n",
      "Val  fold  : RMSE = 5.102 R2 = 0.58397\n",
      "Test total : RMSE = 5.54688 R2 = 0.72757\n",
      "Saving model ...\n",
      "Model saved !  in  ../../Results/Models/DecisionTreeRegressor/DecisionTreeRegressor_fold_2.pkl\n",
      "*****  Fold  3 *****\n",
      "Train fold : RMSE = 0.21161 R2 = 0.9993\n",
      "Val  fold  : RMSE = 5.26308 R2 = 0.64087\n",
      "Test total : RMSE = 5.39956 R2 = 0.74185\n",
      "Saving model ...\n",
      "Model saved !  in  ../../Results/Models/DecisionTreeRegressor/DecisionTreeRegressor_fold_3.pkl\n",
      "*****  Fold  4 *****\n",
      "Train fold : RMSE = 0.15648 R2 = 0.99963\n",
      "Val  fold  : RMSE = 4.92815 R2 = 0.64539\n",
      "Test total : RMSE = 6.03887 R2 = 0.6771\n",
      "Saving model ...\n",
      "Model saved !  in  ../../Results/Models/DecisionTreeRegressor/DecisionTreeRegressor_fold_4.pkl\n",
      "*****  Fold  5 *****\n",
      "Train fold : RMSE = 0.17693 R2 = 0.99954\n",
      "Val  fold  : RMSE = 4.7943 R2 = 0.63524\n",
      "Test total : RMSE = 5.81342 R2 = 0.70076\n",
      "Saving model ...\n",
      "Model saved !  in  ../../Results/Models/DecisionTreeRegressor/DecisionTreeRegressor_fold_5.pkl\n",
      "Train mean cv : RMSE = 0.18792 |  R2 =0.99946\n",
      "Val   mean cv : RMSE = 4.8792 |  R2 =0.64202\n",
      "Test  mean cv : RMSE = 4.38253 |  R2 =0.82994\n",
      "Saving plot in  ../../Results/Models/DecisionTreeRegressor/DecisionTreeRegressor_test_prediction.png\n",
      "******************************\n",
      "Saving folds report in  ../../Results/Models/DecisionTreeRegressor/DecisionTreeRegressor_results_by_fold.csv\n",
      "Saving summary cv report in  ../../Results/Models/DecisionTreeRegressor/DecisionTreeRegressor_results.csv\n"
     ]
    }
   ],
   "source": [
    "from sklearn.tree import DecisionTreeRegressor\n",
    "model = DecisionTreeRegressor(random_state=0,max_depth=20)\n",
    "model_name = \"DecisionTreeRegressor\"\n",
    "\n",
    "y_test_pred_cv = training.cross_validate(X_train_pca, y_train, X_test_pca, y_test,\n",
    "                                         n_splits=N_SPLITS,\n",
    "                                         model = model,model_name=model_name,\n",
    "                                         path_model=PATH_MODEL)"
   ]
  },
  {
   "cell_type": "raw",
   "metadata": {},
   "source": [
    "from sklearn.ensemble import RandomForestRegressor\n",
    "model = RandomForestRegressor(max_depth=5, random_state=0)\n",
    "model_name = \"RandomForestRegressor\"\n",
    "\n",
    "y_test_pred_cv = training.cross_validate(X_train_pca, y_train, X_test_pca, y_test,\n",
    "                                         n_splits=N_SPLITS,\n",
    "                                         model = model,model_name=model_name,\n",
    "                                         path_model=PATH_MODEL)"
   ]
  },
  {
   "cell_type": "code",
   "execution_count": 14,
   "metadata": {
    "scrolled": true,
    "tags": []
   },
   "outputs": [
    {
     "name": "stdout",
     "output_type": "stream",
     "text": [
      "**********  Training  XGBRegressor **********\n",
      "*****  Fold  1 *****\n"
     ]
    },
    {
     "name": "stderr",
     "output_type": "stream",
     "text": [
      "/media/cristian/Extreme SSD/Investigacion/NMA/nma_env/lib/python3.7/site-packages/xgboost/sklearn.py:797: UserWarning: `eval_metric` in `fit` method is deprecated for better compatibility with scikit-learn, use `eval_metric` in constructor or`set_params` instead.\n",
      "  UserWarning,\n",
      "/media/cristian/Extreme SSD/Investigacion/NMA/nma_env/lib/python3.7/site-packages/xgboost/sklearn.py:797: UserWarning: `early_stopping_rounds` in `fit` method is deprecated for better compatibility with scikit-learn, use `early_stopping_rounds` in constructor or`set_params` instead.\n",
      "  UserWarning,\n"
     ]
    },
    {
     "name": "stdout",
     "output_type": "stream",
     "text": [
      "[18:22:16] WARNING: ../src/objective/regression_obj.cu:203: reg:linear is now deprecated in favor of reg:squarederror.\n",
      "[0]\tvalidation_0-rmse:7.98098\tvalidation_1-rmse:7.71484\n",
      "[50]\tvalidation_0-rmse:0.33253\tvalidation_1-rmse:3.55141\n",
      "[100]\tvalidation_0-rmse:0.07028\tvalidation_1-rmse:3.50276\n",
      "[127]\tvalidation_0-rmse:0.02840\tvalidation_1-rmse:3.50046\n",
      "Train fold : RMSE = 0.02706 R2 = 0.99999\n",
      "Val  fold  : RMSE = 3.50022 R2 = 0.80506\n",
      "Test total : RMSE = 4.29694 R2 = 0.83651\n",
      "Saving model ...\n",
      "Model saved !  in  ../../Results/Models/XGBRegressor/XGBRegressor_fold_1.pkl\n",
      "*****  Fold  2 *****\n",
      "[18:22:39] WARNING: ../src/objective/regression_obj.cu:203: reg:linear is now deprecated in favor of reg:squarederror.\n"
     ]
    },
    {
     "name": "stderr",
     "output_type": "stream",
     "text": [
      "/media/cristian/Extreme SSD/Investigacion/NMA/nma_env/lib/python3.7/site-packages/xgboost/sklearn.py:797: UserWarning: `eval_metric` in `fit` method is deprecated for better compatibility with scikit-learn, use `eval_metric` in constructor or`set_params` instead.\n",
      "  UserWarning,\n",
      "/media/cristian/Extreme SSD/Investigacion/NMA/nma_env/lib/python3.7/site-packages/xgboost/sklearn.py:797: UserWarning: `early_stopping_rounds` in `fit` method is deprecated for better compatibility with scikit-learn, use `early_stopping_rounds` in constructor or`set_params` instead.\n",
      "  UserWarning,\n"
     ]
    },
    {
     "name": "stdout",
     "output_type": "stream",
     "text": [
      "[0]\tvalidation_0-rmse:7.97577\tvalidation_1-rmse:7.79009\n",
      "[50]\tvalidation_0-rmse:0.32271\tvalidation_1-rmse:3.70559\n",
      "[100]\tvalidation_0-rmse:0.05381\tvalidation_1-rmse:3.66072\n",
      "[127]\tvalidation_0-rmse:0.02171\tvalidation_1-rmse:3.65881\n",
      "Train fold : RMSE = 0.02033 R2 = 0.99999\n",
      "Val  fold  : RMSE = 3.65869 R2 = 0.78606\n",
      "Test total : RMSE = 4.17496 R2 = 0.84566\n",
      "Saving model ...\n",
      "Model saved !  in  ../../Results/Models/XGBRegressor/XGBRegressor_fold_2.pkl\n",
      "*****  Fold  3 *****\n",
      "[18:23:05] WARNING: ../src/objective/regression_obj.cu:203: reg:linear is now deprecated in favor of reg:squarederror.\n"
     ]
    },
    {
     "name": "stderr",
     "output_type": "stream",
     "text": [
      "/media/cristian/Extreme SSD/Investigacion/NMA/nma_env/lib/python3.7/site-packages/xgboost/sklearn.py:797: UserWarning: `eval_metric` in `fit` method is deprecated for better compatibility with scikit-learn, use `eval_metric` in constructor or`set_params` instead.\n",
      "  UserWarning,\n",
      "/media/cristian/Extreme SSD/Investigacion/NMA/nma_env/lib/python3.7/site-packages/xgboost/sklearn.py:797: UserWarning: `early_stopping_rounds` in `fit` method is deprecated for better compatibility with scikit-learn, use `early_stopping_rounds` in constructor or`set_params` instead.\n",
      "  UserWarning,\n"
     ]
    },
    {
     "name": "stdout",
     "output_type": "stream",
     "text": [
      "[0]\tvalidation_0-rmse:7.73584\tvalidation_1-rmse:8.69963\n",
      "[50]\tvalidation_0-rmse:0.28763\tvalidation_1-rmse:4.45255\n",
      "[100]\tvalidation_0-rmse:0.05246\tvalidation_1-rmse:4.40507\n",
      "[127]\tvalidation_0-rmse:0.01889\tvalidation_1-rmse:4.40346\n",
      "Train fold : RMSE = 0.01969 R2 = 0.99999\n",
      "Val  fold  : RMSE = 4.40331 R2 = 0.74862\n",
      "Test total : RMSE = 4.15864 R2 = 0.84687\n",
      "Saving model ...\n",
      "Model saved !  in  ../../Results/Models/XGBRegressor/XGBRegressor_fold_3.pkl\n",
      "*****  Fold  4 *****\n",
      "[18:23:30] WARNING: ../src/objective/regression_obj.cu:203: reg:linear is now deprecated in favor of reg:squarederror.\n"
     ]
    },
    {
     "name": "stderr",
     "output_type": "stream",
     "text": [
      "/media/cristian/Extreme SSD/Investigacion/NMA/nma_env/lib/python3.7/site-packages/xgboost/sklearn.py:797: UserWarning: `eval_metric` in `fit` method is deprecated for better compatibility with scikit-learn, use `eval_metric` in constructor or`set_params` instead.\n",
      "  UserWarning,\n",
      "/media/cristian/Extreme SSD/Investigacion/NMA/nma_env/lib/python3.7/site-packages/xgboost/sklearn.py:797: UserWarning: `early_stopping_rounds` in `fit` method is deprecated for better compatibility with scikit-learn, use `early_stopping_rounds` in constructor or`set_params` instead.\n",
      "  UserWarning,\n"
     ]
    },
    {
     "name": "stdout",
     "output_type": "stream",
     "text": [
      "[0]\tvalidation_0-rmse:7.86020\tvalidation_1-rmse:8.20704\n",
      "[50]\tvalidation_0-rmse:0.29663\tvalidation_1-rmse:3.63138\n",
      "[100]\tvalidation_0-rmse:0.04463\tvalidation_1-rmse:3.58533\n",
      "[127]\tvalidation_0-rmse:0.01623\tvalidation_1-rmse:3.58408\n",
      "Train fold : RMSE = 0.01585 R2 = 1.0\n",
      "Val  fold  : RMSE = 3.58394 R2 = 0.81245\n",
      "Test total : RMSE = 4.20033 R2 = 0.84378\n",
      "Saving model ...\n",
      "Model saved !  in  ../../Results/Models/XGBRegressor/XGBRegressor_fold_4.pkl\n",
      "*****  Fold  5 *****\n",
      "[18:23:55] WARNING: ../src/objective/regression_obj.cu:203: reg:linear is now deprecated in favor of reg:squarederror.\n"
     ]
    },
    {
     "name": "stderr",
     "output_type": "stream",
     "text": [
      "/media/cristian/Extreme SSD/Investigacion/NMA/nma_env/lib/python3.7/site-packages/xgboost/sklearn.py:797: UserWarning: `eval_metric` in `fit` method is deprecated for better compatibility with scikit-learn, use `eval_metric` in constructor or`set_params` instead.\n",
      "  UserWarning,\n",
      "/media/cristian/Extreme SSD/Investigacion/NMA/nma_env/lib/python3.7/site-packages/xgboost/sklearn.py:797: UserWarning: `early_stopping_rounds` in `fit` method is deprecated for better compatibility with scikit-learn, use `early_stopping_rounds` in constructor or`set_params` instead.\n",
      "  UserWarning,\n"
     ]
    },
    {
     "name": "stdout",
     "output_type": "stream",
     "text": [
      "[0]\tvalidation_0-rmse:7.96093\tvalidation_1-rmse:7.75712\n",
      "[50]\tvalidation_0-rmse:0.32576\tvalidation_1-rmse:3.57219\n",
      "[100]\tvalidation_0-rmse:0.06450\tvalidation_1-rmse:3.52165\n",
      "[127]\tvalidation_0-rmse:0.02484\tvalidation_1-rmse:3.52009\n",
      "Train fold : RMSE = 0.02384 R2 = 0.99999\n",
      "Val  fold  : RMSE = 3.51965 R2 = 0.80341\n",
      "Test total : RMSE = 4.19347 R2 = 0.84429\n",
      "Saving model ...\n",
      "Model saved !  in  ../../Results/Models/XGBRegressor/XGBRegressor_fold_5.pkl\n",
      "Train mean cv : RMSE = 0.02135 |  R2 =0.99999\n",
      "Val   mean cv : RMSE = 3.73316 |  R2 =0.79112\n",
      "Test  mean cv : RMSE = 4.06891 |  R2 =0.85341\n",
      "Saving plot in  ../../Results/Models/XGBRegressor/XGBRegressor_test_prediction.png\n",
      "******************************\n",
      "Saving folds report in  ../../Results/Models/XGBRegressor/XGBRegressor_results_by_fold.csv\n",
      "Saving summary cv report in  ../../Results/Models/XGBRegressor/XGBRegressor_results.csv\n"
     ]
    }
   ],
   "source": [
    "import xgboost as xgb\n",
    "model = xgb.XGBRegressor(objective ='reg:linear', colsample_bytree = 0.3, \n",
    "                         learning_rate = 0.1, max_depth = 10, n_estimators =128)\n",
    "\n",
    "model_name = \"XGBRegressor\"\n",
    "\n",
    "y_test_pred_cv = training.cross_validate(X_train_pca, y_train, X_test_pca, y_test,\n",
    "                                         n_splits=N_SPLITS,\n",
    "                                         model = model,model_name=model_name,\n",
    "                                         path_model=PATH_MODEL)"
   ]
  },
  {
   "cell_type": "code",
   "execution_count": 15,
   "metadata": {},
   "outputs": [
    {
     "name": "stdout",
     "output_type": "stream",
     "text": [
      "**********  Training  LGBMRegressor **********\n",
      "*****  Fold  1 *****\n"
     ]
    },
    {
     "name": "stderr",
     "output_type": "stream",
     "text": [
      "/media/cristian/Extreme SSD/Investigacion/NMA/nma_env/lib/python3.7/site-packages/sklearn/utils/validation.py:993: DataConversionWarning: A column-vector y was passed when a 1d array was expected. Please change the shape of y to (n_samples, ), for example using ravel().\n",
      "  y = column_or_1d(y, warn=True)\n",
      "/media/cristian/Extreme SSD/Investigacion/NMA/nma_env/lib/python3.7/site-packages/lightgbm/sklearn.py:726: UserWarning: 'early_stopping_rounds' argument is deprecated and will be removed in a future release of LightGBM. Pass 'early_stopping()' callback via 'callbacks' argument instead.\n",
      "  _log_warning(\"'early_stopping_rounds' argument is deprecated and will be removed in a future release of LightGBM. \"\n",
      "/media/cristian/Extreme SSD/Investigacion/NMA/nma_env/lib/python3.7/site-packages/lightgbm/sklearn.py:736: UserWarning: 'verbose' argument is deprecated and will be removed in a future release of LightGBM. Pass 'log_evaluation()' callback via 'callbacks' argument instead.\n",
      "  _log_warning(\"'verbose' argument is deprecated and will be removed in a future release of LightGBM. \"\n",
      "/media/cristian/Extreme SSD/Investigacion/NMA/nma_env/lib/python3.7/site-packages/lightgbm/basic.py:179: UserWarning: Converting column-vector to 1d array\n",
      "  _log_warning('Converting column-vector to 1d array')\n"
     ]
    },
    {
     "name": "stdout",
     "output_type": "stream",
     "text": [
      "[50]\ttraining's rmse: 3.43612\ttraining's l2: 11.8069\tvalid_1's rmse: 3.37125\tvalid_1's l2: 11.3653\n",
      "[100]\ttraining's rmse: 2.83242\ttraining's l2: 8.02258\tvalid_1's rmse: 3.0996\tvalid_1's l2: 9.60751\n",
      "Train fold : RMSE = 2.50275 R2 = 0.90768\n",
      "Val  fold  : RMSE = 3.00721 R2 = 0.85611\n",
      "Test total : RMSE = 3.80106 R2 = 0.87207\n",
      "Saving model ...\n",
      "Model saved !  in  ../../Results/Models/LGBMRegressor/LGBMRegressor_fold_1.pkl\n",
      "*****  Fold  2 *****\n"
     ]
    },
    {
     "name": "stderr",
     "output_type": "stream",
     "text": [
      "/media/cristian/Extreme SSD/Investigacion/NMA/nma_env/lib/python3.7/site-packages/sklearn/utils/validation.py:993: DataConversionWarning: A column-vector y was passed when a 1d array was expected. Please change the shape of y to (n_samples, ), for example using ravel().\n",
      "  y = column_or_1d(y, warn=True)\n",
      "/media/cristian/Extreme SSD/Investigacion/NMA/nma_env/lib/python3.7/site-packages/lightgbm/sklearn.py:726: UserWarning: 'early_stopping_rounds' argument is deprecated and will be removed in a future release of LightGBM. Pass 'early_stopping()' callback via 'callbacks' argument instead.\n",
      "  _log_warning(\"'early_stopping_rounds' argument is deprecated and will be removed in a future release of LightGBM. \"\n",
      "/media/cristian/Extreme SSD/Investigacion/NMA/nma_env/lib/python3.7/site-packages/lightgbm/sklearn.py:736: UserWarning: 'verbose' argument is deprecated and will be removed in a future release of LightGBM. Pass 'log_evaluation()' callback via 'callbacks' argument instead.\n",
      "  _log_warning(\"'verbose' argument is deprecated and will be removed in a future release of LightGBM. \"\n",
      "/media/cristian/Extreme SSD/Investigacion/NMA/nma_env/lib/python3.7/site-packages/lightgbm/basic.py:179: UserWarning: Converting column-vector to 1d array\n",
      "  _log_warning('Converting column-vector to 1d array')\n"
     ]
    },
    {
     "name": "stdout",
     "output_type": "stream",
     "text": [
      "[50]\ttraining's rmse: 3.40859\ttraining's l2: 11.6185\tvalid_1's rmse: 3.53976\tvalid_1's l2: 12.5299\n",
      "[100]\ttraining's rmse: 2.81871\ttraining's l2: 7.94513\tvalid_1's rmse: 3.2569\tvalid_1's l2: 10.6074\n",
      "Train fold : RMSE = 2.50205 R2 = 0.90787\n",
      "Val  fold  : RMSE = 3.16989 R2 = 0.83941\n",
      "Test total : RMSE = 3.77632 R2 = 0.87373\n",
      "Saving model ...\n",
      "Model saved !  in  ../../Results/Models/LGBMRegressor/LGBMRegressor_fold_2.pkl\n",
      "*****  Fold  3 *****\n"
     ]
    },
    {
     "name": "stderr",
     "output_type": "stream",
     "text": [
      "/media/cristian/Extreme SSD/Investigacion/NMA/nma_env/lib/python3.7/site-packages/sklearn/utils/validation.py:993: DataConversionWarning: A column-vector y was passed when a 1d array was expected. Please change the shape of y to (n_samples, ), for example using ravel().\n",
      "  y = column_or_1d(y, warn=True)\n",
      "/media/cristian/Extreme SSD/Investigacion/NMA/nma_env/lib/python3.7/site-packages/lightgbm/sklearn.py:726: UserWarning: 'early_stopping_rounds' argument is deprecated and will be removed in a future release of LightGBM. Pass 'early_stopping()' callback via 'callbacks' argument instead.\n",
      "  _log_warning(\"'early_stopping_rounds' argument is deprecated and will be removed in a future release of LightGBM. \"\n",
      "/media/cristian/Extreme SSD/Investigacion/NMA/nma_env/lib/python3.7/site-packages/lightgbm/sklearn.py:736: UserWarning: 'verbose' argument is deprecated and will be removed in a future release of LightGBM. Pass 'log_evaluation()' callback via 'callbacks' argument instead.\n",
      "  _log_warning(\"'verbose' argument is deprecated and will be removed in a future release of LightGBM. \"\n",
      "/media/cristian/Extreme SSD/Investigacion/NMA/nma_env/lib/python3.7/site-packages/lightgbm/basic.py:179: UserWarning: Converting column-vector to 1d array\n",
      "  _log_warning('Converting column-vector to 1d array')\n"
     ]
    },
    {
     "name": "stdout",
     "output_type": "stream",
     "text": [
      "[50]\ttraining's rmse: 3.32718\ttraining's l2: 11.0702\tvalid_1's rmse: 4.25393\tvalid_1's l2: 18.0959\n",
      "[100]\ttraining's rmse: 2.7149\ttraining's l2: 7.37066\tvalid_1's rmse: 3.91913\tvalid_1's l2: 15.3596\n",
      "Train fold : RMSE = 2.67529 R2 = 0.88866\n",
      "Val  fold  : RMSE = 3.89713 R2 = 0.80309\n",
      "Test total : RMSE = 3.88729 R2 = 0.8662\n",
      "Saving model ...\n",
      "Model saved !  in  ../../Results/Models/LGBMRegressor/LGBMRegressor_fold_3.pkl\n",
      "*****  Fold  4 *****\n"
     ]
    },
    {
     "name": "stderr",
     "output_type": "stream",
     "text": [
      "/media/cristian/Extreme SSD/Investigacion/NMA/nma_env/lib/python3.7/site-packages/sklearn/utils/validation.py:993: DataConversionWarning: A column-vector y was passed when a 1d array was expected. Please change the shape of y to (n_samples, ), for example using ravel().\n",
      "  y = column_or_1d(y, warn=True)\n",
      "/media/cristian/Extreme SSD/Investigacion/NMA/nma_env/lib/python3.7/site-packages/lightgbm/sklearn.py:726: UserWarning: 'early_stopping_rounds' argument is deprecated and will be removed in a future release of LightGBM. Pass 'early_stopping()' callback via 'callbacks' argument instead.\n",
      "  _log_warning(\"'early_stopping_rounds' argument is deprecated and will be removed in a future release of LightGBM. \"\n",
      "/media/cristian/Extreme SSD/Investigacion/NMA/nma_env/lib/python3.7/site-packages/lightgbm/sklearn.py:736: UserWarning: 'verbose' argument is deprecated and will be removed in a future release of LightGBM. Pass 'log_evaluation()' callback via 'callbacks' argument instead.\n",
      "  _log_warning(\"'verbose' argument is deprecated and will be removed in a future release of LightGBM. \"\n",
      "/media/cristian/Extreme SSD/Investigacion/NMA/nma_env/lib/python3.7/site-packages/lightgbm/basic.py:179: UserWarning: Converting column-vector to 1d array\n",
      "  _log_warning('Converting column-vector to 1d array')\n"
     ]
    },
    {
     "name": "stdout",
     "output_type": "stream",
     "text": [
      "[50]\ttraining's rmse: 3.43714\ttraining's l2: 11.8139\tvalid_1's rmse: 3.58611\tvalid_1's l2: 12.8602\n",
      "[100]\ttraining's rmse: 2.82998\ttraining's l2: 8.00877\tvalid_1's rmse: 3.26397\tvalid_1's l2: 10.6535\n",
      "[150]\ttraining's rmse: 2.42492\ttraining's l2: 5.88023\tvalid_1's rmse: 3.19032\tvalid_1's l2: 10.1782\n",
      "[200]\ttraining's rmse: 2.09468\ttraining's l2: 4.3877\tvalid_1's rmse: 3.14627\tvalid_1's l2: 9.899\n",
      "Train fold : RMSE = 1.98272 R2 = 0.94084\n",
      "Val  fold  : RMSE = 3.10435 R2 = 0.85929\n",
      "Test total : RMSE = 3.71301 R2 = 0.87793\n",
      "Saving model ...\n",
      "Model saved !  in  ../../Results/Models/LGBMRegressor/LGBMRegressor_fold_4.pkl\n",
      "*****  Fold  5 *****\n"
     ]
    },
    {
     "name": "stderr",
     "output_type": "stream",
     "text": [
      "/media/cristian/Extreme SSD/Investigacion/NMA/nma_env/lib/python3.7/site-packages/sklearn/utils/validation.py:993: DataConversionWarning: A column-vector y was passed when a 1d array was expected. Please change the shape of y to (n_samples, ), for example using ravel().\n",
      "  y = column_or_1d(y, warn=True)\n",
      "/media/cristian/Extreme SSD/Investigacion/NMA/nma_env/lib/python3.7/site-packages/lightgbm/sklearn.py:726: UserWarning: 'early_stopping_rounds' argument is deprecated and will be removed in a future release of LightGBM. Pass 'early_stopping()' callback via 'callbacks' argument instead.\n",
      "  _log_warning(\"'early_stopping_rounds' argument is deprecated and will be removed in a future release of LightGBM. \"\n",
      "/media/cristian/Extreme SSD/Investigacion/NMA/nma_env/lib/python3.7/site-packages/lightgbm/sklearn.py:736: UserWarning: 'verbose' argument is deprecated and will be removed in a future release of LightGBM. Pass 'log_evaluation()' callback via 'callbacks' argument instead.\n",
      "  _log_warning(\"'verbose' argument is deprecated and will be removed in a future release of LightGBM. \"\n",
      "/media/cristian/Extreme SSD/Investigacion/NMA/nma_env/lib/python3.7/site-packages/lightgbm/basic.py:179: UserWarning: Converting column-vector to 1d array\n",
      "  _log_warning('Converting column-vector to 1d array')\n"
     ]
    },
    {
     "name": "stdout",
     "output_type": "stream",
     "text": [
      "[50]\ttraining's rmse: 3.4521\ttraining's l2: 11.917\tvalid_1's rmse: 3.41256\tvalid_1's l2: 11.6456\n",
      "[100]\ttraining's rmse: 2.82147\ttraining's l2: 7.96067\tvalid_1's rmse: 3.18539\tvalid_1's l2: 10.1467\n",
      "Train fold : RMSE = 2.56186 R2 = 0.90326\n",
      "Val  fold  : RMSE = 3.10723 R2 = 0.84679\n",
      "Test total : RMSE = 3.74106 R2 = 0.87608\n",
      "Saving model ...\n",
      "Model saved !  in  ../../Results/Models/LGBMRegressor/LGBMRegressor_fold_5.pkl\n",
      "Train mean cv : RMSE = 2.44493 |  R2 =0.90966\n",
      "Val   mean cv : RMSE = 3.25716 |  R2 =0.84094\n",
      "Test  mean cv : RMSE = 3.73686 |  R2 =0.87636\n",
      "Saving plot in  ../../Results/Models/LGBMRegressor/LGBMRegressor_test_prediction.png\n",
      "******************************\n",
      "Saving folds report in  ../../Results/Models/LGBMRegressor/LGBMRegressor_results_by_fold.csv\n",
      "Saving summary cv report in  ../../Results/Models/LGBMRegressor/LGBMRegressor_results.csv\n"
     ]
    }
   ],
   "source": [
    "from lightgbm import LGBMRegressor\n",
    "\n",
    "\n",
    "model = LGBMRegressor(objective='regression', \n",
    "        n_estimators=1000,\n",
    "        learning_rate=0.1,\n",
    "        subsample=0.8,\n",
    "        colsample_bytree=0.8,\n",
    "        max_depth=25,\n",
    "        num_leaves=200,\n",
    "        min_child_weight=300\n",
    "    )\n",
    "model_name = \"LGBMRegressor\"\n",
    "\n",
    "y_test_pred_cv = training.cross_validate(X_train_pca, y_train, X_test_pca, y_test,\n",
    "                                         n_splits=N_SPLITS,\n",
    "                                         model = model,model_name=model_name,\n",
    "                                         path_model=PATH_MODEL)"
   ]
  },
  {
   "cell_type": "code",
   "execution_count": 17,
   "metadata": {},
   "outputs": [
    {
     "name": "stdout",
     "output_type": "stream",
     "text": [
      "Completed!\n"
     ]
    }
   ],
   "source": [
    "print('Completed!')"
   ]
  },
  {
   "cell_type": "code",
   "execution_count": null,
   "metadata": {},
   "outputs": [],
   "source": []
  },
  {
   "cell_type": "code",
   "execution_count": null,
   "metadata": {},
   "outputs": [],
   "source": []
  },
  {
   "cell_type": "code",
   "execution_count": null,
   "metadata": {},
   "outputs": [],
   "source": []
  },
  {
   "cell_type": "code",
   "execution_count": null,
   "metadata": {},
   "outputs": [],
   "source": []
  }
 ],
 "metadata": {
  "kernelspec": {
   "display_name": "Python 3",
   "language": "python",
   "name": "python3"
  },
  "language_info": {
   "codemirror_mode": {
    "name": "ipython",
    "version": 3
   },
   "file_extension": ".py",
   "mimetype": "text/x-python",
   "name": "python",
   "nbconvert_exporter": "python",
   "pygments_lexer": "ipython3",
   "version": "3.7.13"
  },
  "vscode": {
   "interpreter": {
    "hash": "ab03de97cb27e72b9345597031e3c6c730729f021d7ad0cc14a0cc747ba2231e"
   }
  }
 },
 "nbformat": 4,
 "nbformat_minor": 4
}
