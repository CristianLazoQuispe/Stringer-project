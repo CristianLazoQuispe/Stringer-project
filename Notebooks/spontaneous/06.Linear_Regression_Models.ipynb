{
 "cells": [
  {
   "cell_type": "code",
   "execution_count": 1,
   "metadata": {},
   "outputs": [],
   "source": [
    "import os\n",
    "import sys\n",
    "sys.path.insert(1, '../../Src/')\n",
    "import numpy as np\n",
    "from utils import preprocessing\n",
    "from models import training\n",
    "\n",
    "PATH_DATA          = '../../Data/'\n",
    "PATH_MODEL         = '../../Results/Models/'\n",
    "\n",
    "FNMAME             = \"stringer_spontaneous.npy\"\n",
    "TARGET             = \"pupilArea\"\n",
    "FEATURES           = \"sresp\"\n",
    "\n",
    "\n",
    "THRESHOLDING_FLAG  = False\n",
    "THRESHOLDING_MAX   = 95  # 95%\n",
    "\n",
    "\n",
    "NORMALIZATION_FLAG = True\n",
    "TEST_SIZE          = 0.2\n",
    "\n",
    "PCA_FLAG           = True\n",
    "MAX_VARIANCE_EXPLAINED = 0.25\n",
    "\n",
    "N_SPLITS = 5\n",
    "\n",
    "\n",
    "np.random.seed(42)\n",
    "\n",
    "%matplotlib inline\n",
    "%load_ext autoreload \n",
    "%autoreload 2"
   ]
  },
  {
   "cell_type": "code",
   "execution_count": 2,
   "metadata": {},
   "outputs": [
    {
     "name": "stdout",
     "output_type": "stream",
     "text": [
      "dict_keys(['sresp', 'run', 'beh_svd_time', 'beh_svd_mask', 'stat', 'pupilArea', 'pupilCOM', 'xyz'])\n",
      " X size : (7018, 11983)\n",
      " y size : (7018, 1)\n"
     ]
    }
   ],
   "source": [
    "X,y = preprocessing.get_dataset(PATH_DATA,FNMAME,FEATURES,TARGET)"
   ]
  },
  {
   "cell_type": "code",
   "execution_count": 3,
   "metadata": {},
   "outputs": [
    {
     "name": "stdout",
     "output_type": "stream",
     "text": [
      "X train :  (5264, 11983) y train : (5264, 1)\n",
      "X test  :  (1754, 11983) y test  : (1754, 1)\n"
     ]
    }
   ],
   "source": [
    "X_train,X_test,y_train,y_test = preprocessing.simple_temporal_splitting(X,y,test_size=TEST_SIZE)"
   ]
  },
  {
   "cell_type": "code",
   "execution_count": 4,
   "metadata": {},
   "outputs": [],
   "source": [
    "if THRESHOLDING_FLAG:\n",
    "    X_train,X_test = preprocessing.thresholding(X_train,X_test,thresholing_max=THRESHOLDING_MAX)"
   ]
  },
  {
   "cell_type": "code",
   "execution_count": 5,
   "metadata": {},
   "outputs": [
    {
     "name": "stdout",
     "output_type": "stream",
     "text": [
      "Normalization process ..\n",
      "X train : mean [0]= 6.6743774 std [0]= 6.6743774\n",
      "X test  : mean [0]= 7.5208654 std [0]= 8.151653\n",
      "Normalization completed!\n",
      "X train : mean [0]= 1.9628543e-07 std [0]= 1.9628543e-07\n",
      "X test  : mean [0]= 0.1156612 std [0]= 1.1138103\n"
     ]
    }
   ],
   "source": [
    "if NORMALIZATION_FLAG:\n",
    "    X_train,X_test = preprocessing.normalization(X_train,X_test)"
   ]
  },
  {
   "cell_type": "code",
   "execution_count": 6,
   "metadata": {},
   "outputs": [
    {
     "name": "stdout",
     "output_type": "stream",
     "text": [
      "PCA processing ..\n",
      "X_train size : (5264, 11983)\n",
      "X_test size  : (1754, 11983)\n",
      "PCA completed!\n",
      "# principal components : 306\n",
      "max variance explained : 0.25013393\n",
      "X_train_pca size : (5264, 306)\n",
      "X_test_pca size  : (1754, 306)\n"
     ]
    }
   ],
   "source": [
    "if PCA_FLAG:\n",
    "    X_train_pca,X_test_pca = preprocessing.auto_PCA(X_train,X_test,MAX_VARIANCE_EXPLAINED)"
   ]
  },
  {
   "cell_type": "code",
   "execution_count": 7,
   "metadata": {},
   "outputs": [
    {
     "name": "stdout",
     "output_type": "stream",
     "text": [
      "**********  Training  LinearRegression **********\n",
      "*****  Fold  1 *****\n",
      "Train fold : RMSE = 102.4704 R2 = 0.9069\n",
      "Val  fold  : RMSE = 107.21262 R2 = 0.88367\n",
      "Test total : RMSE = 243.2521 R2 = 0.56385\n",
      "Saving model ...\n",
      "Model saved !  in  ../../Results/Models/LinearRegression/LinearRegression_fold_1.pkl\n",
      "*****  Fold  2 *****\n",
      "Train fold : RMSE = 101.92559 R2 = 0.90576\n",
      "Val  fold  : RMSE = 108.65563 R2 = 0.89196\n",
      "Test total : RMSE = 244.3427 R2 = 0.55993\n",
      "Saving model ...\n",
      "Model saved !  in  ../../Results/Models/LinearRegression/LinearRegression_fold_2.pkl\n",
      "*****  Fold  3 *****\n",
      "Train fold : RMSE = 100.84248 R2 = 0.90543\n",
      "Val  fold  : RMSE = 113.92584 R2 = 0.89179\n",
      "Test total : RMSE = 247.1824 R2 = 0.54964\n",
      "Saving model ...\n",
      "Model saved !  in  ../../Results/Models/LinearRegression/LinearRegression_fold_3.pkl\n",
      "*****  Fold  4 *****\n",
      "Train fold : RMSE = 101.8807 R2 = 0.90525\n",
      "Val  fold  : RMSE = 108.29084 R2 = 0.89519\n",
      "Test total : RMSE = 245.06537 R2 = 0.55732\n",
      "Saving model ...\n",
      "Model saved !  in  ../../Results/Models/LinearRegression/LinearRegression_fold_4.pkl\n",
      "*****  Fold  5 *****\n",
      "Train fold : RMSE = 100.93729 R2 = 0.90746\n",
      "Val  fold  : RMSE = 113.13333 R2 = 0.88343\n",
      "Test total : RMSE = 244.09622 R2 = 0.56082\n",
      "Saving model ...\n",
      "Model saved !  in  ../../Results/Models/LinearRegression/LinearRegression_fold_5.pkl\n",
      "Train mean cv : RMSE = 101.61129 |  R2 =0.90616\n",
      "Val   mean cv : RMSE = 110.24365 |  R2 =0.88921\n",
      "Test  mean cv : RMSE = 244.6226 |  R2 =0.55892\n",
      "Saving plot in  ../../Results/Models/LinearRegression/LinearRegression_test_prediction.png\n",
      "******************************\n",
      "Saving folds report in  ../../Results/Models/LinearRegression/LinearRegression_results_by_fold.csv\n",
      "Saving summary cv report in  ../../Results/Models/LinearRegression/LinearRegression_results.csv\n"
     ]
    }
   ],
   "source": [
    "from sklearn.linear_model import LinearRegression\n",
    "\n",
    "model = LinearRegression(positive=False)\n",
    "model_name = \"LinearRegression\"\n",
    "\n",
    "y_test_pred_cv = training.cross_validate(X_train_pca, y_train, X_test_pca, y_test,\n",
    "                                         n_splits=N_SPLITS,\n",
    "                                         model = model,model_name=model_name,\n",
    "                                         path_model=PATH_MODEL)"
   ]
  },
  {
   "cell_type": "code",
   "execution_count": 8,
   "metadata": {},
   "outputs": [
    {
     "name": "stdout",
     "output_type": "stream",
     "text": [
      "**********  Training  ElasticNet **********\n",
      "*****  Fold  1 *****\n"
     ]
    },
    {
     "name": "stderr",
     "output_type": "stream",
     "text": [
      "/media/cristian/Extreme SSD/Investigacion/NMA/nma_env/lib/python3.7/site-packages/sklearn/linear_model/_coordinate_descent.py:648: ConvergenceWarning: Objective did not converge. You might want to increase the number of iterations, check the scale of the features or consider increasing regularisation. Duality gap: 7.085e+05, tolerance: 4.749e+04\n",
      "  coef_, l1_reg, l2_reg, X, y, max_iter, tol, rng, random, positive\n"
     ]
    },
    {
     "name": "stdout",
     "output_type": "stream",
     "text": [
      "Train fold : RMSE = 102.47817 R2 = 0.90689\n",
      "Val  fold  : RMSE = 106.93412 R2 = 0.88427\n",
      "Test total : RMSE = 243.89808 R2 = 0.56153\n",
      "Saving model ...\n",
      "Model saved !  in  ../../Results/Models/ElasticNet/ElasticNet_fold_1.pkl\n",
      "*****  Fold  2 *****\n",
      "Train fold : RMSE = 101.93348 R2 = 0.90575\n",
      "Val  fold  : RMSE = 108.46967 R2 = 0.89233\n",
      "Test total : RMSE = 244.9986 R2 = 0.55756\n",
      "Saving model ...\n",
      "Model saved !  in  ../../Results/Models/ElasticNet/ElasticNet_fold_2.pkl\n",
      "*****  Fold  3 *****\n",
      "Train fold : RMSE = 100.85019 R2 = 0.90542\n",
      "Val  fold  : RMSE = 113.86286 R2 = 0.89191\n",
      "Test total : RMSE = 247.83922 R2 = 0.54724\n",
      "Saving model ...\n",
      "Model saved !  in  ../../Results/Models/ElasticNet/ElasticNet_fold_3.pkl\n",
      "*****  Fold  4 *****\n",
      "Train fold : RMSE = 101.88829 R2 = 0.90524\n",
      "Val  fold  : RMSE = 108.14618 R2 = 0.89547\n",
      "Test total : RMSE = 245.70391 R2 = 0.55501\n",
      "Saving model ...\n",
      "Model saved !  in  ../../Results/Models/ElasticNet/ElasticNet_fold_4.pkl\n",
      "*****  Fold  5 *****\n",
      "Train fold : RMSE = 100.94524 R2 = 0.90744\n",
      "Val  fold  : RMSE = 112.93281 R2 = 0.88384\n",
      "Test total : RMSE = 244.75934 R2 = 0.55843\n",
      "Saving model ...\n",
      "Model saved !  in  ../../Results/Models/ElasticNet/ElasticNet_fold_5.pkl\n",
      "Train mean cv : RMSE = 101.61907 |  R2 =0.90615\n",
      "Val   mean cv : RMSE = 110.06913 |  R2 =0.88956\n",
      "Test  mean cv : RMSE = 245.28044 |  R2 =0.55654\n",
      "Saving plot in  ../../Results/Models/ElasticNet/ElasticNet_test_prediction.png\n",
      "******************************\n",
      "Saving folds report in  ../../Results/Models/ElasticNet/ElasticNet_results_by_fold.csv\n",
      "Saving summary cv report in  ../../Results/Models/ElasticNet/ElasticNet_results.csv\n"
     ]
    }
   ],
   "source": [
    "from sklearn.linear_model import ElasticNet\n",
    "model = ElasticNet(alpha=0.1,l1_ratio=0.01,random_state=0)\n",
    "model_name = \"ElasticNet\"\n",
    "\n",
    "y_test_pred_cv = training.cross_validate(X_train_pca, y_train, X_test_pca, y_test,\n",
    "                                         n_splits=N_SPLITS,\n",
    "                                         model = model,model_name=model_name,\n",
    "                                         path_model=PATH_MODEL)"
   ]
  },
  {
   "cell_type": "code",
   "execution_count": 9,
   "metadata": {},
   "outputs": [
    {
     "name": "stdout",
     "output_type": "stream",
     "text": [
      "**********  Training  BayesianRidge **********\n",
      "*****  Fold  1 *****\n",
      "Train fold : RMSE = 102.55879 R2 = 0.90674\n",
      "Val  fold  : RMSE = 106.34573 R2 = 0.88554\n",
      "Test total : RMSE = 245.4667 R2 = 0.55587\n",
      "Saving model ...\n",
      "Model saved !  in  ../../Results/Models/BayesianRidge/BayesianRidge_fold_1.pkl\n",
      "*****  Fold  2 *****\n"
     ]
    },
    {
     "name": "stderr",
     "output_type": "stream",
     "text": [
      "/media/cristian/Extreme SSD/Investigacion/NMA/nma_env/lib/python3.7/site-packages/sklearn/utils/validation.py:993: DataConversionWarning: A column-vector y was passed when a 1d array was expected. Please change the shape of y to (n_samples, ), for example using ravel().\n",
      "  y = column_or_1d(y, warn=True)\n",
      "/media/cristian/Extreme SSD/Investigacion/NMA/nma_env/lib/python3.7/site-packages/sklearn/utils/validation.py:993: DataConversionWarning: A column-vector y was passed when a 1d array was expected. Please change the shape of y to (n_samples, ), for example using ravel().\n",
      "  y = column_or_1d(y, warn=True)\n"
     ]
    },
    {
     "name": "stdout",
     "output_type": "stream",
     "text": [
      "Train fold : RMSE = 102.01684 R2 = 0.90559\n",
      "Val  fold  : RMSE = 108.11648 R2 = 0.89303\n",
      "Test total : RMSE = 246.61323 R2 = 0.55171\n",
      "Saving model ...\n",
      "Model saved !  in  ../../Results/Models/BayesianRidge/BayesianRidge_fold_2.pkl\n",
      "*****  Fold  3 *****\n",
      "Train fold : RMSE = 100.93283 R2 = 0.90526\n",
      "Val  fold  : RMSE = 113.81005 R2 = 0.89201\n",
      "Test total : RMSE = 249.47009 R2 = 0.54127\n",
      "Saving model ...\n",
      "Model saved !  in  ../../Results/Models/BayesianRidge/BayesianRidge_fold_3.pkl\n",
      "*****  Fold  4 *****\n"
     ]
    },
    {
     "name": "stderr",
     "output_type": "stream",
     "text": [
      "/media/cristian/Extreme SSD/Investigacion/NMA/nma_env/lib/python3.7/site-packages/sklearn/utils/validation.py:993: DataConversionWarning: A column-vector y was passed when a 1d array was expected. Please change the shape of y to (n_samples, ), for example using ravel().\n",
      "  y = column_or_1d(y, warn=True)\n",
      "/media/cristian/Extreme SSD/Investigacion/NMA/nma_env/lib/python3.7/site-packages/sklearn/utils/validation.py:993: DataConversionWarning: A column-vector y was passed when a 1d array was expected. Please change the shape of y to (n_samples, ), for example using ravel().\n",
      "  y = column_or_1d(y, warn=True)\n"
     ]
    },
    {
     "name": "stdout",
     "output_type": "stream",
     "text": [
      "Train fold : RMSE = 101.96887 R2 = 0.90509\n",
      "Val  fold  : RMSE = 107.8705 R2 = 0.89601\n",
      "Test total : RMSE = 247.27559 R2 = 0.5493\n",
      "Saving model ...\n",
      "Model saved !  in  ../../Results/Models/BayesianRidge/BayesianRidge_fold_4.pkl\n",
      "*****  Fold  5 *****\n",
      "Train fold : RMSE = 101.02593 R2 = 0.9073\n",
      "Val  fold  : RMSE = 112.54987 R2 = 0.88463\n",
      "Test total : RMSE = 246.34531 R2 = 0.55269\n",
      "Saving model ...\n",
      "Model saved !  in  ../../Results/Models/BayesianRidge/BayesianRidge_fold_5.pkl\n",
      "Train mean cv : RMSE = 101.70065 |  R2 =0.906\n",
      "Val   mean cv : RMSE = 109.73853 |  R2 =0.89024\n",
      "Test  mean cv : RMSE = 246.88741 |  R2 =0.55072\n",
      "Saving plot in  ../../Results/Models/BayesianRidge/BayesianRidge_test_prediction.png\n"
     ]
    },
    {
     "name": "stderr",
     "output_type": "stream",
     "text": [
      "/media/cristian/Extreme SSD/Investigacion/NMA/nma_env/lib/python3.7/site-packages/sklearn/utils/validation.py:993: DataConversionWarning: A column-vector y was passed when a 1d array was expected. Please change the shape of y to (n_samples, ), for example using ravel().\n",
      "  y = column_or_1d(y, warn=True)\n"
     ]
    },
    {
     "name": "stdout",
     "output_type": "stream",
     "text": [
      "******************************\n",
      "Saving folds report in  ../../Results/Models/BayesianRidge/BayesianRidge_results_by_fold.csv\n",
      "Saving summary cv report in  ../../Results/Models/BayesianRidge/BayesianRidge_results.csv\n"
     ]
    }
   ],
   "source": [
    "from sklearn.linear_model import BayesianRidge\n",
    "model = BayesianRidge()\n",
    "model_name = \"BayesianRidge\"\n",
    "\n",
    "y_test_pred_cv = training.cross_validate(X_train_pca, y_train, X_test_pca, y_test,\n",
    "                                         n_splits=N_SPLITS,\n",
    "                                         model = model,model_name=model_name,\n",
    "                                         path_model=PATH_MODEL)"
   ]
  },
  {
   "cell_type": "code",
   "execution_count": 10,
   "metadata": {},
   "outputs": [
    {
     "name": "stdout",
     "output_type": "stream",
     "text": [
      "**********  Training  Ridge **********\n",
      "*****  Fold  1 *****\n",
      "Train fold : RMSE = 102.4706 R2 = 0.9069\n",
      "Val  fold  : RMSE = 107.21488 R2 = 0.88366\n",
      "Test total : RMSE = 243.24618 R2 = 0.56387\n",
      "Saving model ...\n",
      "Model saved !  in  ../../Results/Models/Ridge/Ridge_fold_1.pkl\n",
      "*****  Fold  2 *****\n",
      "Train fold : RMSE = 101.92585 R2 = 0.90576\n",
      "Val  fold  : RMSE = 108.65214 R2 = 0.89197\n",
      "Test total : RMSE = 244.34943 R2 = 0.5599\n",
      "Saving model ...\n",
      "Model saved !  in  ../../Results/Models/Ridge/Ridge_fold_2.pkl\n",
      "*****  Fold  3 *****\n",
      "Train fold : RMSE = 100.84259 R2 = 0.90543\n",
      "Val  fold  : RMSE = 113.92828 R2 = 0.89178\n",
      "Test total : RMSE = 247.19434 R2 = 0.5496\n",
      "Saving model ...\n",
      "Model saved !  in  ../../Results/Models/Ridge/Ridge_fold_3.pkl\n",
      "*****  Fold  4 *****\n",
      "Train fold : RMSE = 101.88108 R2 = 0.90525\n",
      "Val  fold  : RMSE = 108.29396 R2 = 0.89519\n",
      "Test total : RMSE = 245.04835 R2 = 0.55738\n",
      "Saving model ...\n",
      "Model saved !  in  ../../Results/Models/Ridge/Ridge_fold_4.pkl\n",
      "*****  Fold  5 *****\n",
      "Train fold : RMSE = 100.93758 R2 = 0.90746\n",
      "Val  fold  : RMSE = 113.13293 R2 = 0.88343\n",
      "Test total : RMSE = 244.07219 R2 = 0.5609\n",
      "Saving model ...\n",
      "Model saved !  in  ../../Results/Models/Ridge/Ridge_fold_5.pkl\n",
      "Train mean cv : RMSE = 101.61154 |  R2 =0.90616\n",
      "Val   mean cv : RMSE = 110.24444 |  R2 =0.88921\n",
      "Test  mean cv : RMSE = 244.61701 |  R2 =0.55894\n",
      "Saving plot in  ../../Results/Models/Ridge/Ridge_test_prediction.png\n",
      "******************************\n",
      "Saving folds report in  ../../Results/Models/Ridge/Ridge_results_by_fold.csv\n",
      "Saving summary cv report in  ../../Results/Models/Ridge/Ridge_results.csv\n"
     ]
    }
   ],
   "source": [
    "from sklearn.linear_model import Ridge\n",
    "\n",
    "model =  Ridge(alpha=0.001,solver='sag')\n",
    "model_name = \"Ridge\"\n",
    "\n",
    "y_test_pred_cv = training.cross_validate(X_train_pca, y_train, X_test_pca, y_test,\n",
    "                                         n_splits=N_SPLITS,\n",
    "                                         model = model,model_name=model_name,\n",
    "                                         path_model=PATH_MODEL)"
   ]
  },
  {
   "cell_type": "code",
   "execution_count": 11,
   "metadata": {},
   "outputs": [
    {
     "name": "stdout",
     "output_type": "stream",
     "text": [
      "**********  Training  Lasso **********\n",
      "*****  Fold  1 *****\n"
     ]
    },
    {
     "name": "stderr",
     "output_type": "stream",
     "text": [
      "/media/cristian/Extreme SSD/Investigacion/NMA/nma_env/lib/python3.7/site-packages/sklearn/linear_model/_coordinate_descent.py:648: ConvergenceWarning: Objective did not converge. You might want to increase the number of iterations, check the scale of the features or consider increasing regularisation. Duality gap: 8.931e+05, tolerance: 4.749e+04\n",
      "  coef_, l1_reg, l2_reg, X, y, max_iter, tol, rng, random, positive\n"
     ]
    },
    {
     "name": "stdout",
     "output_type": "stream",
     "text": [
      "Train fold : RMSE = 102.47041 R2 = 0.9069\n",
      "Val  fold  : RMSE = 107.21118 R2 = 0.88367\n",
      "Test total : RMSE = 243.25377 R2 = 0.56384\n",
      "Saving model ...\n",
      "Model saved !  in  ../../Results/Models/Lasso/Lasso_fold_1.pkl\n",
      "*****  Fold  2 *****\n",
      "Train fold : RMSE = 101.92559 R2 = 0.90576\n",
      "Val  fold  : RMSE = 108.65475 R2 = 0.89197\n",
      "Test total : RMSE = 244.34457 R2 = 0.55992\n",
      "Saving model ...\n",
      "Model saved !  in  ../../Results/Models/Lasso/Lasso_fold_2.pkl\n",
      "*****  Fold  3 *****\n",
      "Train fold : RMSE = 100.84248 R2 = 0.90543\n",
      "Val  fold  : RMSE = 113.92534 R2 = 0.89179\n",
      "Test total : RMSE = 247.1839 R2 = 0.54964\n",
      "Saving model ...\n",
      "Model saved !  in  ../../Results/Models/Lasso/Lasso_fold_3.pkl\n",
      "*****  Fold  4 *****\n",
      "Train fold : RMSE = 101.88069 R2 = 0.90525\n",
      "Val  fold  : RMSE = 108.29032 R2 = 0.8952\n",
      "Test total : RMSE = 245.06702 R2 = 0.55732\n",
      "Saving model ...\n",
      "Model saved !  in  ../../Results/Models/Lasso/Lasso_fold_4.pkl\n",
      "*****  Fold  5 *****\n",
      "Train fold : RMSE = 100.93729 R2 = 0.90746\n",
      "Val  fold  : RMSE = 113.1322 R2 = 0.88343\n",
      "Test total : RMSE = 244.09795 R2 = 0.56081\n",
      "Saving model ...\n",
      "Model saved !  in  ../../Results/Models/Lasso/Lasso_fold_5.pkl\n",
      "Train mean cv : RMSE = 101.61129 |  R2 =0.90616\n",
      "Val   mean cv : RMSE = 110.24276 |  R2 =0.88921\n",
      "Test  mean cv : RMSE = 244.62431 |  R2 =0.55891\n",
      "Saving plot in  ../../Results/Models/Lasso/Lasso_test_prediction.png\n",
      "******************************\n",
      "Saving folds report in  ../../Results/Models/Lasso/Lasso_results_by_fold.csv\n",
      "Saving summary cv report in  ../../Results/Models/Lasso/Lasso_results.csv\n"
     ]
    }
   ],
   "source": [
    "from sklearn.linear_model import Lasso\n",
    "\n",
    "model =  Lasso(alpha=0.001)\n",
    "model_name = \"Lasso\"\n",
    "\n",
    "y_test_pred_cv = training.cross_validate(X_train_pca, y_train, X_test_pca, y_test,\n",
    "                                         n_splits=N_SPLITS,\n",
    "                                         model = model,model_name=model_name,\n",
    "                                         path_model=PATH_MODEL)"
   ]
  },
  {
   "cell_type": "code",
   "execution_count": 12,
   "metadata": {},
   "outputs": [
    {
     "name": "stdout",
     "output_type": "stream",
     "text": [
      "**********  Training  PoissonRegressor **********\n",
      "*****  Fold  1 *****\n"
     ]
    },
    {
     "name": "stderr",
     "output_type": "stream",
     "text": [
      "/media/cristian/Extreme SSD/Investigacion/NMA/nma_env/lib/python3.7/site-packages/sklearn/utils/validation.py:993: DataConversionWarning: A column-vector y was passed when a 1d array was expected. Please change the shape of y to (n_samples, ), for example using ravel().\n",
      "  y = column_or_1d(y, warn=True)\n"
     ]
    },
    {
     "name": "stdout",
     "output_type": "stream",
     "text": [
      "Train fold : RMSE = 106.57607 R2 = 0.89929\n",
      "Val  fold  : RMSE = 110.9816 R2 = 0.87535\n",
      "Test total : RMSE = 262.74375 R2 = 0.49115\n",
      "Saving model ...\n",
      "Model saved !  in  ../../Results/Models/PoissonRegressor/PoissonRegressor_fold_1.pkl\n",
      "*****  Fold  2 *****\n"
     ]
    },
    {
     "name": "stderr",
     "output_type": "stream",
     "text": [
      "/media/cristian/Extreme SSD/Investigacion/NMA/nma_env/lib/python3.7/site-packages/sklearn/utils/validation.py:993: DataConversionWarning: A column-vector y was passed when a 1d array was expected. Please change the shape of y to (n_samples, ), for example using ravel().\n",
      "  y = column_or_1d(y, warn=True)\n"
     ]
    },
    {
     "name": "stdout",
     "output_type": "stream",
     "text": [
      "Train fold : RMSE = 106.05264 R2 = 0.89797\n",
      "Val  fold  : RMSE = 112.0494 R2 = 0.88511\n",
      "Test total : RMSE = 263.746 R2 = 0.48726\n",
      "Saving model ...\n",
      "Model saved !  in  ../../Results/Models/PoissonRegressor/PoissonRegressor_fold_2.pkl\n",
      "*****  Fold  3 *****\n"
     ]
    },
    {
     "name": "stderr",
     "output_type": "stream",
     "text": [
      "/media/cristian/Extreme SSD/Investigacion/NMA/nma_env/lib/python3.7/site-packages/sklearn/utils/validation.py:993: DataConversionWarning: A column-vector y was passed when a 1d array was expected. Please change the shape of y to (n_samples, ), for example using ravel().\n",
      "  y = column_or_1d(y, warn=True)\n"
     ]
    },
    {
     "name": "stdout",
     "output_type": "stream",
     "text": [
      "Train fold : RMSE = 103.94903 R2 = 0.89951\n",
      "Val  fold  : RMSE = 121.5039 R2 = 0.87691\n",
      "Test total : RMSE = 266.87819 R2 = 0.47501\n",
      "Saving model ...\n",
      "Model saved !  in  ../../Results/Models/PoissonRegressor/PoissonRegressor_fold_3.pkl\n",
      "*****  Fold  4 *****\n"
     ]
    },
    {
     "name": "stderr",
     "output_type": "stream",
     "text": [
      "/media/cristian/Extreme SSD/Investigacion/NMA/nma_env/lib/python3.7/site-packages/sklearn/utils/validation.py:993: DataConversionWarning: A column-vector y was passed when a 1d array was expected. Please change the shape of y to (n_samples, ), for example using ravel().\n",
      "  y = column_or_1d(y, warn=True)\n"
     ]
    },
    {
     "name": "stdout",
     "output_type": "stream",
     "text": [
      "Train fold : RMSE = 105.7428 R2 = 0.89794\n",
      "Val  fold  : RMSE = 114.61267 R2 = 0.8826\n",
      "Test total : RMSE = 264.97169 R2 = 0.48249\n",
      "Saving model ...\n",
      "Model saved !  in  ../../Results/Models/PoissonRegressor/PoissonRegressor_fold_4.pkl\n",
      "*****  Fold  5 *****\n"
     ]
    },
    {
     "name": "stderr",
     "output_type": "stream",
     "text": [
      "/media/cristian/Extreme SSD/Investigacion/NMA/nma_env/lib/python3.7/site-packages/sklearn/utils/validation.py:993: DataConversionWarning: A column-vector y was passed when a 1d array was expected. Please change the shape of y to (n_samples, ), for example using ravel().\n",
      "  y = column_or_1d(y, warn=True)\n"
     ]
    },
    {
     "name": "stdout",
     "output_type": "stream",
     "text": [
      "Train fold : RMSE = 105.007 R2 = 0.89985\n",
      "Val  fold  : RMSE = 121.96312 R2 = 0.86452\n",
      "Test total : RMSE = 263.097 R2 = 0.48978\n",
      "Saving model ...\n",
      "Model saved !  in  ../../Results/Models/PoissonRegressor/PoissonRegressor_fold_5.pkl\n",
      "Train mean cv : RMSE = 105.46551 |  R2 =0.89891\n",
      "Val   mean cv : RMSE = 116.22214 |  R2 =0.8769\n",
      "Test  mean cv : RMSE = 264.07455 |  R2 =0.48598\n",
      "Saving plot in  ../../Results/Models/PoissonRegressor/PoissonRegressor_test_prediction.png\n",
      "******************************\n",
      "Saving folds report in  ../../Results/Models/PoissonRegressor/PoissonRegressor_results_by_fold.csv\n",
      "Saving summary cv report in  ../../Results/Models/PoissonRegressor/PoissonRegressor_results.csv\n"
     ]
    }
   ],
   "source": [
    "from sklearn.linear_model import PoissonRegressor\n",
    "\n",
    "model =  PoissonRegressor(alpha=0.1)\n",
    "model_name = \"PoissonRegressor\"\n",
    "\n",
    "y_test_pred_cv = training.cross_validate(X_train_pca, y_train, X_test_pca, y_test,\n",
    "                                         n_splits=N_SPLITS,\n",
    "                                         model = model,model_name=model_name,\n",
    "                                         path_model=PATH_MODEL)"
   ]
  },
  {
   "cell_type": "raw",
   "metadata": {},
   "source": [
    "from sklearn.ensemble import GradientBoostingRegressor\n",
    "\n",
    "\n",
    "gbr_params = {'n_estimators': 100,\n",
    "          'max_depth': 10,\n",
    "          'min_samples_split': 5,\n",
    "          'learning_rate': 0.1,\n",
    "          'loss': 'squared_error'}\n",
    "\n",
    "model = GradientBoostingRegressor(**gbr_params)\n",
    "model_name = \"GradientBoostingRegressor\"\n",
    "\n",
    "y_test_pred_cv = training.cross_validate(X_train_pca, y_train, X_test_pca, y_test,\n",
    "                                         n_splits=N_SPLITS,\n",
    "                                         model = model,model_name=model_name,\n",
    "                                         path_model=PATH_MODEL)"
   ]
  },
  {
   "cell_type": "raw",
   "metadata": {},
   "source": [
    "from sklearn.svm import SVR\n",
    "\n",
    "model = SVR(kernel=\"rbf\", C=1, gamma=0.1, epsilon=0.1)\n",
    "model_name = \"SVR\"\n",
    "\n",
    "y_test_pred_cv = training.cross_validate(X_train_pca, y_train, X_test_pca, y_test,\n",
    "                                         n_splits=N_SPLITS,\n",
    "                                         model = model,model_name=model_name,\n",
    "                                         path_model=PATH_MODEL)"
   ]
  },
  {
   "cell_type": "code",
   "execution_count": 13,
   "metadata": {},
   "outputs": [
    {
     "name": "stdout",
     "output_type": "stream",
     "text": [
      "**********  Training  DecisionTreeRegressor **********\n",
      "*****  Fold  1 *****\n",
      "Train fold : RMSE = 0.22349 R2 = 1.0\n",
      "Val  fold  : RMSE = 187.15176 R2 = 0.64552\n",
      "Test total : RMSE = 314.09481 R2 = 0.27281\n",
      "Saving model ...\n",
      "Model saved !  in  ../../Results/Models/DecisionTreeRegressor/DecisionTreeRegressor_fold_1.pkl\n",
      "*****  Fold  2 *****\n",
      "Train fold : RMSE = 0.27232 R2 = 1.0\n",
      "Val  fold  : RMSE = 194.68146 R2 = 0.65318\n",
      "Test total : RMSE = 321.34228 R2 = 0.23887\n",
      "Saving model ...\n",
      "Model saved !  in  ../../Results/Models/DecisionTreeRegressor/DecisionTreeRegressor_fold_2.pkl\n",
      "*****  Fold  3 *****\n",
      "Train fold : RMSE = 0.25863 R2 = 1.0\n",
      "Val  fold  : RMSE = 196.07957 R2 = 0.67945\n",
      "Test total : RMSE = 319.97107 R2 = 0.24535\n",
      "Saving model ...\n",
      "Model saved !  in  ../../Results/Models/DecisionTreeRegressor/DecisionTreeRegressor_fold_3.pkl\n",
      "*****  Fold  4 *****\n",
      "Train fold : RMSE = 0.32923 R2 = 1.0\n",
      "Val  fold  : RMSE = 192.67157 R2 = 0.66823\n",
      "Test total : RMSE = 313.89159 R2 = 0.27375\n",
      "Saving model ...\n",
      "Model saved !  in  ../../Results/Models/DecisionTreeRegressor/DecisionTreeRegressor_fold_4.pkl\n",
      "*****  Fold  5 *****\n",
      "Train fold : RMSE = 0.09641 R2 = 1.0\n",
      "Val  fold  : RMSE = 192.80096 R2 = 0.66145\n",
      "Test total : RMSE = 305.46399 R2 = 0.31223\n",
      "Saving model ...\n",
      "Model saved !  in  ../../Results/Models/DecisionTreeRegressor/DecisionTreeRegressor_fold_5.pkl\n",
      "Train mean cv : RMSE = 0.23602 |  R2 =1.0\n",
      "Val   mean cv : RMSE = 192.67706 |  R2 =0.66157\n",
      "Test  mean cv : RMSE = 285.18345 |  R2 =0.40052\n",
      "Saving plot in  ../../Results/Models/DecisionTreeRegressor/DecisionTreeRegressor_test_prediction.png\n",
      "******************************\n",
      "Saving folds report in  ../../Results/Models/DecisionTreeRegressor/DecisionTreeRegressor_results_by_fold.csv\n",
      "Saving summary cv report in  ../../Results/Models/DecisionTreeRegressor/DecisionTreeRegressor_results.csv\n"
     ]
    }
   ],
   "source": [
    "from sklearn.tree import DecisionTreeRegressor\n",
    "model = DecisionTreeRegressor(random_state=0,max_depth=20)\n",
    "model_name = \"DecisionTreeRegressor\"\n",
    "\n",
    "y_test_pred_cv = training.cross_validate(X_train_pca, y_train, X_test_pca, y_test,\n",
    "                                         n_splits=N_SPLITS,\n",
    "                                         model = model,model_name=model_name,\n",
    "                                         path_model=PATH_MODEL)"
   ]
  },
  {
   "cell_type": "raw",
   "metadata": {},
   "source": [
    "from sklearn.ensemble import RandomForestRegressor\n",
    "model = RandomForestRegressor(max_depth=5, random_state=0)\n",
    "model_name = \"RandomForestRegressor\"\n",
    "\n",
    "y_test_pred_cv = training.cross_validate(X_train_pca, y_train, X_test_pca, y_test,\n",
    "                                         n_splits=N_SPLITS,\n",
    "                                         model = model,model_name=model_name,\n",
    "                                         path_model=PATH_MODEL)"
   ]
  },
  {
   "cell_type": "code",
   "execution_count": 14,
   "metadata": {
    "scrolled": true,
    "tags": []
   },
   "outputs": [
    {
     "name": "stdout",
     "output_type": "stream",
     "text": [
      "**********  Training  XGBRegressor **********\n",
      "*****  Fold  1 *****\n",
      "[21:20:46] WARNING: ../src/objective/regression_obj.cu:203: reg:linear is now deprecated in favor of reg:squarederror.\n",
      "[0]\tvalidation_0-rmse:803.35896\tvalidation_1-rmse:780.98535\n"
     ]
    },
    {
     "name": "stderr",
     "output_type": "stream",
     "text": [
      "/media/cristian/Extreme SSD/Investigacion/NMA/nma_env/lib/python3.7/site-packages/xgboost/sklearn.py:797: UserWarning: `eval_metric` in `fit` method is deprecated for better compatibility with scikit-learn, use `eval_metric` in constructor or`set_params` instead.\n",
      "  UserWarning,\n",
      "/media/cristian/Extreme SSD/Investigacion/NMA/nma_env/lib/python3.7/site-packages/xgboost/sklearn.py:797: UserWarning: `early_stopping_rounds` in `fit` method is deprecated for better compatibility with scikit-learn, use `early_stopping_rounds` in constructor or`set_params` instead.\n",
      "  UserWarning,\n"
     ]
    },
    {
     "name": "stdout",
     "output_type": "stream",
     "text": [
      "[50]\tvalidation_0-rmse:14.87911\tvalidation_1-rmse:147.53529\n",
      "[100]\tvalidation_0-rmse:1.24551\tvalidation_1-rmse:144.83254\n",
      "[127]\tvalidation_0-rmse:0.36126\tvalidation_1-rmse:144.74483\n",
      "Train fold : RMSE = 0.36126 R2 = 1.0\n",
      "Val  fold  : RMSE = 144.74483 R2 = 0.78796\n",
      "Test total : RMSE = 280.77613 R2 = 0.41891\n",
      "Saving model ...\n",
      "Model saved !  in  ../../Results/Models/XGBRegressor/XGBRegressor_fold_1.pkl\n",
      "*****  Fold  2 *****\n",
      "[21:20:49] WARNING: ../src/objective/regression_obj.cu:203: reg:linear is now deprecated in favor of reg:squarederror.\n",
      "[0]\tvalidation_0-rmse:798.86659\tvalidation_1-rmse:801.41138\n"
     ]
    },
    {
     "name": "stderr",
     "output_type": "stream",
     "text": [
      "/media/cristian/Extreme SSD/Investigacion/NMA/nma_env/lib/python3.7/site-packages/xgboost/sklearn.py:797: UserWarning: `eval_metric` in `fit` method is deprecated for better compatibility with scikit-learn, use `eval_metric` in constructor or`set_params` instead.\n",
      "  UserWarning,\n",
      "/media/cristian/Extreme SSD/Investigacion/NMA/nma_env/lib/python3.7/site-packages/xgboost/sklearn.py:797: UserWarning: `early_stopping_rounds` in `fit` method is deprecated for better compatibility with scikit-learn, use `early_stopping_rounds` in constructor or`set_params` instead.\n",
      "  UserWarning,\n"
     ]
    },
    {
     "name": "stdout",
     "output_type": "stream",
     "text": [
      "[50]\tvalidation_0-rmse:15.22356\tvalidation_1-rmse:146.75127\n",
      "[100]\tvalidation_0-rmse:1.40141\tvalidation_1-rmse:143.29655\n",
      "[127]\tvalidation_0-rmse:0.46293\tvalidation_1-rmse:143.18727\n",
      "Train fold : RMSE = 0.46293 R2 = 1.0\n",
      "Val  fold  : RMSE = 143.18727 R2 = 0.81238\n",
      "Test total : RMSE = 283.74515 R2 = 0.40655\n",
      "Saving model ...\n",
      "Model saved !  in  ../../Results/Models/XGBRegressor/XGBRegressor_fold_2.pkl\n",
      "*****  Fold  3 *****\n",
      "[21:20:53] WARNING: ../src/objective/regression_obj.cu:203: reg:linear is now deprecated in favor of reg:squarederror.\n",
      "[0]\tvalidation_0-rmse:795.00089\tvalidation_1-rmse:818.30694\n"
     ]
    },
    {
     "name": "stderr",
     "output_type": "stream",
     "text": [
      "/media/cristian/Extreme SSD/Investigacion/NMA/nma_env/lib/python3.7/site-packages/xgboost/sklearn.py:797: UserWarning: `eval_metric` in `fit` method is deprecated for better compatibility with scikit-learn, use `eval_metric` in constructor or`set_params` instead.\n",
      "  UserWarning,\n",
      "/media/cristian/Extreme SSD/Investigacion/NMA/nma_env/lib/python3.7/site-packages/xgboost/sklearn.py:797: UserWarning: `early_stopping_rounds` in `fit` method is deprecated for better compatibility with scikit-learn, use `early_stopping_rounds` in constructor or`set_params` instead.\n",
      "  UserWarning,\n"
     ]
    },
    {
     "name": "stdout",
     "output_type": "stream",
     "text": [
      "[50]\tvalidation_0-rmse:15.38695\tvalidation_1-rmse:159.84257\n",
      "[100]\tvalidation_0-rmse:1.61252\tvalidation_1-rmse:156.03950\n",
      "[127]\tvalidation_0-rmse:0.50371\tvalidation_1-rmse:155.91275\n",
      "Train fold : RMSE = 0.50372 R2 = 1.0\n",
      "Val  fold  : RMSE = 155.91275 R2 = 0.79733\n",
      "Test total : RMSE = 287.62729 R2 = 0.3902\n",
      "Saving model ...\n",
      "Model saved !  in  ../../Results/Models/XGBRegressor/XGBRegressor_fold_3.pkl\n",
      "*****  Fold  4 *****\n",
      "[21:20:56] WARNING: ../src/objective/regression_obj.cu:203: reg:linear is now deprecated in favor of reg:squarederror.\n",
      "[0]\tvalidation_0-rmse:796.31008\tvalidation_1-rmse:813.05482\n"
     ]
    },
    {
     "name": "stderr",
     "output_type": "stream",
     "text": [
      "/media/cristian/Extreme SSD/Investigacion/NMA/nma_env/lib/python3.7/site-packages/xgboost/sklearn.py:797: UserWarning: `eval_metric` in `fit` method is deprecated for better compatibility with scikit-learn, use `eval_metric` in constructor or`set_params` instead.\n",
      "  UserWarning,\n",
      "/media/cristian/Extreme SSD/Investigacion/NMA/nma_env/lib/python3.7/site-packages/xgboost/sklearn.py:797: UserWarning: `early_stopping_rounds` in `fit` method is deprecated for better compatibility with scikit-learn, use `early_stopping_rounds` in constructor or`set_params` instead.\n",
      "  UserWarning,\n"
     ]
    },
    {
     "name": "stdout",
     "output_type": "stream",
     "text": [
      "[50]\tvalidation_0-rmse:15.15917\tvalidation_1-rmse:153.56855\n",
      "[100]\tvalidation_0-rmse:1.45822\tvalidation_1-rmse:150.23556\n",
      "[127]\tvalidation_0-rmse:0.44756\tvalidation_1-rmse:150.13664\n",
      "Train fold : RMSE = 0.48893 R2 = 1.0\n",
      "Val  fold  : RMSE = 150.1362 R2 = 0.79855\n",
      "Test total : RMSE = 284.78128 R2 = 0.40221\n",
      "Saving model ...\n",
      "Model saved !  in  ../../Results/Models/XGBRegressor/XGBRegressor_fold_4.pkl\n",
      "*****  Fold  5 *****\n",
      "[21:20:59] WARNING: ../src/objective/regression_obj.cu:203: reg:linear is now deprecated in favor of reg:squarederror.\n",
      "[0]\tvalidation_0-rmse:800.15898\tvalidation_1-rmse:796.19526\n"
     ]
    },
    {
     "name": "stderr",
     "output_type": "stream",
     "text": [
      "/media/cristian/Extreme SSD/Investigacion/NMA/nma_env/lib/python3.7/site-packages/xgboost/sklearn.py:797: UserWarning: `eval_metric` in `fit` method is deprecated for better compatibility with scikit-learn, use `eval_metric` in constructor or`set_params` instead.\n",
      "  UserWarning,\n",
      "/media/cristian/Extreme SSD/Investigacion/NMA/nma_env/lib/python3.7/site-packages/xgboost/sklearn.py:797: UserWarning: `early_stopping_rounds` in `fit` method is deprecated for better compatibility with scikit-learn, use `early_stopping_rounds` in constructor or`set_params` instead.\n",
      "  UserWarning,\n"
     ]
    },
    {
     "name": "stdout",
     "output_type": "stream",
     "text": [
      "[50]\tvalidation_0-rmse:15.56205\tvalidation_1-rmse:152.64500\n",
      "[100]\tvalidation_0-rmse:1.44568\tvalidation_1-rmse:149.32443\n",
      "[127]\tvalidation_0-rmse:0.43167\tvalidation_1-rmse:149.22976\n",
      "Train fold : RMSE = 0.43167 R2 = 1.0\n",
      "Val  fold  : RMSE = 149.22976 R2 = 0.79718\n",
      "Test total : RMSE = 284.74025 R2 = 0.40238\n",
      "Saving model ...\n",
      "Model saved !  in  ../../Results/Models/XGBRegressor/XGBRegressor_fold_5.pkl\n",
      "Train mean cv : RMSE = 0.4497 |  R2 =1.0\n",
      "Val   mean cv : RMSE = 148.64216 |  R2 =0.79868\n",
      "Test  mean cv : RMSE = 281.16993 |  R2 =0.41728\n",
      "Saving plot in  ../../Results/Models/XGBRegressor/XGBRegressor_test_prediction.png\n",
      "******************************\n",
      "Saving folds report in  ../../Results/Models/XGBRegressor/XGBRegressor_results_by_fold.csv\n",
      "Saving summary cv report in  ../../Results/Models/XGBRegressor/XGBRegressor_results.csv\n"
     ]
    }
   ],
   "source": [
    "import xgboost as xgb\n",
    "model = xgb.XGBRegressor(objective ='reg:linear', colsample_bytree = 0.3, \n",
    "                         learning_rate = 0.1, max_depth = 10, n_estimators =128)\n",
    "\n",
    "model_name = \"XGBRegressor\"\n",
    "\n",
    "y_test_pred_cv = training.cross_validate(X_train_pca, y_train, X_test_pca, y_test,\n",
    "                                         n_splits=N_SPLITS,\n",
    "                                         model = model,model_name=model_name,\n",
    "                                         path_model=PATH_MODEL)"
   ]
  },
  {
   "cell_type": "code",
   "execution_count": 15,
   "metadata": {},
   "outputs": [
    {
     "name": "stdout",
     "output_type": "stream",
     "text": [
      "**********  Training  LGBMRegressor **********\n",
      "*****  Fold  1 *****\n"
     ]
    },
    {
     "name": "stderr",
     "output_type": "stream",
     "text": [
      "/media/cristian/Extreme SSD/Investigacion/NMA/nma_env/lib/python3.7/site-packages/sklearn/utils/validation.py:993: DataConversionWarning: A column-vector y was passed when a 1d array was expected. Please change the shape of y to (n_samples, ), for example using ravel().\n",
      "  y = column_or_1d(y, warn=True)\n",
      "/media/cristian/Extreme SSD/Investigacion/NMA/nma_env/lib/python3.7/site-packages/lightgbm/sklearn.py:726: UserWarning: 'early_stopping_rounds' argument is deprecated and will be removed in a future release of LightGBM. Pass 'early_stopping()' callback via 'callbacks' argument instead.\n",
      "  _log_warning(\"'early_stopping_rounds' argument is deprecated and will be removed in a future release of LightGBM. \"\n",
      "/media/cristian/Extreme SSD/Investigacion/NMA/nma_env/lib/python3.7/site-packages/lightgbm/sklearn.py:736: UserWarning: 'verbose' argument is deprecated and will be removed in a future release of LightGBM. Pass 'log_evaluation()' callback via 'callbacks' argument instead.\n",
      "  _log_warning(\"'verbose' argument is deprecated and will be removed in a future release of LightGBM. \"\n",
      "/media/cristian/Extreme SSD/Investigacion/NMA/nma_env/lib/python3.7/site-packages/lightgbm/basic.py:179: UserWarning: Converting column-vector to 1d array\n",
      "  _log_warning('Converting column-vector to 1d array')\n"
     ]
    },
    {
     "name": "stdout",
     "output_type": "stream",
     "text": [
      "[50]\ttraining's rmse: 117.039\ttraining's l2: 13698.1\tvalid_1's rmse: 123.921\tvalid_1's l2: 15356.4\n",
      "[100]\ttraining's rmse: 92.9799\ttraining's l2: 8645.26\tvalid_1's rmse: 112.049\tvalid_1's l2: 12555\n",
      "[150]\ttraining's rmse: 78.8827\ttraining's l2: 6222.48\tvalid_1's rmse: 108.01\tvalid_1's l2: 11666.2\n",
      "[200]\ttraining's rmse: 68.8402\ttraining's l2: 4738.97\tvalid_1's rmse: 105.288\tvalid_1's l2: 11085.5\n",
      "[250]\ttraining's rmse: 60.9502\ttraining's l2: 3714.92\tvalid_1's rmse: 103.927\tvalid_1's l2: 10800.9\n",
      "Train fold : RMSE = 60.13325 R2 = 0.96794\n",
      "Val  fold  : RMSE = 103.63351 R2 = 0.89131\n",
      "Test total : RMSE = 241.91228 R2 = 0.56864\n",
      "Saving model ...\n",
      "Model saved !  in  ../../Results/Models/LGBMRegressor/LGBMRegressor_fold_1.pkl\n",
      "*****  Fold  2 *****\n"
     ]
    },
    {
     "name": "stderr",
     "output_type": "stream",
     "text": [
      "/media/cristian/Extreme SSD/Investigacion/NMA/nma_env/lib/python3.7/site-packages/sklearn/utils/validation.py:993: DataConversionWarning: A column-vector y was passed when a 1d array was expected. Please change the shape of y to (n_samples, ), for example using ravel().\n",
      "  y = column_or_1d(y, warn=True)\n",
      "/media/cristian/Extreme SSD/Investigacion/NMA/nma_env/lib/python3.7/site-packages/lightgbm/sklearn.py:726: UserWarning: 'early_stopping_rounds' argument is deprecated and will be removed in a future release of LightGBM. Pass 'early_stopping()' callback via 'callbacks' argument instead.\n",
      "  _log_warning(\"'early_stopping_rounds' argument is deprecated and will be removed in a future release of LightGBM. \"\n",
      "/media/cristian/Extreme SSD/Investigacion/NMA/nma_env/lib/python3.7/site-packages/lightgbm/sklearn.py:736: UserWarning: 'verbose' argument is deprecated and will be removed in a future release of LightGBM. Pass 'log_evaluation()' callback via 'callbacks' argument instead.\n",
      "  _log_warning(\"'verbose' argument is deprecated and will be removed in a future release of LightGBM. \"\n",
      "/media/cristian/Extreme SSD/Investigacion/NMA/nma_env/lib/python3.7/site-packages/lightgbm/basic.py:179: UserWarning: Converting column-vector to 1d array\n",
      "  _log_warning('Converting column-vector to 1d array')\n"
     ]
    },
    {
     "name": "stdout",
     "output_type": "stream",
     "text": [
      "[50]\ttraining's rmse: 115.518\ttraining's l2: 13344.3\tvalid_1's rmse: 125.588\tvalid_1's l2: 15772.4\n",
      "[100]\ttraining's rmse: 92.1641\ttraining's l2: 8494.23\tvalid_1's rmse: 112.925\tvalid_1's l2: 12752\n",
      "[150]\ttraining's rmse: 78.7624\ttraining's l2: 6203.51\tvalid_1's rmse: 108.522\tvalid_1's l2: 11777.1\n",
      "[200]\ttraining's rmse: 69.0175\ttraining's l2: 4763.42\tvalid_1's rmse: 106.4\tvalid_1's l2: 11321\n",
      "[250]\ttraining's rmse: 61.3598\ttraining's l2: 3765.03\tvalid_1's rmse: 105.028\tvalid_1's l2: 11030.8\n",
      "[300]\ttraining's rmse: 55.0694\ttraining's l2: 3032.64\tvalid_1's rmse: 104.317\tvalid_1's l2: 10882\n",
      "[350]\ttraining's rmse: 49.7135\ttraining's l2: 2471.43\tvalid_1's rmse: 103.488\tvalid_1's l2: 10709.9\n",
      "[400]\ttraining's rmse: 45.0989\ttraining's l2: 2033.91\tvalid_1's rmse: 103.019\tvalid_1's l2: 10612.9\n",
      "Train fold : RMSE = 42.14587 R2 = 0.98389\n",
      "Val  fold  : RMSE = 102.5249 R2 = 0.90381\n",
      "Test total : RMSE = 239.58156 R2 = 0.57691\n",
      "Saving model ...\n",
      "Model saved !  in  ../../Results/Models/LGBMRegressor/LGBMRegressor_fold_2.pkl\n",
      "*****  Fold  3 *****\n"
     ]
    },
    {
     "name": "stderr",
     "output_type": "stream",
     "text": [
      "/media/cristian/Extreme SSD/Investigacion/NMA/nma_env/lib/python3.7/site-packages/sklearn/utils/validation.py:993: DataConversionWarning: A column-vector y was passed when a 1d array was expected. Please change the shape of y to (n_samples, ), for example using ravel().\n",
      "  y = column_or_1d(y, warn=True)\n",
      "/media/cristian/Extreme SSD/Investigacion/NMA/nma_env/lib/python3.7/site-packages/lightgbm/sklearn.py:726: UserWarning: 'early_stopping_rounds' argument is deprecated and will be removed in a future release of LightGBM. Pass 'early_stopping()' callback via 'callbacks' argument instead.\n",
      "  _log_warning(\"'early_stopping_rounds' argument is deprecated and will be removed in a future release of LightGBM. \"\n",
      "/media/cristian/Extreme SSD/Investigacion/NMA/nma_env/lib/python3.7/site-packages/lightgbm/sklearn.py:736: UserWarning: 'verbose' argument is deprecated and will be removed in a future release of LightGBM. Pass 'log_evaluation()' callback via 'callbacks' argument instead.\n",
      "  _log_warning(\"'verbose' argument is deprecated and will be removed in a future release of LightGBM. \"\n",
      "/media/cristian/Extreme SSD/Investigacion/NMA/nma_env/lib/python3.7/site-packages/lightgbm/basic.py:179: UserWarning: Converting column-vector to 1d array\n",
      "  _log_warning('Converting column-vector to 1d array')\n"
     ]
    },
    {
     "name": "stdout",
     "output_type": "stream",
     "text": [
      "[50]\ttraining's rmse: 115.521\ttraining's l2: 13345.1\tvalid_1's rmse: 138.441\tvalid_1's l2: 19165.8\n",
      "[100]\ttraining's rmse: 92.3466\ttraining's l2: 8527.89\tvalid_1's rmse: 124.278\tvalid_1's l2: 15445\n",
      "[150]\ttraining's rmse: 78.7092\ttraining's l2: 6195.14\tvalid_1's rmse: 118.724\tvalid_1's l2: 14095.4\n",
      "[200]\ttraining's rmse: 68.866\ttraining's l2: 4742.52\tvalid_1's rmse: 115.516\tvalid_1's l2: 13343.9\n",
      "[250]\ttraining's rmse: 61.2201\ttraining's l2: 3747.91\tvalid_1's rmse: 113.685\tvalid_1's l2: 12924.4\n",
      "[300]\ttraining's rmse: 54.9651\ttraining's l2: 3021.16\tvalid_1's rmse: 112.414\tvalid_1's l2: 12637\n",
      "[350]\ttraining's rmse: 49.711\ttraining's l2: 2471.19\tvalid_1's rmse: 111.724\tvalid_1's l2: 12482.3\n",
      "Train fold : RMSE = 49.31149 R2 = 0.97739\n",
      "Val  fold  : RMSE = 111.66852 R2 = 0.89603\n",
      "Test total : RMSE = 244.68398 R2 = 0.5587\n",
      "Saving model ...\n",
      "Model saved !  in  ../../Results/Models/LGBMRegressor/LGBMRegressor_fold_3.pkl\n",
      "*****  Fold  4 *****\n"
     ]
    },
    {
     "name": "stderr",
     "output_type": "stream",
     "text": [
      "/media/cristian/Extreme SSD/Investigacion/NMA/nma_env/lib/python3.7/site-packages/sklearn/utils/validation.py:993: DataConversionWarning: A column-vector y was passed when a 1d array was expected. Please change the shape of y to (n_samples, ), for example using ravel().\n",
      "  y = column_or_1d(y, warn=True)\n",
      "/media/cristian/Extreme SSD/Investigacion/NMA/nma_env/lib/python3.7/site-packages/lightgbm/sklearn.py:726: UserWarning: 'early_stopping_rounds' argument is deprecated and will be removed in a future release of LightGBM. Pass 'early_stopping()' callback via 'callbacks' argument instead.\n",
      "  _log_warning(\"'early_stopping_rounds' argument is deprecated and will be removed in a future release of LightGBM. \"\n",
      "/media/cristian/Extreme SSD/Investigacion/NMA/nma_env/lib/python3.7/site-packages/lightgbm/sklearn.py:736: UserWarning: 'verbose' argument is deprecated and will be removed in a future release of LightGBM. Pass 'log_evaluation()' callback via 'callbacks' argument instead.\n",
      "  _log_warning(\"'verbose' argument is deprecated and will be removed in a future release of LightGBM. \"\n",
      "/media/cristian/Extreme SSD/Investigacion/NMA/nma_env/lib/python3.7/site-packages/lightgbm/basic.py:179: UserWarning: Converting column-vector to 1d array\n",
      "  _log_warning('Converting column-vector to 1d array')\n"
     ]
    },
    {
     "name": "stdout",
     "output_type": "stream",
     "text": [
      "[50]\ttraining's rmse: 114.94\ttraining's l2: 13211.3\tvalid_1's rmse: 130.344\tvalid_1's l2: 16989.5\n",
      "[100]\ttraining's rmse: 91.7001\ttraining's l2: 8408.9\tvalid_1's rmse: 119.289\tvalid_1's l2: 14229.7\n",
      "[150]\ttraining's rmse: 78.1538\ttraining's l2: 6108.01\tvalid_1's rmse: 114.941\tvalid_1's l2: 13211.5\n",
      "[200]\ttraining's rmse: 68.4727\ttraining's l2: 4688.51\tvalid_1's rmse: 112.561\tvalid_1's l2: 12670\n",
      "[250]\ttraining's rmse: 60.8533\ttraining's l2: 3703.12\tvalid_1's rmse: 110.66\tvalid_1's l2: 12245.6\n",
      "[300]\ttraining's rmse: 54.5149\ttraining's l2: 2971.88\tvalid_1's rmse: 109.749\tvalid_1's l2: 12044.9\n",
      "Train fold : RMSE = 54.51492 R2 = 0.97287\n",
      "Val  fold  : RMSE = 109.74912 R2 = 0.89235\n",
      "Test total : RMSE = 238.83777 R2 = 0.57953\n",
      "Saving model ...\n",
      "Model saved !  in  ../../Results/Models/LGBMRegressor/LGBMRegressor_fold_4.pkl\n",
      "*****  Fold  5 *****\n"
     ]
    },
    {
     "name": "stderr",
     "output_type": "stream",
     "text": [
      "/media/cristian/Extreme SSD/Investigacion/NMA/nma_env/lib/python3.7/site-packages/sklearn/utils/validation.py:993: DataConversionWarning: A column-vector y was passed when a 1d array was expected. Please change the shape of y to (n_samples, ), for example using ravel().\n",
      "  y = column_or_1d(y, warn=True)\n",
      "/media/cristian/Extreme SSD/Investigacion/NMA/nma_env/lib/python3.7/site-packages/lightgbm/sklearn.py:726: UserWarning: 'early_stopping_rounds' argument is deprecated and will be removed in a future release of LightGBM. Pass 'early_stopping()' callback via 'callbacks' argument instead.\n",
      "  _log_warning(\"'early_stopping_rounds' argument is deprecated and will be removed in a future release of LightGBM. \"\n",
      "/media/cristian/Extreme SSD/Investigacion/NMA/nma_env/lib/python3.7/site-packages/lightgbm/sklearn.py:736: UserWarning: 'verbose' argument is deprecated and will be removed in a future release of LightGBM. Pass 'log_evaluation()' callback via 'callbacks' argument instead.\n",
      "  _log_warning(\"'verbose' argument is deprecated and will be removed in a future release of LightGBM. \"\n",
      "/media/cristian/Extreme SSD/Investigacion/NMA/nma_env/lib/python3.7/site-packages/lightgbm/basic.py:179: UserWarning: Converting column-vector to 1d array\n",
      "  _log_warning('Converting column-vector to 1d array')\n"
     ]
    },
    {
     "name": "stdout",
     "output_type": "stream",
     "text": [
      "[50]\ttraining's rmse: 115.87\ttraining's l2: 13425.9\tvalid_1's rmse: 130.136\tvalid_1's l2: 16935.5\n",
      "[100]\ttraining's rmse: 92.6031\ttraining's l2: 8575.33\tvalid_1's rmse: 116.471\tvalid_1's l2: 13565.5\n",
      "[150]\ttraining's rmse: 78.9334\ttraining's l2: 6230.48\tvalid_1's rmse: 111.15\tvalid_1's l2: 12354.4\n",
      "[200]\ttraining's rmse: 68.9961\ttraining's l2: 4760.47\tvalid_1's rmse: 108.823\tvalid_1's l2: 11842.4\n",
      "[250]\ttraining's rmse: 61.2518\ttraining's l2: 3751.78\tvalid_1's rmse: 107.348\tvalid_1's l2: 11523.6\n",
      "[300]\ttraining's rmse: 54.8013\ttraining's l2: 3003.19\tvalid_1's rmse: 106.28\tvalid_1's l2: 11295.5\n",
      "[350]\ttraining's rmse: 49.3676\ttraining's l2: 2437.16\tvalid_1's rmse: 105.655\tvalid_1's l2: 11163\n",
      "[400]\ttraining's rmse: 44.6593\ttraining's l2: 1994.45\tvalid_1's rmse: 105.267\tvalid_1's l2: 11081.2\n",
      "Train fold : RMSE = 44.14082 R2 = 0.9823\n",
      "Val  fold  : RMSE = 105.20555 R2 = 0.89919\n",
      "Test total : RMSE = 241.6493 R2 = 0.56958\n",
      "Saving model ...\n",
      "Model saved !  in  ../../Results/Models/LGBMRegressor/LGBMRegressor_fold_5.pkl\n",
      "Train mean cv : RMSE = 50.04927 |  R2 =0.97688\n",
      "Val   mean cv : RMSE = 106.55632 |  R2 =0.89654\n",
      "Test  mean cv : RMSE = 239.47502 |  R2 =0.57729\n",
      "Saving plot in  ../../Results/Models/LGBMRegressor/LGBMRegressor_test_prediction.png\n",
      "******************************\n",
      "Saving folds report in  ../../Results/Models/LGBMRegressor/LGBMRegressor_results_by_fold.csv\n",
      "Saving summary cv report in  ../../Results/Models/LGBMRegressor/LGBMRegressor_results.csv\n"
     ]
    }
   ],
   "source": [
    "from lightgbm import LGBMRegressor\n",
    "\n",
    "\n",
    "model = LGBMRegressor(objective='regression', \n",
    "        n_estimators=1000,\n",
    "        learning_rate=0.1,\n",
    "        subsample=0.8,\n",
    "        colsample_bytree=0.8,\n",
    "        max_depth=25,\n",
    "        num_leaves=200,\n",
    "        min_child_weight=300\n",
    "    )\n",
    "model_name = \"LGBMRegressor\"\n",
    "\n",
    "y_test_pred_cv = training.cross_validate(X_train_pca, y_train, X_test_pca, y_test,\n",
    "                                         n_splits=N_SPLITS,\n",
    "                                         model = model,model_name=model_name,\n",
    "                                         path_model=PATH_MODEL)"
   ]
  },
  {
   "cell_type": "code",
   "execution_count": 16,
   "metadata": {},
   "outputs": [
    {
     "name": "stdout",
     "output_type": "stream",
     "text": [
      "Completed!\n"
     ]
    }
   ],
   "source": [
    "print('Completed!')"
   ]
  },
  {
   "cell_type": "code",
   "execution_count": null,
   "metadata": {},
   "outputs": [],
   "source": []
  },
  {
   "cell_type": "code",
   "execution_count": null,
   "metadata": {},
   "outputs": [],
   "source": []
  },
  {
   "cell_type": "code",
   "execution_count": null,
   "metadata": {},
   "outputs": [],
   "source": []
  },
  {
   "cell_type": "code",
   "execution_count": null,
   "metadata": {},
   "outputs": [],
   "source": []
  }
 ],
 "metadata": {
  "kernelspec": {
   "display_name": "Python 3",
   "language": "python",
   "name": "python3"
  },
  "language_info": {
   "codemirror_mode": {
    "name": "ipython",
    "version": 3
   },
   "file_extension": ".py",
   "mimetype": "text/x-python",
   "name": "python",
   "nbconvert_exporter": "python",
   "pygments_lexer": "ipython3",
   "version": "3.7.13"
  },
  "vscode": {
   "interpreter": {
    "hash": "ab03de97cb27e72b9345597031e3c6c730729f021d7ad0cc14a0cc747ba2231e"
   }
  }
 },
 "nbformat": 4,
 "nbformat_minor": 4
}
